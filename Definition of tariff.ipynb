{
 "cells": [
  {
   "cell_type": "markdown",
   "metadata": {},
   "source": [
    "# Определение перспективного тарифа для телеком-компании\n",
    "## Описание проекта\n",
    "Вы аналитик компании «Мегалайн» — федерального оператора сотовой связи. Клиентам предлагают два тарифных плана: Смарт и Ультра. Чтобы скорректировать рекламный бюджет, коммерческий департамент хочет понять, какой тариф приносит больше денег. Вам предстоит сделать предварительный анализ тарифов на небольшой выборке клиентов. В вашем распоряжении данные 500 пользователей «Мегалайна»: кто они, откуда, каким тарифом пользуются, сколько звонков и сообщений каждый отправил за 2018 год. Нужно проанализировать поведение клиентов и сделать вывод — какой тариф лучше.\n",
    "**Описание тарифов**\n",
    "**Тариф Смарт:**\n",
    "\n",
    "- Ежемесячная плата: 550 рублей\n",
    "- Включено 500 минут разговора, 50 сообщений и 15 Гб интернет-трафика\n",
    "- Стоимость услуг сверх тарифного пакета:\n",
    "    - минута разговора: 3 рубля\n",
    "    - сообщение: 3 рубля\n",
    "    - 1 Гб интернет-трафика: 200 рублей\n",
    "\n",
    "**Тариф Ультра:**\n",
    "\n",
    "- Ежемесячная плата: 1950 рублей\n",
    "- Включено 3000 минут разговора, 1000 сообщений и 30 Гб интернет-трафика\n",
    "- Стоимость услуг сверх тарифного пакета:\n",
    "    - минута разговора: 1 рубль\n",
    "    - сообщение: 1 рубль\n",
    "    - 1 Гб интернет-трафика: 150 рублей\n",
    "    \n",
    "*Обратите внимание: «Мегалайн» всегда округляет секунды до минут, а мегабайты — до гигабайт. Каждый звонок округляется отдельно: даже если он длился всего 1 секунду, будет засчитан как 1 минута.\n",
    "Для веб-трафика отдельные сессии не считаются. Вместо этого общая сумма за месяц округляется в бо́льшую сторону. Если абонент использует 1025 мегабайт в этом месяце, с него возьмут плату за 2 гигабайта.*\n",
    "\n",
    "\n",
    "### Описание данных\n",
    "\n",
    "**Таблица users (информация о пользователях):**\n",
    "\n",
    "- user_id — уникальный идентификатор пользователя\n",
    "- first_name — имя пользователя\n",
    "- last_name — фамилия пользователя\n",
    "- age — возраст пользователя (годы)\n",
    "- reg_date — дата подключения тарифа (день, месяц, год)\n",
    "- churn_date — дата прекращения пользования тарифом (если значение пропущено, то тариф ещё действовал на момент выгрузки данных)\n",
    "- city — город проживания пользователя\n",
    "- tariff — название тарифного плана\n",
    "\n",
    "**Таблица calls (информация о звонках):**\n",
    "\n",
    "- id — уникальный номер звонка\n",
    "- call_date — дата звонка\n",
    "- duration — длительность звонка в минутах\n",
    "- user_id — идентификатор пользователя, сделавшего звонок\n",
    "\n",
    "**Таблица messages (информация о сообщениях):**\n",
    "\n",
    "- id — уникальный номер сообщения\n",
    "- message_date — дата сообщения\n",
    "- user_id — идентификатор пользователя, отправившего сообщение\n",
    "\n",
    "**Таблица internet (информация об интернет-сессиях):**\n",
    "\n",
    "- id — уникальный номер сессии\n",
    "- mb_used — объём потраченного за сессию интернет-трафика (в мегабайтах)\n",
    "- session_date — дата интернет-сессии\n",
    "- user_id — идентификатор пользователя\n",
    "\n",
    "**Таблица tariffs (информация о тарифах):**\n",
    "\n",
    "- tariff_name — название тарифа\n",
    "- rub_monthly_fee — ежемесячная абонентская плата в рублях\n",
    "- minutes_included — количество минут разговора в месяц, включённых в абонентскую плату\n",
    "- messages_included — количество сообщений в месяц, включённых в абонентскую плату\n",
    "- mb_per_month_included — объём интернет-трафика, включённого в абонентскую плату (в мегабайтах)\n",
    "- rub_per_minute — стоимость минуты разговора сверх тарифного пакета (например, если в тарифе 100 минут разговора в месяц, то - со 101 минуты будет взиматься плата)\n",
    "- rub_per_message — стоимость отправки сообщения сверх тарифного пакета\n",
    "- rub_per_gb — стоимость дополнительного гигабайта интернет-трафика сверх тарифного пакета (1 гигабайт = 1024 мегабайта)"
   ]
  },
  {
   "cell_type": "code",
   "execution_count": 1,
   "metadata": {},
   "outputs": [],
   "source": [
    "import pandas as pd\n",
    "import numpy as np\n",
    "import matplotlib.pyplot as plt\n",
    "from scipy import stats as st"
   ]
  },
  {
   "cell_type": "markdown",
   "metadata": {},
   "source": [
    "# Шаг 1. Ознакомление с данными и их обработка"
   ]
  },
  {
   "cell_type": "code",
   "execution_count": 2,
   "metadata": {},
   "outputs": [],
   "source": [
    "#Загрузим данные\n",
    "users = pd.read_csv('/datasets/users.csv')\n",
    "calls = pd.read_csv('/datasets/calls.csv')\n",
    "messages = pd.read_csv('/datasets/messages.csv')\n",
    "internet = pd.read_csv('/datasets/internet.csv')\n",
    "tariffs = pd.read_csv('/datasets/tariffs.csv')"
   ]
  },
  {
   "cell_type": "markdown",
   "metadata": {},
   "source": [
    "### Посомтрим общие данные и почистим их"
   ]
  },
  {
   "cell_type": "markdown",
   "metadata": {},
   "source": [
    "#### Начнем с users"
   ]
  },
  {
   "cell_type": "code",
   "execution_count": 3,
   "metadata": {},
   "outputs": [
    {
     "data": {
      "text/html": [
       "<div>\n",
       "<style scoped>\n",
       "    .dataframe tbody tr th:only-of-type {\n",
       "        vertical-align: middle;\n",
       "    }\n",
       "\n",
       "    .dataframe tbody tr th {\n",
       "        vertical-align: top;\n",
       "    }\n",
       "\n",
       "    .dataframe thead th {\n",
       "        text-align: right;\n",
       "    }\n",
       "</style>\n",
       "<table border=\"1\" class=\"dataframe\">\n",
       "  <thead>\n",
       "    <tr style=\"text-align: right;\">\n",
       "      <th></th>\n",
       "      <th>user_id</th>\n",
       "      <th>age</th>\n",
       "      <th>churn_date</th>\n",
       "      <th>city</th>\n",
       "      <th>first_name</th>\n",
       "      <th>last_name</th>\n",
       "      <th>reg_date</th>\n",
       "      <th>tariff</th>\n",
       "    </tr>\n",
       "  </thead>\n",
       "  <tbody>\n",
       "    <tr>\n",
       "      <td>0</td>\n",
       "      <td>1000</td>\n",
       "      <td>52</td>\n",
       "      <td>NaN</td>\n",
       "      <td>Краснодар</td>\n",
       "      <td>Рафаил</td>\n",
       "      <td>Верещагин</td>\n",
       "      <td>2018-05-25</td>\n",
       "      <td>ultra</td>\n",
       "    </tr>\n",
       "    <tr>\n",
       "      <td>1</td>\n",
       "      <td>1001</td>\n",
       "      <td>41</td>\n",
       "      <td>NaN</td>\n",
       "      <td>Москва</td>\n",
       "      <td>Иван</td>\n",
       "      <td>Ежов</td>\n",
       "      <td>2018-11-01</td>\n",
       "      <td>smart</td>\n",
       "    </tr>\n",
       "    <tr>\n",
       "      <td>2</td>\n",
       "      <td>1002</td>\n",
       "      <td>59</td>\n",
       "      <td>NaN</td>\n",
       "      <td>Стерлитамак</td>\n",
       "      <td>Евгений</td>\n",
       "      <td>Абрамович</td>\n",
       "      <td>2018-06-17</td>\n",
       "      <td>smart</td>\n",
       "    </tr>\n",
       "    <tr>\n",
       "      <td>3</td>\n",
       "      <td>1003</td>\n",
       "      <td>23</td>\n",
       "      <td>NaN</td>\n",
       "      <td>Москва</td>\n",
       "      <td>Белла</td>\n",
       "      <td>Белякова</td>\n",
       "      <td>2018-08-17</td>\n",
       "      <td>ultra</td>\n",
       "    </tr>\n",
       "    <tr>\n",
       "      <td>4</td>\n",
       "      <td>1004</td>\n",
       "      <td>68</td>\n",
       "      <td>NaN</td>\n",
       "      <td>Новокузнецк</td>\n",
       "      <td>Татьяна</td>\n",
       "      <td>Авдеенко</td>\n",
       "      <td>2018-05-14</td>\n",
       "      <td>ultra</td>\n",
       "    </tr>\n",
       "    <tr>\n",
       "      <td>5</td>\n",
       "      <td>1005</td>\n",
       "      <td>67</td>\n",
       "      <td>NaN</td>\n",
       "      <td>Набережные Челны</td>\n",
       "      <td>Афанасий</td>\n",
       "      <td>Горлов</td>\n",
       "      <td>2018-01-25</td>\n",
       "      <td>smart</td>\n",
       "    </tr>\n",
       "    <tr>\n",
       "      <td>6</td>\n",
       "      <td>1006</td>\n",
       "      <td>21</td>\n",
       "      <td>NaN</td>\n",
       "      <td>Ульяновск</td>\n",
       "      <td>Леонид</td>\n",
       "      <td>Ермолаев</td>\n",
       "      <td>2018-02-26</td>\n",
       "      <td>smart</td>\n",
       "    </tr>\n",
       "    <tr>\n",
       "      <td>7</td>\n",
       "      <td>1007</td>\n",
       "      <td>65</td>\n",
       "      <td>NaN</td>\n",
       "      <td>Москва</td>\n",
       "      <td>Юна</td>\n",
       "      <td>Березина</td>\n",
       "      <td>2018-04-19</td>\n",
       "      <td>smart</td>\n",
       "    </tr>\n",
       "    <tr>\n",
       "      <td>8</td>\n",
       "      <td>1008</td>\n",
       "      <td>63</td>\n",
       "      <td>NaN</td>\n",
       "      <td>Челябинск</td>\n",
       "      <td>Рустэм</td>\n",
       "      <td>Пономарёв</td>\n",
       "      <td>2018-12-19</td>\n",
       "      <td>smart</td>\n",
       "    </tr>\n",
       "    <tr>\n",
       "      <td>9</td>\n",
       "      <td>1009</td>\n",
       "      <td>24</td>\n",
       "      <td>NaN</td>\n",
       "      <td>Пермь</td>\n",
       "      <td>Василиса</td>\n",
       "      <td>Блинова</td>\n",
       "      <td>2018-03-22</td>\n",
       "      <td>smart</td>\n",
       "    </tr>\n",
       "  </tbody>\n",
       "</table>\n",
       "</div>"
      ],
      "text/plain": [
       "   user_id  age churn_date              city first_name  last_name  \\\n",
       "0     1000   52        NaN         Краснодар     Рафаил  Верещагин   \n",
       "1     1001   41        NaN            Москва       Иван       Ежов   \n",
       "2     1002   59        NaN       Стерлитамак    Евгений  Абрамович   \n",
       "3     1003   23        NaN            Москва      Белла   Белякова   \n",
       "4     1004   68        NaN       Новокузнецк    Татьяна   Авдеенко   \n",
       "5     1005   67        NaN  Набережные Челны   Афанасий     Горлов   \n",
       "6     1006   21        NaN         Ульяновск     Леонид   Ермолаев   \n",
       "7     1007   65        NaN            Москва        Юна   Березина   \n",
       "8     1008   63        NaN         Челябинск     Рустэм  Пономарёв   \n",
       "9     1009   24        NaN             Пермь   Василиса    Блинова   \n",
       "\n",
       "     reg_date tariff  \n",
       "0  2018-05-25  ultra  \n",
       "1  2018-11-01  smart  \n",
       "2  2018-06-17  smart  \n",
       "3  2018-08-17  ultra  \n",
       "4  2018-05-14  ultra  \n",
       "5  2018-01-25  smart  \n",
       "6  2018-02-26  smart  \n",
       "7  2018-04-19  smart  \n",
       "8  2018-12-19  smart  \n",
       "9  2018-03-22  smart  "
      ]
     },
     "execution_count": 3,
     "metadata": {},
     "output_type": "execute_result"
    }
   ],
   "source": [
    "users.head(10)"
   ]
  },
  {
   "cell_type": "code",
   "execution_count": 4,
   "metadata": {},
   "outputs": [
    {
     "name": "stdout",
     "output_type": "stream",
     "text": [
      "Число строк в датафрейме users: 500\n",
      "Число уникальных пользователей: 500\n",
      "Число дубликатов: 0\n"
     ]
    }
   ],
   "source": [
    "#проверим, все ли пользователи уникальные\n",
    "print(\"Число строк в датафрейме users:\", users.shape[0])\n",
    "print(\"Число уникальных пользователей:\", users['user_id'].count())\n",
    "print(\"Число дубликатов:\", users.duplicated().sum())"
   ]
  },
  {
   "cell_type": "code",
   "execution_count": 5,
   "metadata": {},
   "outputs": [
    {
     "name": "stdout",
     "output_type": "stream",
     "text": [
      "<class 'pandas.core.frame.DataFrame'>\n",
      "RangeIndex: 500 entries, 0 to 499\n",
      "Data columns (total 8 columns):\n",
      "user_id       500 non-null int64\n",
      "age           500 non-null int64\n",
      "churn_date    38 non-null object\n",
      "city          500 non-null object\n",
      "first_name    500 non-null object\n",
      "last_name     500 non-null object\n",
      "reg_date      500 non-null object\n",
      "tariff        500 non-null object\n",
      "dtypes: int64(2), object(6)\n",
      "memory usage: 31.4+ KB\n"
     ]
    }
   ],
   "source": [
    "#Посмотрим на пропуски:\n",
    "users.info()"
   ]
  },
  {
   "cell_type": "markdown",
   "metadata": {},
   "source": [
    "Пропуски только в столбце `churn_date`, причем их довольно много. Смотрим описание задачи - там сказано:\n",
    "*`churn_date` - дата прекращения пользования тарифом (если значение пропущено, то тариф ещё действовал на момент выгрузки данных).*\n",
    "Оставим данные в этом столбце как есть - для решения поставленной задачи они нам не нужны."
   ]
  },
  {
   "cell_type": "markdown",
   "metadata": {},
   "source": [
    "**Вывод**\n",
    "\n",
    "Необходимо изменить тип данных:\n",
    "- reg_date - на datetime.\n",
    "\n",
    "Необходимо добавить следующие столбцы:\n",
    "- месяц;\n",
    "- время года."
   ]
  },
  {
   "cell_type": "markdown",
   "metadata": {},
   "source": [
    "#### Посмотрим таблицу calls"
   ]
  },
  {
   "cell_type": "code",
   "execution_count": 6,
   "metadata": {},
   "outputs": [
    {
     "data": {
      "text/html": [
       "<div>\n",
       "<style scoped>\n",
       "    .dataframe tbody tr th:only-of-type {\n",
       "        vertical-align: middle;\n",
       "    }\n",
       "\n",
       "    .dataframe tbody tr th {\n",
       "        vertical-align: top;\n",
       "    }\n",
       "\n",
       "    .dataframe thead th {\n",
       "        text-align: right;\n",
       "    }\n",
       "</style>\n",
       "<table border=\"1\" class=\"dataframe\">\n",
       "  <thead>\n",
       "    <tr style=\"text-align: right;\">\n",
       "      <th></th>\n",
       "      <th>id</th>\n",
       "      <th>call_date</th>\n",
       "      <th>duration</th>\n",
       "      <th>user_id</th>\n",
       "    </tr>\n",
       "  </thead>\n",
       "  <tbody>\n",
       "    <tr>\n",
       "      <td>0</td>\n",
       "      <td>1000_0</td>\n",
       "      <td>2018-07-25</td>\n",
       "      <td>0.00</td>\n",
       "      <td>1000</td>\n",
       "    </tr>\n",
       "    <tr>\n",
       "      <td>1</td>\n",
       "      <td>1000_1</td>\n",
       "      <td>2018-08-17</td>\n",
       "      <td>0.00</td>\n",
       "      <td>1000</td>\n",
       "    </tr>\n",
       "    <tr>\n",
       "      <td>2</td>\n",
       "      <td>1000_2</td>\n",
       "      <td>2018-06-11</td>\n",
       "      <td>2.85</td>\n",
       "      <td>1000</td>\n",
       "    </tr>\n",
       "    <tr>\n",
       "      <td>3</td>\n",
       "      <td>1000_3</td>\n",
       "      <td>2018-09-21</td>\n",
       "      <td>13.80</td>\n",
       "      <td>1000</td>\n",
       "    </tr>\n",
       "    <tr>\n",
       "      <td>4</td>\n",
       "      <td>1000_4</td>\n",
       "      <td>2018-12-15</td>\n",
       "      <td>5.18</td>\n",
       "      <td>1000</td>\n",
       "    </tr>\n",
       "    <tr>\n",
       "      <td>5</td>\n",
       "      <td>1000_5</td>\n",
       "      <td>2018-11-02</td>\n",
       "      <td>0.00</td>\n",
       "      <td>1000</td>\n",
       "    </tr>\n",
       "    <tr>\n",
       "      <td>6</td>\n",
       "      <td>1000_6</td>\n",
       "      <td>2018-10-18</td>\n",
       "      <td>0.00</td>\n",
       "      <td>1000</td>\n",
       "    </tr>\n",
       "    <tr>\n",
       "      <td>7</td>\n",
       "      <td>1000_7</td>\n",
       "      <td>2018-08-22</td>\n",
       "      <td>18.31</td>\n",
       "      <td>1000</td>\n",
       "    </tr>\n",
       "    <tr>\n",
       "      <td>8</td>\n",
       "      <td>1000_8</td>\n",
       "      <td>2018-09-15</td>\n",
       "      <td>18.44</td>\n",
       "      <td>1000</td>\n",
       "    </tr>\n",
       "    <tr>\n",
       "      <td>9</td>\n",
       "      <td>1000_9</td>\n",
       "      <td>2018-08-15</td>\n",
       "      <td>0.00</td>\n",
       "      <td>1000</td>\n",
       "    </tr>\n",
       "  </tbody>\n",
       "</table>\n",
       "</div>"
      ],
      "text/plain": [
       "       id   call_date  duration  user_id\n",
       "0  1000_0  2018-07-25      0.00     1000\n",
       "1  1000_1  2018-08-17      0.00     1000\n",
       "2  1000_2  2018-06-11      2.85     1000\n",
       "3  1000_3  2018-09-21     13.80     1000\n",
       "4  1000_4  2018-12-15      5.18     1000\n",
       "5  1000_5  2018-11-02      0.00     1000\n",
       "6  1000_6  2018-10-18      0.00     1000\n",
       "7  1000_7  2018-08-22     18.31     1000\n",
       "8  1000_8  2018-09-15     18.44     1000\n",
       "9  1000_9  2018-08-15      0.00     1000"
      ]
     },
     "execution_count": 6,
     "metadata": {},
     "output_type": "execute_result"
    }
   ],
   "source": [
    "calls.head(10)"
   ]
  },
  {
   "cell_type": "code",
   "execution_count": 7,
   "metadata": {},
   "outputs": [
    {
     "name": "stdout",
     "output_type": "stream",
     "text": [
      "<class 'pandas.core.frame.DataFrame'>\n",
      "RangeIndex: 202607 entries, 0 to 202606\n",
      "Data columns (total 4 columns):\n",
      "id           202607 non-null object\n",
      "call_date    202607 non-null object\n",
      "duration     202607 non-null float64\n",
      "user_id      202607 non-null int64\n",
      "dtypes: float64(1), int64(1), object(2)\n",
      "memory usage: 6.2+ MB\n"
     ]
    }
   ],
   "source": [
    "calls.info()"
   ]
  },
  {
   "cell_type": "markdown",
   "metadata": {},
   "source": [
    "**Вывод**\n",
    "Данные полные, без пропусков.\n",
    "\n",
    "Необходимо изменить тип данных:\n",
    "\n",
    "- call_date - на datetime."
   ]
  },
  {
   "cell_type": "code",
   "execution_count": 8,
   "metadata": {},
   "outputs": [
    {
     "data": {
      "text/plain": [
       "Text(0, 0.5, 'Количество')"
      ]
     },
     "execution_count": 8,
     "metadata": {},
     "output_type": "execute_result"
    },
    {
     "data": {
      "image/png": "[encoded data removed]",
      "text/plain": [
       "<Figure size 432x288 with 1 Axes>"
      ]
     },
     "metadata": {
      "needs_background": "light"
     },
     "output_type": "display_data"
    }
   ],
   "source": [
    "ax = calls['duration'].plot(kind='hist', ec='black', bins=50)\n",
    "ax.set_title(\"Распределение длительности звонков\")\n",
    "ax.set_xlabel('Минуты')\n",
    "ax.set_ylabel('Количество')"
   ]
  },
  {
   "cell_type": "markdown",
   "metadata": {},
   "source": [
    "*Обратите внимание: «Мегалайн» всегда округляет секунды до минут, а мегабайты — до гигабайт. Каждый звонок округляется отдельно: даже если он длился всего 1 секунду, будет засчитан как 1 минута.\n",
    "Для веб-трафика отдельные сессии не считаются. Вместо этого общая сумма за месяц округляется в бо́льшую сторону. Если абонент использует 1025 мегабайт в этом месяце, с него возьмут плату за 2 гигабайта.*"
   ]
  },
  {
   "cell_type": "code",
   "execution_count": 10,
   "metadata": {},
   "outputs": [
    {
     "data": {
      "text/html": [
       "<div>\n",
       "<style scoped>\n",
       "    .dataframe tbody tr th:only-of-type {\n",
       "        vertical-align: middle;\n",
       "    }\n",
       "\n",
       "    .dataframe tbody tr th {\n",
       "        vertical-align: top;\n",
       "    }\n",
       "\n",
       "    .dataframe thead th {\n",
       "        text-align: right;\n",
       "    }\n",
       "</style>\n",
       "<table border=\"1\" class=\"dataframe\">\n",
       "  <thead>\n",
       "    <tr style=\"text-align: right;\">\n",
       "      <th></th>\n",
       "      <th>id</th>\n",
       "      <th>call_date</th>\n",
       "      <th>duration</th>\n",
       "      <th>user_id</th>\n",
       "    </tr>\n",
       "  </thead>\n",
       "  <tbody>\n",
       "    <tr>\n",
       "      <td>0</td>\n",
       "      <td>1000_0</td>\n",
       "      <td>2018-07-25</td>\n",
       "      <td>0.0</td>\n",
       "      <td>1000</td>\n",
       "    </tr>\n",
       "    <tr>\n",
       "      <td>1</td>\n",
       "      <td>1000_1</td>\n",
       "      <td>2018-08-17</td>\n",
       "      <td>0.0</td>\n",
       "      <td>1000</td>\n",
       "    </tr>\n",
       "    <tr>\n",
       "      <td>2</td>\n",
       "      <td>1000_2</td>\n",
       "      <td>2018-06-11</td>\n",
       "      <td>3.0</td>\n",
       "      <td>1000</td>\n",
       "    </tr>\n",
       "    <tr>\n",
       "      <td>3</td>\n",
       "      <td>1000_3</td>\n",
       "      <td>2018-09-21</td>\n",
       "      <td>14.0</td>\n",
       "      <td>1000</td>\n",
       "    </tr>\n",
       "    <tr>\n",
       "      <td>4</td>\n",
       "      <td>1000_4</td>\n",
       "      <td>2018-12-15</td>\n",
       "      <td>6.0</td>\n",
       "      <td>1000</td>\n",
       "    </tr>\n",
       "  </tbody>\n",
       "</table>\n",
       "</div>"
      ],
      "text/plain": [
       "       id   call_date  duration  user_id\n",
       "0  1000_0  2018-07-25       0.0     1000\n",
       "1  1000_1  2018-08-17       0.0     1000\n",
       "2  1000_2  2018-06-11       3.0     1000\n",
       "3  1000_3  2018-09-21      14.0     1000\n",
       "4  1000_4  2018-12-15       6.0     1000"
      ]
     },
     "execution_count": 10,
     "metadata": {},
     "output_type": "execute_result"
    }
   ],
   "source": [
    "#Округляем в большую сторону до минуты все звонки при помощи np.ceil\n",
    "calls['duration'] = calls['duration'].apply(np.ceil)\n",
    "calls.head()"
   ]
  },
  {
   "cell_type": "code",
   "execution_count": 11,
   "metadata": {},
   "outputs": [
    {
     "data": {
      "text/plain": [
       "Text(0, 0.5, 'Количество')"
      ]
     },
     "execution_count": 11,
     "metadata": {},
     "output_type": "execute_result"
    },
    {
     "data": {
      "image/png": "[encoded data removed]",
      "text/plain": [
       "<Figure size 432x288 with 1 Axes>"
      ]
     },
     "metadata": {
      "needs_background": "light"
     },
     "output_type": "display_data"
    }
   ],
   "source": [
    "#Повторно посмотрим гистограмму после округления\n",
    "ax = calls['duration'].plot(kind='hist', ec='black', bins=50)\n",
    "ax.set_title(\"Распределение длительности звонков\")\n",
    "ax.set_xlabel('Минуты')\n",
    "ax.set_ylabel('Количество')"
   ]
  },
  {
   "cell_type": "code",
   "execution_count": 12,
   "metadata": {},
   "outputs": [
    {
     "data": {
      "text/html": [
       "<div>\n",
       "<style scoped>\n",
       "    .dataframe tbody tr th:only-of-type {\n",
       "        vertical-align: middle;\n",
       "    }\n",
       "\n",
       "    .dataframe tbody tr th {\n",
       "        vertical-align: top;\n",
       "    }\n",
       "\n",
       "    .dataframe thead th {\n",
       "        text-align: right;\n",
       "    }\n",
       "</style>\n",
       "<table border=\"1\" class=\"dataframe\">\n",
       "  <thead>\n",
       "    <tr style=\"text-align: right;\">\n",
       "      <th></th>\n",
       "      <th>id</th>\n",
       "      <th>call_date</th>\n",
       "      <th>duration</th>\n",
       "      <th>user_id</th>\n",
       "    </tr>\n",
       "  </thead>\n",
       "  <tbody>\n",
       "    <tr>\n",
       "      <td>0</td>\n",
       "      <td>1000_0</td>\n",
       "      <td>2018-07-25</td>\n",
       "      <td>0.0</td>\n",
       "      <td>1000</td>\n",
       "    </tr>\n",
       "    <tr>\n",
       "      <td>1</td>\n",
       "      <td>1000_1</td>\n",
       "      <td>2018-08-17</td>\n",
       "      <td>0.0</td>\n",
       "      <td>1000</td>\n",
       "    </tr>\n",
       "    <tr>\n",
       "      <td>5</td>\n",
       "      <td>1000_5</td>\n",
       "      <td>2018-11-02</td>\n",
       "      <td>0.0</td>\n",
       "      <td>1000</td>\n",
       "    </tr>\n",
       "    <tr>\n",
       "      <td>6</td>\n",
       "      <td>1000_6</td>\n",
       "      <td>2018-10-18</td>\n",
       "      <td>0.0</td>\n",
       "      <td>1000</td>\n",
       "    </tr>\n",
       "    <tr>\n",
       "      <td>9</td>\n",
       "      <td>1000_9</td>\n",
       "      <td>2018-08-15</td>\n",
       "      <td>0.0</td>\n",
       "      <td>1000</td>\n",
       "    </tr>\n",
       "    <tr>\n",
       "      <td>...</td>\n",
       "      <td>...</td>\n",
       "      <td>...</td>\n",
       "      <td>...</td>\n",
       "      <td>...</td>\n",
       "    </tr>\n",
       "    <tr>\n",
       "      <td>202590</td>\n",
       "      <td>1499_203</td>\n",
       "      <td>2018-12-03</td>\n",
       "      <td>0.0</td>\n",
       "      <td>1499</td>\n",
       "    </tr>\n",
       "    <tr>\n",
       "      <td>202592</td>\n",
       "      <td>1499_205</td>\n",
       "      <td>2018-10-13</td>\n",
       "      <td>0.0</td>\n",
       "      <td>1499</td>\n",
       "    </tr>\n",
       "    <tr>\n",
       "      <td>202593</td>\n",
       "      <td>1499_206</td>\n",
       "      <td>2018-12-26</td>\n",
       "      <td>0.0</td>\n",
       "      <td>1499</td>\n",
       "    </tr>\n",
       "    <tr>\n",
       "      <td>202594</td>\n",
       "      <td>1499_207</td>\n",
       "      <td>2018-10-28</td>\n",
       "      <td>0.0</td>\n",
       "      <td>1499</td>\n",
       "    </tr>\n",
       "    <tr>\n",
       "      <td>202596</td>\n",
       "      <td>1499_209</td>\n",
       "      <td>2018-12-16</td>\n",
       "      <td>0.0</td>\n",
       "      <td>1499</td>\n",
       "    </tr>\n",
       "  </tbody>\n",
       "</table>\n",
       "<p>39613 rows × 4 columns</p>\n",
       "</div>"
      ],
      "text/plain": [
       "              id   call_date  duration  user_id\n",
       "0         1000_0  2018-07-25       0.0     1000\n",
       "1         1000_1  2018-08-17       0.0     1000\n",
       "5         1000_5  2018-11-02       0.0     1000\n",
       "6         1000_6  2018-10-18       0.0     1000\n",
       "9         1000_9  2018-08-15       0.0     1000\n",
       "...          ...         ...       ...      ...\n",
       "202590  1499_203  2018-12-03       0.0     1499\n",
       "202592  1499_205  2018-10-13       0.0     1499\n",
       "202593  1499_206  2018-12-26       0.0     1499\n",
       "202594  1499_207  2018-10-28       0.0     1499\n",
       "202596  1499_209  2018-12-16       0.0     1499\n",
       "\n",
       "[39613 rows x 4 columns]"
      ]
     },
     "execution_count": 12,
     "metadata": {},
     "output_type": "execute_result"
    }
   ],
   "source": [
    "#Посмотрим сколько нулевых звонков\n",
    "calls.query('duration == 0.0')"
   ]
  },
  {
   "cell_type": "markdown",
   "metadata": {},
   "source": [
    "Как видим их довольно много. Они не расходуют лимиты минут и вообще не принимают участия в формировании конечной выручки, удаляем эти строки"
   ]
  },
  {
   "cell_type": "code",
   "execution_count": 13,
   "metadata": {},
   "outputs": [],
   "source": [
    "calls['duration'] = calls['duration'].replace(0, np.NaN)\n",
    "calls = calls.dropna()"
   ]
  },
  {
   "cell_type": "code",
   "execution_count": 14,
   "metadata": {},
   "outputs": [
    {
     "data": {
      "text/plain": [
       "Text(0, 0.5, 'Количество')"
      ]
     },
     "execution_count": 14,
     "metadata": {},
     "output_type": "execute_result"
    },
    {
     "data": {
      "image/png": "[encoded data removed]",
      "text/plain": [
       "<Figure size 432x288 with 1 Axes>"
      ]
     },
     "metadata": {
      "needs_background": "light"
     },
     "output_type": "display_data"
    }
   ],
   "source": [
    "ax = calls['duration'].plot(kind='hist', ec='black', bins=50)\n",
    "ax.set_title(\"Распределение длительности звонков\")\n",
    "ax.set_xlabel('Минуты')\n",
    "ax.set_ylabel('Количество')"
   ]
  },
  {
   "cell_type": "markdown",
   "metadata": {},
   "source": [
    "#### Посмотрим таблицу messages"
   ]
  },
  {
   "cell_type": "code",
   "execution_count": 15,
   "metadata": {},
   "outputs": [
    {
     "data": {
      "text/html": [
       "<div>\n",
       "<style scoped>\n",
       "    .dataframe tbody tr th:only-of-type {\n",
       "        vertical-align: middle;\n",
       "    }\n",
       "\n",
       "    .dataframe tbody tr th {\n",
       "        vertical-align: top;\n",
       "    }\n",
       "\n",
       "    .dataframe thead th {\n",
       "        text-align: right;\n",
       "    }\n",
       "</style>\n",
       "<table border=\"1\" class=\"dataframe\">\n",
       "  <thead>\n",
       "    <tr style=\"text-align: right;\">\n",
       "      <th></th>\n",
       "      <th>id</th>\n",
       "      <th>message_date</th>\n",
       "      <th>user_id</th>\n",
       "    </tr>\n",
       "  </thead>\n",
       "  <tbody>\n",
       "    <tr>\n",
       "      <td>0</td>\n",
       "      <td>1000_0</td>\n",
       "      <td>2018-06-27</td>\n",
       "      <td>1000</td>\n",
       "    </tr>\n",
       "    <tr>\n",
       "      <td>1</td>\n",
       "      <td>1000_1</td>\n",
       "      <td>2018-10-08</td>\n",
       "      <td>1000</td>\n",
       "    </tr>\n",
       "    <tr>\n",
       "      <td>2</td>\n",
       "      <td>1000_2</td>\n",
       "      <td>2018-08-04</td>\n",
       "      <td>1000</td>\n",
       "    </tr>\n",
       "    <tr>\n",
       "      <td>3</td>\n",
       "      <td>1000_3</td>\n",
       "      <td>2018-06-16</td>\n",
       "      <td>1000</td>\n",
       "    </tr>\n",
       "    <tr>\n",
       "      <td>4</td>\n",
       "      <td>1000_4</td>\n",
       "      <td>2018-12-05</td>\n",
       "      <td>1000</td>\n",
       "    </tr>\n",
       "    <tr>\n",
       "      <td>5</td>\n",
       "      <td>1000_5</td>\n",
       "      <td>2018-06-20</td>\n",
       "      <td>1000</td>\n",
       "    </tr>\n",
       "    <tr>\n",
       "      <td>6</td>\n",
       "      <td>1000_6</td>\n",
       "      <td>2018-11-19</td>\n",
       "      <td>1000</td>\n",
       "    </tr>\n",
       "    <tr>\n",
       "      <td>7</td>\n",
       "      <td>1000_7</td>\n",
       "      <td>2018-10-29</td>\n",
       "      <td>1000</td>\n",
       "    </tr>\n",
       "    <tr>\n",
       "      <td>8</td>\n",
       "      <td>1000_8</td>\n",
       "      <td>2018-06-25</td>\n",
       "      <td>1000</td>\n",
       "    </tr>\n",
       "    <tr>\n",
       "      <td>9</td>\n",
       "      <td>1000_9</td>\n",
       "      <td>2018-12-18</td>\n",
       "      <td>1000</td>\n",
       "    </tr>\n",
       "  </tbody>\n",
       "</table>\n",
       "</div>"
      ],
      "text/plain": [
       "       id message_date  user_id\n",
       "0  1000_0   2018-06-27     1000\n",
       "1  1000_1   2018-10-08     1000\n",
       "2  1000_2   2018-08-04     1000\n",
       "3  1000_3   2018-06-16     1000\n",
       "4  1000_4   2018-12-05     1000\n",
       "5  1000_5   2018-06-20     1000\n",
       "6  1000_6   2018-11-19     1000\n",
       "7  1000_7   2018-10-29     1000\n",
       "8  1000_8   2018-06-25     1000\n",
       "9  1000_9   2018-12-18     1000"
      ]
     },
     "execution_count": 15,
     "metadata": {},
     "output_type": "execute_result"
    }
   ],
   "source": [
    "messages.head(10)"
   ]
  },
  {
   "cell_type": "code",
   "execution_count": 16,
   "metadata": {},
   "outputs": [
    {
     "name": "stdout",
     "output_type": "stream",
     "text": [
      "<class 'pandas.core.frame.DataFrame'>\n",
      "RangeIndex: 123036 entries, 0 to 123035\n",
      "Data columns (total 3 columns):\n",
      "id              123036 non-null object\n",
      "message_date    123036 non-null object\n",
      "user_id         123036 non-null int64\n",
      "dtypes: int64(1), object(2)\n",
      "memory usage: 2.8+ MB\n"
     ]
    }
   ],
   "source": [
    "messages.info()"
   ]
  },
  {
   "cell_type": "markdown",
   "metadata": {},
   "source": [
    "**Вывод**\n",
    "Данные полные, без пропусков.\n",
    "\n",
    "Необходимо изменить тип данных:\n",
    "\n",
    "- message_date - на datetime."
   ]
  },
  {
   "cell_type": "markdown",
   "metadata": {},
   "source": [
    "#### Посмотрим таблицу internet"
   ]
  },
  {
   "cell_type": "code",
   "execution_count": 17,
   "metadata": {},
   "outputs": [
    {
     "data": {
      "text/html": [
       "<div>\n",
       "<style scoped>\n",
       "    .dataframe tbody tr th:only-of-type {\n",
       "        vertical-align: middle;\n",
       "    }\n",
       "\n",
       "    .dataframe tbody tr th {\n",
       "        vertical-align: top;\n",
       "    }\n",
       "\n",
       "    .dataframe thead th {\n",
       "        text-align: right;\n",
       "    }\n",
       "</style>\n",
       "<table border=\"1\" class=\"dataframe\">\n",
       "  <thead>\n",
       "    <tr style=\"text-align: right;\">\n",
       "      <th></th>\n",
       "      <th>Unnamed: 0</th>\n",
       "      <th>id</th>\n",
       "      <th>mb_used</th>\n",
       "      <th>session_date</th>\n",
       "      <th>user_id</th>\n",
       "    </tr>\n",
       "  </thead>\n",
       "  <tbody>\n",
       "    <tr>\n",
       "      <td>0</td>\n",
       "      <td>0</td>\n",
       "      <td>1000_0</td>\n",
       "      <td>112.95</td>\n",
       "      <td>2018-11-25</td>\n",
       "      <td>1000</td>\n",
       "    </tr>\n",
       "    <tr>\n",
       "      <td>1</td>\n",
       "      <td>1</td>\n",
       "      <td>1000_1</td>\n",
       "      <td>1052.81</td>\n",
       "      <td>2018-09-07</td>\n",
       "      <td>1000</td>\n",
       "    </tr>\n",
       "    <tr>\n",
       "      <td>2</td>\n",
       "      <td>2</td>\n",
       "      <td>1000_2</td>\n",
       "      <td>1197.26</td>\n",
       "      <td>2018-06-25</td>\n",
       "      <td>1000</td>\n",
       "    </tr>\n",
       "    <tr>\n",
       "      <td>3</td>\n",
       "      <td>3</td>\n",
       "      <td>1000_3</td>\n",
       "      <td>550.27</td>\n",
       "      <td>2018-08-22</td>\n",
       "      <td>1000</td>\n",
       "    </tr>\n",
       "    <tr>\n",
       "      <td>4</td>\n",
       "      <td>4</td>\n",
       "      <td>1000_4</td>\n",
       "      <td>302.56</td>\n",
       "      <td>2018-09-24</td>\n",
       "      <td>1000</td>\n",
       "    </tr>\n",
       "    <tr>\n",
       "      <td>5</td>\n",
       "      <td>5</td>\n",
       "      <td>1000_5</td>\n",
       "      <td>399.97</td>\n",
       "      <td>2018-10-02</td>\n",
       "      <td>1000</td>\n",
       "    </tr>\n",
       "    <tr>\n",
       "      <td>6</td>\n",
       "      <td>6</td>\n",
       "      <td>1000_6</td>\n",
       "      <td>540.08</td>\n",
       "      <td>2018-09-07</td>\n",
       "      <td>1000</td>\n",
       "    </tr>\n",
       "    <tr>\n",
       "      <td>7</td>\n",
       "      <td>7</td>\n",
       "      <td>1000_7</td>\n",
       "      <td>415.70</td>\n",
       "      <td>2018-07-11</td>\n",
       "      <td>1000</td>\n",
       "    </tr>\n",
       "    <tr>\n",
       "      <td>8</td>\n",
       "      <td>8</td>\n",
       "      <td>1000_8</td>\n",
       "      <td>505.40</td>\n",
       "      <td>2018-10-08</td>\n",
       "      <td>1000</td>\n",
       "    </tr>\n",
       "    <tr>\n",
       "      <td>9</td>\n",
       "      <td>9</td>\n",
       "      <td>1000_9</td>\n",
       "      <td>345.54</td>\n",
       "      <td>2018-09-03</td>\n",
       "      <td>1000</td>\n",
       "    </tr>\n",
       "  </tbody>\n",
       "</table>\n",
       "</div>"
      ],
      "text/plain": [
       "   Unnamed: 0      id  mb_used session_date  user_id\n",
       "0           0  1000_0   112.95   2018-11-25     1000\n",
       "1           1  1000_1  1052.81   2018-09-07     1000\n",
       "2           2  1000_2  1197.26   2018-06-25     1000\n",
       "3           3  1000_3   550.27   2018-08-22     1000\n",
       "4           4  1000_4   302.56   2018-09-24     1000\n",
       "5           5  1000_5   399.97   2018-10-02     1000\n",
       "6           6  1000_6   540.08   2018-09-07     1000\n",
       "7           7  1000_7   415.70   2018-07-11     1000\n",
       "8           8  1000_8   505.40   2018-10-08     1000\n",
       "9           9  1000_9   345.54   2018-09-03     1000"
      ]
     },
     "execution_count": 17,
     "metadata": {},
     "output_type": "execute_result"
    }
   ],
   "source": [
    "internet.head(10)"
   ]
  },
  {
   "cell_type": "code",
   "execution_count": 18,
   "metadata": {},
   "outputs": [
    {
     "name": "stdout",
     "output_type": "stream",
     "text": [
      "<class 'pandas.core.frame.DataFrame'>\n",
      "RangeIndex: 149396 entries, 0 to 149395\n",
      "Data columns (total 5 columns):\n",
      "Unnamed: 0      149396 non-null int64\n",
      "id              149396 non-null object\n",
      "mb_used         149396 non-null float64\n",
      "session_date    149396 non-null object\n",
      "user_id         149396 non-null int64\n",
      "dtypes: float64(1), int64(2), object(2)\n",
      "memory usage: 5.7+ MB\n"
     ]
    }
   ],
   "source": [
    "internet.info()"
   ]
  },
  {
   "cell_type": "markdown",
   "metadata": {},
   "source": [
    "**Вывод**\n",
    "Данные полные без пропусков\n",
    "\n",
    "Необходимо изменить тип данных:\n",
    "\n",
    "- session_date - на datetime."
   ]
  },
  {
   "cell_type": "code",
   "execution_count": 19,
   "metadata": {},
   "outputs": [
    {
     "data": {
      "text/html": [
       "<div>\n",
       "<style scoped>\n",
       "    .dataframe tbody tr th:only-of-type {\n",
       "        vertical-align: middle;\n",
       "    }\n",
       "\n",
       "    .dataframe tbody tr th {\n",
       "        vertical-align: top;\n",
       "    }\n",
       "\n",
       "    .dataframe thead th {\n",
       "        text-align: right;\n",
       "    }\n",
       "</style>\n",
       "<table border=\"1\" class=\"dataframe\">\n",
       "  <thead>\n",
       "    <tr style=\"text-align: right;\">\n",
       "      <th></th>\n",
       "      <th>Unnamed: 0</th>\n",
       "      <th>id</th>\n",
       "      <th>mb_used</th>\n",
       "      <th>session_date</th>\n",
       "      <th>user_id</th>\n",
       "    </tr>\n",
       "  </thead>\n",
       "  <tbody>\n",
       "    <tr>\n",
       "      <td>0</td>\n",
       "      <td>0</td>\n",
       "      <td>1000_0</td>\n",
       "      <td>113.0</td>\n",
       "      <td>2018-11-25</td>\n",
       "      <td>1000</td>\n",
       "    </tr>\n",
       "    <tr>\n",
       "      <td>1</td>\n",
       "      <td>1</td>\n",
       "      <td>1000_1</td>\n",
       "      <td>1053.0</td>\n",
       "      <td>2018-09-07</td>\n",
       "      <td>1000</td>\n",
       "    </tr>\n",
       "    <tr>\n",
       "      <td>2</td>\n",
       "      <td>2</td>\n",
       "      <td>1000_2</td>\n",
       "      <td>1198.0</td>\n",
       "      <td>2018-06-25</td>\n",
       "      <td>1000</td>\n",
       "    </tr>\n",
       "    <tr>\n",
       "      <td>3</td>\n",
       "      <td>3</td>\n",
       "      <td>1000_3</td>\n",
       "      <td>551.0</td>\n",
       "      <td>2018-08-22</td>\n",
       "      <td>1000</td>\n",
       "    </tr>\n",
       "    <tr>\n",
       "      <td>4</td>\n",
       "      <td>4</td>\n",
       "      <td>1000_4</td>\n",
       "      <td>303.0</td>\n",
       "      <td>2018-09-24</td>\n",
       "      <td>1000</td>\n",
       "    </tr>\n",
       "  </tbody>\n",
       "</table>\n",
       "</div>"
      ],
      "text/plain": [
       "   Unnamed: 0      id  mb_used session_date  user_id\n",
       "0           0  1000_0    113.0   2018-11-25     1000\n",
       "1           1  1000_1   1053.0   2018-09-07     1000\n",
       "2           2  1000_2   1198.0   2018-06-25     1000\n",
       "3           3  1000_3    551.0   2018-08-22     1000\n",
       "4           4  1000_4    303.0   2018-09-24     1000"
      ]
     },
     "execution_count": 19,
     "metadata": {},
     "output_type": "execute_result"
    }
   ],
   "source": [
    "#Вспоминаем политику компании по округлению трафика до целых значений\n",
    "#Округляем в большую сторону до мегабайта весь трафик по каждой сессии при помощи np.ceil\n",
    "internet['mb_used'] = internet['mb_used'].apply(np.ceil)\n",
    "internet.head()"
   ]
  },
  {
   "cell_type": "code",
   "execution_count": 20,
   "metadata": {},
   "outputs": [
    {
     "data": {
      "text/plain": [
       "Text(0, 0.5, 'Количество')"
      ]
     },
     "execution_count": 20,
     "metadata": {},
     "output_type": "execute_result"
    },
    {
     "data": {
      "image/png": "[encoded data removed]",
      "text/plain": [
       "<Figure size 432x288 with 1 Axes>"
      ]
     },
     "metadata": {
      "needs_background": "light"
     },
     "output_type": "display_data"
    }
   ],
   "source": [
    "#Посмотрим на гистограмму распределения использования интернет-трафика\n",
    "ax = internet['mb_used'].plot(kind='hist', ec='black', bins=50)\n",
    "ax.set_title(\"Распределение использования интернет-трафика\")\n",
    "ax.set_xlabel('Мегабайты')\n",
    "ax.set_ylabel('Количество')"
   ]
  },
  {
   "cell_type": "code",
   "execution_count": 21,
   "metadata": {},
   "outputs": [
    {
     "data": {
      "text/html": [
       "<div>\n",
       "<style scoped>\n",
       "    .dataframe tbody tr th:only-of-type {\n",
       "        vertical-align: middle;\n",
       "    }\n",
       "\n",
       "    .dataframe tbody tr th {\n",
       "        vertical-align: top;\n",
       "    }\n",
       "\n",
       "    .dataframe thead th {\n",
       "        text-align: right;\n",
       "    }\n",
       "</style>\n",
       "<table border=\"1\" class=\"dataframe\">\n",
       "  <thead>\n",
       "    <tr style=\"text-align: right;\">\n",
       "      <th></th>\n",
       "      <th>Unnamed: 0</th>\n",
       "      <th>id</th>\n",
       "      <th>mb_used</th>\n",
       "      <th>session_date</th>\n",
       "      <th>user_id</th>\n",
       "    </tr>\n",
       "  </thead>\n",
       "  <tbody>\n",
       "    <tr>\n",
       "      <td>11</td>\n",
       "      <td>11</td>\n",
       "      <td>1000_11</td>\n",
       "      <td>0.0</td>\n",
       "      <td>2018-08-28</td>\n",
       "      <td>1000</td>\n",
       "    </tr>\n",
       "    <tr>\n",
       "      <td>38</td>\n",
       "      <td>38</td>\n",
       "      <td>1000_38</td>\n",
       "      <td>0.0</td>\n",
       "      <td>2018-11-27</td>\n",
       "      <td>1000</td>\n",
       "    </tr>\n",
       "    <tr>\n",
       "      <td>46</td>\n",
       "      <td>46</td>\n",
       "      <td>1000_46</td>\n",
       "      <td>0.0</td>\n",
       "      <td>2018-06-30</td>\n",
       "      <td>1000</td>\n",
       "    </tr>\n",
       "    <tr>\n",
       "      <td>67</td>\n",
       "      <td>67</td>\n",
       "      <td>1000_67</td>\n",
       "      <td>0.0</td>\n",
       "      <td>2018-06-16</td>\n",
       "      <td>1000</td>\n",
       "    </tr>\n",
       "    <tr>\n",
       "      <td>72</td>\n",
       "      <td>72</td>\n",
       "      <td>1000_72</td>\n",
       "      <td>0.0</td>\n",
       "      <td>2018-06-15</td>\n",
       "      <td>1000</td>\n",
       "    </tr>\n",
       "    <tr>\n",
       "      <td>...</td>\n",
       "      <td>...</td>\n",
       "      <td>...</td>\n",
       "      <td>...</td>\n",
       "      <td>...</td>\n",
       "      <td>...</td>\n",
       "    </tr>\n",
       "    <tr>\n",
       "      <td>149380</td>\n",
       "      <td>149380</td>\n",
       "      <td>1499_141</td>\n",
       "      <td>0.0</td>\n",
       "      <td>2018-12-11</td>\n",
       "      <td>1499</td>\n",
       "    </tr>\n",
       "    <tr>\n",
       "      <td>149381</td>\n",
       "      <td>149381</td>\n",
       "      <td>1499_142</td>\n",
       "      <td>0.0</td>\n",
       "      <td>2018-11-01</td>\n",
       "      <td>1499</td>\n",
       "    </tr>\n",
       "    <tr>\n",
       "      <td>149383</td>\n",
       "      <td>149383</td>\n",
       "      <td>1499_144</td>\n",
       "      <td>0.0</td>\n",
       "      <td>2018-11-27</td>\n",
       "      <td>1499</td>\n",
       "    </tr>\n",
       "    <tr>\n",
       "      <td>149386</td>\n",
       "      <td>149386</td>\n",
       "      <td>1499_147</td>\n",
       "      <td>0.0</td>\n",
       "      <td>2018-10-21</td>\n",
       "      <td>1499</td>\n",
       "    </tr>\n",
       "    <tr>\n",
       "      <td>149393</td>\n",
       "      <td>149393</td>\n",
       "      <td>1499_154</td>\n",
       "      <td>0.0</td>\n",
       "      <td>2018-10-27</td>\n",
       "      <td>1499</td>\n",
       "    </tr>\n",
       "  </tbody>\n",
       "</table>\n",
       "<p>19598 rows × 5 columns</p>\n",
       "</div>"
      ],
      "text/plain": [
       "        Unnamed: 0        id  mb_used session_date  user_id\n",
       "11              11   1000_11      0.0   2018-08-28     1000\n",
       "38              38   1000_38      0.0   2018-11-27     1000\n",
       "46              46   1000_46      0.0   2018-06-30     1000\n",
       "67              67   1000_67      0.0   2018-06-16     1000\n",
       "72              72   1000_72      0.0   2018-06-15     1000\n",
       "...            ...       ...      ...          ...      ...\n",
       "149380      149380  1499_141      0.0   2018-12-11     1499\n",
       "149381      149381  1499_142      0.0   2018-11-01     1499\n",
       "149383      149383  1499_144      0.0   2018-11-27     1499\n",
       "149386      149386  1499_147      0.0   2018-10-21     1499\n",
       "149393      149393  1499_154      0.0   2018-10-27     1499\n",
       "\n",
       "[19598 rows x 5 columns]"
      ]
     },
     "execution_count": 21,
     "metadata": {},
     "output_type": "execute_result"
    }
   ],
   "source": [
    "#Также посмотрим на 'нулевые' строчки\n",
    "internet.query('mb_used == 0')"
   ]
  },
  {
   "cell_type": "markdown",
   "metadata": {},
   "source": [
    "Их также довольно много! Также удаляем их."
   ]
  },
  {
   "cell_type": "code",
   "execution_count": 22,
   "metadata": {},
   "outputs": [],
   "source": [
    "#Исключили нулевые строки\n",
    "internet['mb_used'] = internet['mb_used'].replace(0, np.NaN)\n",
    "internet = internet.dropna()"
   ]
  },
  {
   "cell_type": "code",
   "execution_count": 23,
   "metadata": {},
   "outputs": [
    {
     "data": {
      "text/plain": [
       "Text(0, 0.5, 'Количество')"
      ]
     },
     "execution_count": 23,
     "metadata": {},
     "output_type": "execute_result"
    },
    {
     "data": {
      "image/png": "[encoded data removed]",
      "text/plain": [
       "<Figure size 432x288 with 1 Axes>"
      ]
     },
     "metadata": {
      "needs_background": "light"
     },
     "output_type": "display_data"
    }
   ],
   "source": [
    "ax = internet['mb_used'].plot(kind='hist', ec='black', bins=50)\n",
    "ax.set_title(\"Распределение использования интернет-трафика\")\n",
    "ax.set_xlabel('Мегабайты')\n",
    "ax.set_ylabel('Количество')"
   ]
  },
  {
   "cell_type": "markdown",
   "metadata": {},
   "source": [
    "#### Посмотрим таблицу tariffs"
   ]
  },
  {
   "cell_type": "code",
   "execution_count": 24,
   "metadata": {},
   "outputs": [
    {
     "data": {
      "text/html": [
       "<div>\n",
       "<style scoped>\n",
       "    .dataframe tbody tr th:only-of-type {\n",
       "        vertical-align: middle;\n",
       "    }\n",
       "\n",
       "    .dataframe tbody tr th {\n",
       "        vertical-align: top;\n",
       "    }\n",
       "\n",
       "    .dataframe thead th {\n",
       "        text-align: right;\n",
       "    }\n",
       "</style>\n",
       "<table border=\"1\" class=\"dataframe\">\n",
       "  <thead>\n",
       "    <tr style=\"text-align: right;\">\n",
       "      <th></th>\n",
       "      <th>messages_included</th>\n",
       "      <th>mb_per_month_included</th>\n",
       "      <th>minutes_included</th>\n",
       "      <th>rub_monthly_fee</th>\n",
       "      <th>rub_per_gb</th>\n",
       "      <th>rub_per_message</th>\n",
       "      <th>rub_per_minute</th>\n",
       "      <th>tariff_name</th>\n",
       "    </tr>\n",
       "  </thead>\n",
       "  <tbody>\n",
       "    <tr>\n",
       "      <td>0</td>\n",
       "      <td>50</td>\n",
       "      <td>15360</td>\n",
       "      <td>500</td>\n",
       "      <td>550</td>\n",
       "      <td>200</td>\n",
       "      <td>3</td>\n",
       "      <td>3</td>\n",
       "      <td>smart</td>\n",
       "    </tr>\n",
       "    <tr>\n",
       "      <td>1</td>\n",
       "      <td>1000</td>\n",
       "      <td>30720</td>\n",
       "      <td>3000</td>\n",
       "      <td>1950</td>\n",
       "      <td>150</td>\n",
       "      <td>1</td>\n",
       "      <td>1</td>\n",
       "      <td>ultra</td>\n",
       "    </tr>\n",
       "  </tbody>\n",
       "</table>\n",
       "</div>"
      ],
      "text/plain": [
       "   messages_included  mb_per_month_included  minutes_included  \\\n",
       "0                 50                  15360               500   \n",
       "1               1000                  30720              3000   \n",
       "\n",
       "   rub_monthly_fee  rub_per_gb  rub_per_message  rub_per_minute tariff_name  \n",
       "0              550         200                3               3       smart  \n",
       "1             1950         150                1               1       ultra  "
      ]
     },
     "execution_count": 24,
     "metadata": {},
     "output_type": "execute_result"
    }
   ],
   "source": [
    "tariffs.head()"
   ]
  },
  {
   "cell_type": "code",
   "execution_count": 25,
   "metadata": {},
   "outputs": [
    {
     "name": "stdout",
     "output_type": "stream",
     "text": [
      "<class 'pandas.core.frame.DataFrame'>\n",
      "RangeIndex: 2 entries, 0 to 1\n",
      "Data columns (total 8 columns):\n",
      "messages_included        2 non-null int64\n",
      "mb_per_month_included    2 non-null int64\n",
      "minutes_included         2 non-null int64\n",
      "rub_monthly_fee          2 non-null int64\n",
      "rub_per_gb               2 non-null int64\n",
      "rub_per_message          2 non-null int64\n",
      "rub_per_minute           2 non-null int64\n",
      "tariff_name              2 non-null object\n",
      "dtypes: int64(7), object(1)\n",
      "memory usage: 256.0+ bytes\n"
     ]
    }
   ],
   "source": [
    "tariffs.info()\n",
    "#Все ок"
   ]
  },
  {
   "cell_type": "markdown",
   "metadata": {},
   "source": [
    "# Шаг 2. Подготовьте данные"
   ]
  },
  {
   "cell_type": "markdown",
   "metadata": {},
   "source": [
    "### Изменение типа данных столбцов с датами и добавление столбцов \"год\", \"месяц\" и \"время года\" по каждому датафрейму"
   ]
  },
  {
   "cell_type": "markdown",
   "metadata": {},
   "source": [
    "По каждой из таблиц есть столбцы, где необходимо изменить тип данных на \"datetime\""
   ]
  },
  {
   "cell_type": "code",
   "execution_count": 26,
   "metadata": {},
   "outputs": [],
   "source": [
    "# функция определения времени года\n",
    "def get_season(date):\n",
    "    if date.month in [1, 2, 12]:\n",
    "        return 'зима'\n",
    "    elif date.month in [3, 4, 5]:\n",
    "        return 'весна'\n",
    "    elif date.month in [6, 7, 8]:\n",
    "        return 'лето'\n",
    "    else:\n",
    "        return 'осень'\n",
    "    \n",
    "# столбец в формат datetime + добавление столбцов \"месяц\" и \"время года\"\n",
    "def date_to_dt_month_season(dataframes):\n",
    "    for df in dataframes:\n",
    "        for column in df.columns:\n",
    "            if 'date' in column and column != 'churn_date':\n",
    "                df[column] = pd.to_datetime(df[column], format='%Y-%m-%d')\n",
    "                df['месяц'] = df[column].apply(lambda x: x.month)\n",
    "                df['время года'] = df[column].apply(get_season)"
   ]
  },
  {
   "cell_type": "code",
   "execution_count": 27,
   "metadata": {},
   "outputs": [],
   "source": [
    "date_to_dt_month_season([users, calls, messages, internet])"
   ]
  },
  {
   "cell_type": "code",
   "execution_count": 28,
   "metadata": {},
   "outputs": [
    {
     "data": {
      "text/html": [
       "<div>\n",
       "<style scoped>\n",
       "    .dataframe tbody tr th:only-of-type {\n",
       "        vertical-align: middle;\n",
       "    }\n",
       "\n",
       "    .dataframe tbody tr th {\n",
       "        vertical-align: top;\n",
       "    }\n",
       "\n",
       "    .dataframe thead th {\n",
       "        text-align: right;\n",
       "    }\n",
       "</style>\n",
       "<table border=\"1\" class=\"dataframe\">\n",
       "  <thead>\n",
       "    <tr style=\"text-align: right;\">\n",
       "      <th></th>\n",
       "      <th>user_id</th>\n",
       "      <th>age</th>\n",
       "      <th>churn_date</th>\n",
       "      <th>city</th>\n",
       "      <th>first_name</th>\n",
       "      <th>last_name</th>\n",
       "      <th>reg_date</th>\n",
       "      <th>tariff</th>\n",
       "      <th>месяц</th>\n",
       "      <th>время года</th>\n",
       "    </tr>\n",
       "  </thead>\n",
       "  <tbody>\n",
       "    <tr>\n",
       "      <td>0</td>\n",
       "      <td>1000</td>\n",
       "      <td>52</td>\n",
       "      <td>NaN</td>\n",
       "      <td>Краснодар</td>\n",
       "      <td>Рафаил</td>\n",
       "      <td>Верещагин</td>\n",
       "      <td>2018-05-25</td>\n",
       "      <td>ultra</td>\n",
       "      <td>5</td>\n",
       "      <td>весна</td>\n",
       "    </tr>\n",
       "    <tr>\n",
       "      <td>1</td>\n",
       "      <td>1001</td>\n",
       "      <td>41</td>\n",
       "      <td>NaN</td>\n",
       "      <td>Москва</td>\n",
       "      <td>Иван</td>\n",
       "      <td>Ежов</td>\n",
       "      <td>2018-11-01</td>\n",
       "      <td>smart</td>\n",
       "      <td>11</td>\n",
       "      <td>осень</td>\n",
       "    </tr>\n",
       "    <tr>\n",
       "      <td>2</td>\n",
       "      <td>1002</td>\n",
       "      <td>59</td>\n",
       "      <td>NaN</td>\n",
       "      <td>Стерлитамак</td>\n",
       "      <td>Евгений</td>\n",
       "      <td>Абрамович</td>\n",
       "      <td>2018-06-17</td>\n",
       "      <td>smart</td>\n",
       "      <td>6</td>\n",
       "      <td>лето</td>\n",
       "    </tr>\n",
       "    <tr>\n",
       "      <td>3</td>\n",
       "      <td>1003</td>\n",
       "      <td>23</td>\n",
       "      <td>NaN</td>\n",
       "      <td>Москва</td>\n",
       "      <td>Белла</td>\n",
       "      <td>Белякова</td>\n",
       "      <td>2018-08-17</td>\n",
       "      <td>ultra</td>\n",
       "      <td>8</td>\n",
       "      <td>лето</td>\n",
       "    </tr>\n",
       "    <tr>\n",
       "      <td>4</td>\n",
       "      <td>1004</td>\n",
       "      <td>68</td>\n",
       "      <td>NaN</td>\n",
       "      <td>Новокузнецк</td>\n",
       "      <td>Татьяна</td>\n",
       "      <td>Авдеенко</td>\n",
       "      <td>2018-05-14</td>\n",
       "      <td>ultra</td>\n",
       "      <td>5</td>\n",
       "      <td>весна</td>\n",
       "    </tr>\n",
       "  </tbody>\n",
       "</table>\n",
       "</div>"
      ],
      "text/plain": [
       "   user_id  age churn_date         city first_name  last_name   reg_date  \\\n",
       "0     1000   52        NaN    Краснодар     Рафаил  Верещагин 2018-05-25   \n",
       "1     1001   41        NaN       Москва       Иван       Ежов 2018-11-01   \n",
       "2     1002   59        NaN  Стерлитамак    Евгений  Абрамович 2018-06-17   \n",
       "3     1003   23        NaN       Москва      Белла   Белякова 2018-08-17   \n",
       "4     1004   68        NaN  Новокузнецк    Татьяна   Авдеенко 2018-05-14   \n",
       "\n",
       "  tariff  месяц время года  \n",
       "0  ultra      5      весна  \n",
       "1  smart     11      осень  \n",
       "2  smart      6       лето  \n",
       "3  ultra      8       лето  \n",
       "4  ultra      5      весна  "
      ]
     },
     "execution_count": 28,
     "metadata": {},
     "output_type": "execute_result"
    }
   ],
   "source": [
    "users.head()"
   ]
  },
  {
   "cell_type": "code",
   "execution_count": 29,
   "metadata": {},
   "outputs": [
    {
     "data": {
      "text/html": [
       "<div>\n",
       "<style scoped>\n",
       "    .dataframe tbody tr th:only-of-type {\n",
       "        vertical-align: middle;\n",
       "    }\n",
       "\n",
       "    .dataframe tbody tr th {\n",
       "        vertical-align: top;\n",
       "    }\n",
       "\n",
       "    .dataframe thead th {\n",
       "        text-align: right;\n",
       "    }\n",
       "</style>\n",
       "<table border=\"1\" class=\"dataframe\">\n",
       "  <thead>\n",
       "    <tr style=\"text-align: right;\">\n",
       "      <th></th>\n",
       "      <th>id</th>\n",
       "      <th>call_date</th>\n",
       "      <th>duration</th>\n",
       "      <th>user_id</th>\n",
       "      <th>месяц</th>\n",
       "      <th>время года</th>\n",
       "    </tr>\n",
       "  </thead>\n",
       "  <tbody>\n",
       "    <tr>\n",
       "      <td>2</td>\n",
       "      <td>1000_2</td>\n",
       "      <td>2018-06-11</td>\n",
       "      <td>3.0</td>\n",
       "      <td>1000</td>\n",
       "      <td>6</td>\n",
       "      <td>лето</td>\n",
       "    </tr>\n",
       "    <tr>\n",
       "      <td>3</td>\n",
       "      <td>1000_3</td>\n",
       "      <td>2018-09-21</td>\n",
       "      <td>14.0</td>\n",
       "      <td>1000</td>\n",
       "      <td>9</td>\n",
       "      <td>осень</td>\n",
       "    </tr>\n",
       "    <tr>\n",
       "      <td>4</td>\n",
       "      <td>1000_4</td>\n",
       "      <td>2018-12-15</td>\n",
       "      <td>6.0</td>\n",
       "      <td>1000</td>\n",
       "      <td>12</td>\n",
       "      <td>зима</td>\n",
       "    </tr>\n",
       "    <tr>\n",
       "      <td>7</td>\n",
       "      <td>1000_7</td>\n",
       "      <td>2018-08-22</td>\n",
       "      <td>19.0</td>\n",
       "      <td>1000</td>\n",
       "      <td>8</td>\n",
       "      <td>лето</td>\n",
       "    </tr>\n",
       "    <tr>\n",
       "      <td>8</td>\n",
       "      <td>1000_8</td>\n",
       "      <td>2018-09-15</td>\n",
       "      <td>19.0</td>\n",
       "      <td>1000</td>\n",
       "      <td>9</td>\n",
       "      <td>осень</td>\n",
       "    </tr>\n",
       "  </tbody>\n",
       "</table>\n",
       "</div>"
      ],
      "text/plain": [
       "       id  call_date  duration  user_id  месяц время года\n",
       "2  1000_2 2018-06-11       3.0     1000      6       лето\n",
       "3  1000_3 2018-09-21      14.0     1000      9      осень\n",
       "4  1000_4 2018-12-15       6.0     1000     12       зима\n",
       "7  1000_7 2018-08-22      19.0     1000      8       лето\n",
       "8  1000_8 2018-09-15      19.0     1000      9      осень"
      ]
     },
     "execution_count": 29,
     "metadata": {},
     "output_type": "execute_result"
    }
   ],
   "source": [
    "calls.head()"
   ]
  },
  {
   "cell_type": "code",
   "execution_count": 30,
   "metadata": {},
   "outputs": [
    {
     "data": {
      "text/html": [
       "<div>\n",
       "<style scoped>\n",
       "    .dataframe tbody tr th:only-of-type {\n",
       "        vertical-align: middle;\n",
       "    }\n",
       "\n",
       "    .dataframe tbody tr th {\n",
       "        vertical-align: top;\n",
       "    }\n",
       "\n",
       "    .dataframe thead th {\n",
       "        text-align: right;\n",
       "    }\n",
       "</style>\n",
       "<table border=\"1\" class=\"dataframe\">\n",
       "  <thead>\n",
       "    <tr style=\"text-align: right;\">\n",
       "      <th></th>\n",
       "      <th>id</th>\n",
       "      <th>message_date</th>\n",
       "      <th>user_id</th>\n",
       "      <th>месяц</th>\n",
       "      <th>время года</th>\n",
       "    </tr>\n",
       "  </thead>\n",
       "  <tbody>\n",
       "    <tr>\n",
       "      <td>0</td>\n",
       "      <td>1000_0</td>\n",
       "      <td>2018-06-27</td>\n",
       "      <td>1000</td>\n",
       "      <td>6</td>\n",
       "      <td>лето</td>\n",
       "    </tr>\n",
       "    <tr>\n",
       "      <td>1</td>\n",
       "      <td>1000_1</td>\n",
       "      <td>2018-10-08</td>\n",
       "      <td>1000</td>\n",
       "      <td>10</td>\n",
       "      <td>осень</td>\n",
       "    </tr>\n",
       "    <tr>\n",
       "      <td>2</td>\n",
       "      <td>1000_2</td>\n",
       "      <td>2018-08-04</td>\n",
       "      <td>1000</td>\n",
       "      <td>8</td>\n",
       "      <td>лето</td>\n",
       "    </tr>\n",
       "    <tr>\n",
       "      <td>3</td>\n",
       "      <td>1000_3</td>\n",
       "      <td>2018-06-16</td>\n",
       "      <td>1000</td>\n",
       "      <td>6</td>\n",
       "      <td>лето</td>\n",
       "    </tr>\n",
       "    <tr>\n",
       "      <td>4</td>\n",
       "      <td>1000_4</td>\n",
       "      <td>2018-12-05</td>\n",
       "      <td>1000</td>\n",
       "      <td>12</td>\n",
       "      <td>зима</td>\n",
       "    </tr>\n",
       "  </tbody>\n",
       "</table>\n",
       "</div>"
      ],
      "text/plain": [
       "       id message_date  user_id  месяц время года\n",
       "0  1000_0   2018-06-27     1000      6       лето\n",
       "1  1000_1   2018-10-08     1000     10      осень\n",
       "2  1000_2   2018-08-04     1000      8       лето\n",
       "3  1000_3   2018-06-16     1000      6       лето\n",
       "4  1000_4   2018-12-05     1000     12       зима"
      ]
     },
     "execution_count": 30,
     "metadata": {},
     "output_type": "execute_result"
    }
   ],
   "source": [
    "messages.head()"
   ]
  },
  {
   "cell_type": "code",
   "execution_count": 31,
   "metadata": {},
   "outputs": [
    {
     "data": {
      "text/html": [
       "<div>\n",
       "<style scoped>\n",
       "    .dataframe tbody tr th:only-of-type {\n",
       "        vertical-align: middle;\n",
       "    }\n",
       "\n",
       "    .dataframe tbody tr th {\n",
       "        vertical-align: top;\n",
       "    }\n",
       "\n",
       "    .dataframe thead th {\n",
       "        text-align: right;\n",
       "    }\n",
       "</style>\n",
       "<table border=\"1\" class=\"dataframe\">\n",
       "  <thead>\n",
       "    <tr style=\"text-align: right;\">\n",
       "      <th></th>\n",
       "      <th>Unnamed: 0</th>\n",
       "      <th>id</th>\n",
       "      <th>mb_used</th>\n",
       "      <th>session_date</th>\n",
       "      <th>user_id</th>\n",
       "      <th>месяц</th>\n",
       "      <th>время года</th>\n",
       "    </tr>\n",
       "  </thead>\n",
       "  <tbody>\n",
       "    <tr>\n",
       "      <td>0</td>\n",
       "      <td>0</td>\n",
       "      <td>1000_0</td>\n",
       "      <td>113.0</td>\n",
       "      <td>2018-11-25</td>\n",
       "      <td>1000</td>\n",
       "      <td>11</td>\n",
       "      <td>осень</td>\n",
       "    </tr>\n",
       "    <tr>\n",
       "      <td>1</td>\n",
       "      <td>1</td>\n",
       "      <td>1000_1</td>\n",
       "      <td>1053.0</td>\n",
       "      <td>2018-09-07</td>\n",
       "      <td>1000</td>\n",
       "      <td>9</td>\n",
       "      <td>осень</td>\n",
       "    </tr>\n",
       "    <tr>\n",
       "      <td>2</td>\n",
       "      <td>2</td>\n",
       "      <td>1000_2</td>\n",
       "      <td>1198.0</td>\n",
       "      <td>2018-06-25</td>\n",
       "      <td>1000</td>\n",
       "      <td>6</td>\n",
       "      <td>лето</td>\n",
       "    </tr>\n",
       "    <tr>\n",
       "      <td>3</td>\n",
       "      <td>3</td>\n",
       "      <td>1000_3</td>\n",
       "      <td>551.0</td>\n",
       "      <td>2018-08-22</td>\n",
       "      <td>1000</td>\n",
       "      <td>8</td>\n",
       "      <td>лето</td>\n",
       "    </tr>\n",
       "    <tr>\n",
       "      <td>4</td>\n",
       "      <td>4</td>\n",
       "      <td>1000_4</td>\n",
       "      <td>303.0</td>\n",
       "      <td>2018-09-24</td>\n",
       "      <td>1000</td>\n",
       "      <td>9</td>\n",
       "      <td>осень</td>\n",
       "    </tr>\n",
       "  </tbody>\n",
       "</table>\n",
       "</div>"
      ],
      "text/plain": [
       "   Unnamed: 0      id  mb_used session_date  user_id  месяц время года\n",
       "0           0  1000_0    113.0   2018-11-25     1000     11      осень\n",
       "1           1  1000_1   1053.0   2018-09-07     1000      9      осень\n",
       "2           2  1000_2   1198.0   2018-06-25     1000      6       лето\n",
       "3           3  1000_3    551.0   2018-08-22     1000      8       лето\n",
       "4           4  1000_4    303.0   2018-09-24     1000      9      осень"
      ]
     },
     "execution_count": 31,
     "metadata": {},
     "output_type": "execute_result"
    }
   ],
   "source": [
    "internet.head()"
   ]
  },
  {
   "cell_type": "code",
   "execution_count": 32,
   "metadata": {},
   "outputs": [
    {
     "name": "stdout",
     "output_type": "stream",
     "text": [
      "<class 'pandas.core.frame.DataFrame'>\n",
      "Int64Index: 129798 entries, 0 to 149395\n",
      "Data columns (total 7 columns):\n",
      "Unnamed: 0      129798 non-null int64\n",
      "id              129798 non-null object\n",
      "mb_used         129798 non-null float64\n",
      "session_date    129798 non-null datetime64[ns]\n",
      "user_id         129798 non-null int64\n",
      "месяц           129798 non-null int64\n",
      "время года      129798 non-null object\n",
      "dtypes: datetime64[ns](1), float64(1), int64(3), object(2)\n",
      "memory usage: 7.9+ MB\n"
     ]
    }
   ],
   "source": [
    "internet.info()"
   ]
  },
  {
   "cell_type": "markdown",
   "metadata": {},
   "source": [
    "Все окей, даты стали датами)"
   ]
  },
  {
   "cell_type": "markdown",
   "metadata": {},
   "source": [
    "### Посчитайте для каждого пользователя\n",
    "- количество сделанных звонков и израсходованных минут разговора по месяцам;\n",
    "- количество отправленных сообщений по месяцам;\n",
    "- объем израсходованного интернет-трафика по месяцам;\n",
    "- помесячную выручку с каждого пользователя (вычтите бесплатный лимит из суммарного количества звонков, сообщений и интернет-трафика; остаток умножьте на значение из тарифного плана; прибавьте абонентскую плату, соответствующую тарифному плану)."
   ]
  },
  {
   "cell_type": "code",
   "execution_count": 33,
   "metadata": {},
   "outputs": [],
   "source": [
    "# Возьмем из каждого имеющегося датафрейма нужные данные и склеим эти данные в один датафрейм\n",
    "num_of_calls = calls.groupby(['user_id', 'время года', 'месяц'])['duration'].agg(['count', 'sum'])\n",
    "num_of_messages = messages.groupby(['user_id', 'время года', 'месяц'])['id'].count()\n",
    "num_of_internet = internet.groupby(['user_id', 'время года', 'месяц']).sum()['mb_used']"
   ]
  },
  {
   "cell_type": "code",
   "execution_count": 34,
   "metadata": {},
   "outputs": [
    {
     "data": {
      "text/html": [
       "<div>\n",
       "<style scoped>\n",
       "    .dataframe tbody tr th:only-of-type {\n",
       "        vertical-align: middle;\n",
       "    }\n",
       "\n",
       "    .dataframe tbody tr th {\n",
       "        vertical-align: top;\n",
       "    }\n",
       "\n",
       "    .dataframe thead th {\n",
       "        text-align: right;\n",
       "    }\n",
       "</style>\n",
       "<table border=\"1\" class=\"dataframe\">\n",
       "  <thead>\n",
       "    <tr style=\"text-align: right;\">\n",
       "      <th></th>\n",
       "      <th>user_id</th>\n",
       "      <th>время года</th>\n",
       "      <th>месяц</th>\n",
       "      <th>count</th>\n",
       "      <th>sum</th>\n",
       "      <th>id</th>\n",
       "      <th>mb_used</th>\n",
       "    </tr>\n",
       "  </thead>\n",
       "  <tbody>\n",
       "    <tr>\n",
       "      <td>0</td>\n",
       "      <td>1000</td>\n",
       "      <td>весна</td>\n",
       "      <td>5</td>\n",
       "      <td>17.0</td>\n",
       "      <td>159.0</td>\n",
       "      <td>22.0</td>\n",
       "      <td>2256.0</td>\n",
       "    </tr>\n",
       "    <tr>\n",
       "      <td>1</td>\n",
       "      <td>1000</td>\n",
       "      <td>зима</td>\n",
       "      <td>12</td>\n",
       "      <td>38.0</td>\n",
       "      <td>333.0</td>\n",
       "      <td>70.0</td>\n",
       "      <td>9827.0</td>\n",
       "    </tr>\n",
       "    <tr>\n",
       "      <td>2</td>\n",
       "      <td>1000</td>\n",
       "      <td>лето</td>\n",
       "      <td>6</td>\n",
       "      <td>28.0</td>\n",
       "      <td>172.0</td>\n",
       "      <td>60.0</td>\n",
       "      <td>23257.0</td>\n",
       "    </tr>\n",
       "    <tr>\n",
       "      <td>3</td>\n",
       "      <td>1000</td>\n",
       "      <td>лето</td>\n",
       "      <td>7</td>\n",
       "      <td>41.0</td>\n",
       "      <td>340.0</td>\n",
       "      <td>75.0</td>\n",
       "      <td>14016.0</td>\n",
       "    </tr>\n",
       "    <tr>\n",
       "      <td>4</td>\n",
       "      <td>1000</td>\n",
       "      <td>лето</td>\n",
       "      <td>8</td>\n",
       "      <td>42.0</td>\n",
       "      <td>408.0</td>\n",
       "      <td>81.0</td>\n",
       "      <td>14070.0</td>\n",
       "    </tr>\n",
       "  </tbody>\n",
       "</table>\n",
       "</div>"
      ],
      "text/plain": [
       "   user_id время года  месяц  count    sum    id  mb_used\n",
       "0     1000      весна      5   17.0  159.0  22.0   2256.0\n",
       "1     1000       зима     12   38.0  333.0  70.0   9827.0\n",
       "2     1000       лето      6   28.0  172.0  60.0  23257.0\n",
       "3     1000       лето      7   41.0  340.0  75.0  14016.0\n",
       "4     1000       лето      8   42.0  408.0  81.0  14070.0"
      ]
     },
     "execution_count": 34,
     "metadata": {},
     "output_type": "execute_result"
    }
   ],
   "source": [
    "df_event_numbers = pd.concat([num_of_calls, num_of_messages, num_of_internet], axis=1)\n",
    "df_event_numbers = df_event_numbers.reset_index()\n",
    "df_event_numbers.head()"
   ]
  },
  {
   "cell_type": "code",
   "execution_count": 36,
   "metadata": {},
   "outputs": [
    {
     "data": {
      "text/html": [
       "<div>\n",
       "<style scoped>\n",
       "    .dataframe tbody tr th:only-of-type {\n",
       "        vertical-align: middle;\n",
       "    }\n",
       "\n",
       "    .dataframe tbody tr th {\n",
       "        vertical-align: top;\n",
       "    }\n",
       "\n",
       "    .dataframe thead th {\n",
       "        text-align: right;\n",
       "    }\n",
       "</style>\n",
       "<table border=\"1\" class=\"dataframe\">\n",
       "  <thead>\n",
       "    <tr style=\"text-align: right;\">\n",
       "      <th></th>\n",
       "      <th>user_id</th>\n",
       "      <th>age</th>\n",
       "      <th>churn_date</th>\n",
       "      <th>city</th>\n",
       "      <th>first_name</th>\n",
       "      <th>last_name</th>\n",
       "      <th>reg_date</th>\n",
       "      <th>tariff</th>\n",
       "      <th>месяц</th>\n",
       "      <th>время года</th>\n",
       "    </tr>\n",
       "  </thead>\n",
       "  <tbody>\n",
       "    <tr>\n",
       "      <td>0</td>\n",
       "      <td>1000</td>\n",
       "      <td>52</td>\n",
       "      <td>NaN</td>\n",
       "      <td>Краснодар</td>\n",
       "      <td>Рафаил</td>\n",
       "      <td>Верещагин</td>\n",
       "      <td>2018-05-25</td>\n",
       "      <td>ultra</td>\n",
       "      <td>5</td>\n",
       "      <td>весна</td>\n",
       "    </tr>\n",
       "    <tr>\n",
       "      <td>1</td>\n",
       "      <td>1001</td>\n",
       "      <td>41</td>\n",
       "      <td>NaN</td>\n",
       "      <td>Москва</td>\n",
       "      <td>Иван</td>\n",
       "      <td>Ежов</td>\n",
       "      <td>2018-11-01</td>\n",
       "      <td>smart</td>\n",
       "      <td>11</td>\n",
       "      <td>осень</td>\n",
       "    </tr>\n",
       "    <tr>\n",
       "      <td>2</td>\n",
       "      <td>1002</td>\n",
       "      <td>59</td>\n",
       "      <td>NaN</td>\n",
       "      <td>Стерлитамак</td>\n",
       "      <td>Евгений</td>\n",
       "      <td>Абрамович</td>\n",
       "      <td>2018-06-17</td>\n",
       "      <td>smart</td>\n",
       "      <td>6</td>\n",
       "      <td>лето</td>\n",
       "    </tr>\n",
       "    <tr>\n",
       "      <td>3</td>\n",
       "      <td>1003</td>\n",
       "      <td>23</td>\n",
       "      <td>NaN</td>\n",
       "      <td>Москва</td>\n",
       "      <td>Белла</td>\n",
       "      <td>Белякова</td>\n",
       "      <td>2018-08-17</td>\n",
       "      <td>ultra</td>\n",
       "      <td>8</td>\n",
       "      <td>лето</td>\n",
       "    </tr>\n",
       "    <tr>\n",
       "      <td>4</td>\n",
       "      <td>1004</td>\n",
       "      <td>68</td>\n",
       "      <td>NaN</td>\n",
       "      <td>Новокузнецк</td>\n",
       "      <td>Татьяна</td>\n",
       "      <td>Авдеенко</td>\n",
       "      <td>2018-05-14</td>\n",
       "      <td>ultra</td>\n",
       "      <td>5</td>\n",
       "      <td>весна</td>\n",
       "    </tr>\n",
       "  </tbody>\n",
       "</table>\n",
       "</div>"
      ],
      "text/plain": [
       "   user_id  age churn_date         city first_name  last_name   reg_date  \\\n",
       "0     1000   52        NaN    Краснодар     Рафаил  Верещагин 2018-05-25   \n",
       "1     1001   41        NaN       Москва       Иван       Ежов 2018-11-01   \n",
       "2     1002   59        NaN  Стерлитамак    Евгений  Абрамович 2018-06-17   \n",
       "3     1003   23        NaN       Москва      Белла   Белякова 2018-08-17   \n",
       "4     1004   68        NaN  Новокузнецк    Татьяна   Авдеенко 2018-05-14   \n",
       "\n",
       "  tariff  месяц время года  \n",
       "0  ultra      5      весна  \n",
       "1  smart     11      осень  \n",
       "2  smart      6       лето  \n",
       "3  ultra      8       лето  \n",
       "4  ultra      5      весна  "
      ]
     },
     "execution_count": 36,
     "metadata": {},
     "output_type": "execute_result"
    }
   ],
   "source": [
    "users.head()"
   ]
  },
  {
   "cell_type": "code",
   "execution_count": 37,
   "metadata": {},
   "outputs": [
    {
     "data": {
      "text/html": [
       "<div>\n",
       "<style scoped>\n",
       "    .dataframe tbody tr th:only-of-type {\n",
       "        vertical-align: middle;\n",
       "    }\n",
       "\n",
       "    .dataframe tbody tr th {\n",
       "        vertical-align: top;\n",
       "    }\n",
       "\n",
       "    .dataframe thead th {\n",
       "        text-align: right;\n",
       "    }\n",
       "</style>\n",
       "<table border=\"1\" class=\"dataframe\">\n",
       "  <thead>\n",
       "    <tr style=\"text-align: right;\">\n",
       "      <th></th>\n",
       "      <th>user_id</th>\n",
       "      <th>время года</th>\n",
       "      <th>месяц</th>\n",
       "      <th>count</th>\n",
       "      <th>sum</th>\n",
       "      <th>id</th>\n",
       "      <th>mb_used</th>\n",
       "    </tr>\n",
       "  </thead>\n",
       "  <tbody>\n",
       "    <tr>\n",
       "      <td>0</td>\n",
       "      <td>1000</td>\n",
       "      <td>весна</td>\n",
       "      <td>5</td>\n",
       "      <td>17.0</td>\n",
       "      <td>159.0</td>\n",
       "      <td>22.0</td>\n",
       "      <td>2256.0</td>\n",
       "    </tr>\n",
       "    <tr>\n",
       "      <td>1</td>\n",
       "      <td>1000</td>\n",
       "      <td>зима</td>\n",
       "      <td>12</td>\n",
       "      <td>38.0</td>\n",
       "      <td>333.0</td>\n",
       "      <td>70.0</td>\n",
       "      <td>9827.0</td>\n",
       "    </tr>\n",
       "    <tr>\n",
       "      <td>2</td>\n",
       "      <td>1000</td>\n",
       "      <td>лето</td>\n",
       "      <td>6</td>\n",
       "      <td>28.0</td>\n",
       "      <td>172.0</td>\n",
       "      <td>60.0</td>\n",
       "      <td>23257.0</td>\n",
       "    </tr>\n",
       "    <tr>\n",
       "      <td>3</td>\n",
       "      <td>1000</td>\n",
       "      <td>лето</td>\n",
       "      <td>7</td>\n",
       "      <td>41.0</td>\n",
       "      <td>340.0</td>\n",
       "      <td>75.0</td>\n",
       "      <td>14016.0</td>\n",
       "    </tr>\n",
       "    <tr>\n",
       "      <td>4</td>\n",
       "      <td>1000</td>\n",
       "      <td>лето</td>\n",
       "      <td>8</td>\n",
       "      <td>42.0</td>\n",
       "      <td>408.0</td>\n",
       "      <td>81.0</td>\n",
       "      <td>14070.0</td>\n",
       "    </tr>\n",
       "  </tbody>\n",
       "</table>\n",
       "</div>"
      ],
      "text/plain": [
       "   user_id время года  месяц  count    sum    id  mb_used\n",
       "0     1000      весна      5   17.0  159.0  22.0   2256.0\n",
       "1     1000       зима     12   38.0  333.0  70.0   9827.0\n",
       "2     1000       лето      6   28.0  172.0  60.0  23257.0\n",
       "3     1000       лето      7   41.0  340.0  75.0  14016.0\n",
       "4     1000       лето      8   42.0  408.0  81.0  14070.0"
      ]
     },
     "execution_count": 37,
     "metadata": {},
     "output_type": "execute_result"
    }
   ],
   "source": [
    "df_event_numbers.head()"
   ]
  },
  {
   "cell_type": "code",
   "execution_count": 38,
   "metadata": {},
   "outputs": [],
   "source": [
    "#df = pd.merge(df,df2[['Key_Column','tariff\t']],on='Key_Column', how='left')"
   ]
  },
  {
   "cell_type": "code",
   "execution_count": 39,
   "metadata": {},
   "outputs": [],
   "source": [
    "df_event_numbers = df_event_numbers.merge(users[['user_id','tariff', 'city']],on='user_id', how='left',copy=True)"
   ]
  },
  {
   "cell_type": "code",
   "execution_count": 40,
   "metadata": {},
   "outputs": [
    {
     "data": {
      "text/html": [
       "<div>\n",
       "<style scoped>\n",
       "    .dataframe tbody tr th:only-of-type {\n",
       "        vertical-align: middle;\n",
       "    }\n",
       "\n",
       "    .dataframe tbody tr th {\n",
       "        vertical-align: top;\n",
       "    }\n",
       "\n",
       "    .dataframe thead th {\n",
       "        text-align: right;\n",
       "    }\n",
       "</style>\n",
       "<table border=\"1\" class=\"dataframe\">\n",
       "  <thead>\n",
       "    <tr style=\"text-align: right;\">\n",
       "      <th></th>\n",
       "      <th>user_id</th>\n",
       "      <th>время года</th>\n",
       "      <th>месяц</th>\n",
       "      <th>count</th>\n",
       "      <th>sum</th>\n",
       "      <th>id</th>\n",
       "      <th>mb_used</th>\n",
       "      <th>tariff</th>\n",
       "      <th>city</th>\n",
       "    </tr>\n",
       "  </thead>\n",
       "  <tbody>\n",
       "    <tr>\n",
       "      <td>0</td>\n",
       "      <td>1000</td>\n",
       "      <td>весна</td>\n",
       "      <td>5</td>\n",
       "      <td>17.0</td>\n",
       "      <td>159.0</td>\n",
       "      <td>22.0</td>\n",
       "      <td>2256.0</td>\n",
       "      <td>ultra</td>\n",
       "      <td>Краснодар</td>\n",
       "    </tr>\n",
       "    <tr>\n",
       "      <td>1</td>\n",
       "      <td>1000</td>\n",
       "      <td>зима</td>\n",
       "      <td>12</td>\n",
       "      <td>38.0</td>\n",
       "      <td>333.0</td>\n",
       "      <td>70.0</td>\n",
       "      <td>9827.0</td>\n",
       "      <td>ultra</td>\n",
       "      <td>Краснодар</td>\n",
       "    </tr>\n",
       "    <tr>\n",
       "      <td>2</td>\n",
       "      <td>1000</td>\n",
       "      <td>лето</td>\n",
       "      <td>6</td>\n",
       "      <td>28.0</td>\n",
       "      <td>172.0</td>\n",
       "      <td>60.0</td>\n",
       "      <td>23257.0</td>\n",
       "      <td>ultra</td>\n",
       "      <td>Краснодар</td>\n",
       "    </tr>\n",
       "    <tr>\n",
       "      <td>3</td>\n",
       "      <td>1000</td>\n",
       "      <td>лето</td>\n",
       "      <td>7</td>\n",
       "      <td>41.0</td>\n",
       "      <td>340.0</td>\n",
       "      <td>75.0</td>\n",
       "      <td>14016.0</td>\n",
       "      <td>ultra</td>\n",
       "      <td>Краснодар</td>\n",
       "    </tr>\n",
       "    <tr>\n",
       "      <td>4</td>\n",
       "      <td>1000</td>\n",
       "      <td>лето</td>\n",
       "      <td>8</td>\n",
       "      <td>42.0</td>\n",
       "      <td>408.0</td>\n",
       "      <td>81.0</td>\n",
       "      <td>14070.0</td>\n",
       "      <td>ultra</td>\n",
       "      <td>Краснодар</td>\n",
       "    </tr>\n",
       "  </tbody>\n",
       "</table>\n",
       "</div>"
      ],
      "text/plain": [
       "   user_id время года  месяц  count    sum    id  mb_used tariff       city\n",
       "0     1000      весна      5   17.0  159.0  22.0   2256.0  ultra  Краснодар\n",
       "1     1000       зима     12   38.0  333.0  70.0   9827.0  ultra  Краснодар\n",
       "2     1000       лето      6   28.0  172.0  60.0  23257.0  ultra  Краснодар\n",
       "3     1000       лето      7   41.0  340.0  75.0  14016.0  ultra  Краснодар\n",
       "4     1000       лето      8   42.0  408.0  81.0  14070.0  ultra  Краснодар"
      ]
     },
     "execution_count": 40,
     "metadata": {},
     "output_type": "execute_result"
    }
   ],
   "source": [
    "df_event_numbers.head()"
   ]
  },
  {
   "cell_type": "code",
   "execution_count": 41,
   "metadata": {},
   "outputs": [],
   "source": [
    "# Добавим столбцы с тарифом и городом\n",
    "#map_to_fill_tariff = dict(pd.Series(users['tariff'].values, index=users['user_id']))\n",
    "#df_event_numbers['Тариф'] = df_event_numbers['user_id'].map(map_to_fill_tariff)\n",
    "\n",
    "#map_to_fill_city = dict(pd.Series(users['city'].values, index=users['user_id']))\n",
    "#df_event_numbers['Город'] = df_event_numbers['user_id'].map(map_to_fill_city)"
   ]
  },
  {
   "cell_type": "code",
   "execution_count": 42,
   "metadata": {},
   "outputs": [],
   "source": [
    "#Переименуем названия столбцов чтобы было красиво и понятно\n",
    "df_event_numbers.columns = ['User_id', 'Время года', 'Месяц', 'Кол-во звонков, шт.', 'Звонки, мин.', \n",
    "                            'СМС, шт.', 'Интернет, Мб', 'Тариф', 'Город']"
   ]
  },
  {
   "cell_type": "code",
   "execution_count": 43,
   "metadata": {},
   "outputs": [
    {
     "data": {
      "text/html": [
       "<div>\n",
       "<style scoped>\n",
       "    .dataframe tbody tr th:only-of-type {\n",
       "        vertical-align: middle;\n",
       "    }\n",
       "\n",
       "    .dataframe tbody tr th {\n",
       "        vertical-align: top;\n",
       "    }\n",
       "\n",
       "    .dataframe thead th {\n",
       "        text-align: right;\n",
       "    }\n",
       "</style>\n",
       "<table border=\"1\" class=\"dataframe\">\n",
       "  <thead>\n",
       "    <tr style=\"text-align: right;\">\n",
       "      <th></th>\n",
       "      <th>User_id</th>\n",
       "      <th>Время года</th>\n",
       "      <th>Месяц</th>\n",
       "      <th>Кол-во звонков, шт.</th>\n",
       "      <th>Звонки, мин.</th>\n",
       "      <th>СМС, шт.</th>\n",
       "      <th>Интернет, Мб</th>\n",
       "      <th>Тариф</th>\n",
       "      <th>Город</th>\n",
       "    </tr>\n",
       "  </thead>\n",
       "  <tbody>\n",
       "    <tr>\n",
       "      <td>0</td>\n",
       "      <td>1000</td>\n",
       "      <td>весна</td>\n",
       "      <td>5</td>\n",
       "      <td>17.0</td>\n",
       "      <td>159.0</td>\n",
       "      <td>22.0</td>\n",
       "      <td>2256.0</td>\n",
       "      <td>ultra</td>\n",
       "      <td>Краснодар</td>\n",
       "    </tr>\n",
       "    <tr>\n",
       "      <td>2</td>\n",
       "      <td>1000</td>\n",
       "      <td>лето</td>\n",
       "      <td>6</td>\n",
       "      <td>28.0</td>\n",
       "      <td>172.0</td>\n",
       "      <td>60.0</td>\n",
       "      <td>23257.0</td>\n",
       "      <td>ultra</td>\n",
       "      <td>Краснодар</td>\n",
       "    </tr>\n",
       "    <tr>\n",
       "      <td>3</td>\n",
       "      <td>1000</td>\n",
       "      <td>лето</td>\n",
       "      <td>7</td>\n",
       "      <td>41.0</td>\n",
       "      <td>340.0</td>\n",
       "      <td>75.0</td>\n",
       "      <td>14016.0</td>\n",
       "      <td>ultra</td>\n",
       "      <td>Краснодар</td>\n",
       "    </tr>\n",
       "    <tr>\n",
       "      <td>4</td>\n",
       "      <td>1000</td>\n",
       "      <td>лето</td>\n",
       "      <td>8</td>\n",
       "      <td>42.0</td>\n",
       "      <td>408.0</td>\n",
       "      <td>81.0</td>\n",
       "      <td>14070.0</td>\n",
       "      <td>ultra</td>\n",
       "      <td>Краснодар</td>\n",
       "    </tr>\n",
       "    <tr>\n",
       "      <td>5</td>\n",
       "      <td>1000</td>\n",
       "      <td>осень</td>\n",
       "      <td>9</td>\n",
       "      <td>46.0</td>\n",
       "      <td>466.0</td>\n",
       "      <td>57.0</td>\n",
       "      <td>14581.0</td>\n",
       "      <td>ultra</td>\n",
       "      <td>Краснодар</td>\n",
       "    </tr>\n",
       "    <tr>\n",
       "      <td>6</td>\n",
       "      <td>1000</td>\n",
       "      <td>осень</td>\n",
       "      <td>10</td>\n",
       "      <td>44.0</td>\n",
       "      <td>350.0</td>\n",
       "      <td>73.0</td>\n",
       "      <td>14717.0</td>\n",
       "      <td>ultra</td>\n",
       "      <td>Краснодар</td>\n",
       "    </tr>\n",
       "    <tr>\n",
       "      <td>7</td>\n",
       "      <td>1000</td>\n",
       "      <td>осень</td>\n",
       "      <td>11</td>\n",
       "      <td>37.0</td>\n",
       "      <td>338.0</td>\n",
       "      <td>58.0</td>\n",
       "      <td>14768.0</td>\n",
       "      <td>ultra</td>\n",
       "      <td>Краснодар</td>\n",
       "    </tr>\n",
       "    <tr>\n",
       "      <td>1</td>\n",
       "      <td>1000</td>\n",
       "      <td>зима</td>\n",
       "      <td>12</td>\n",
       "      <td>38.0</td>\n",
       "      <td>333.0</td>\n",
       "      <td>70.0</td>\n",
       "      <td>9827.0</td>\n",
       "      <td>ultra</td>\n",
       "      <td>Краснодар</td>\n",
       "    </tr>\n",
       "    <tr>\n",
       "      <td>9</td>\n",
       "      <td>1001</td>\n",
       "      <td>осень</td>\n",
       "      <td>11</td>\n",
       "      <td>45.0</td>\n",
       "      <td>430.0</td>\n",
       "      <td>NaN</td>\n",
       "      <td>18452.0</td>\n",
       "      <td>smart</td>\n",
       "      <td>Москва</td>\n",
       "    </tr>\n",
       "    <tr>\n",
       "      <td>8</td>\n",
       "      <td>1001</td>\n",
       "      <td>зима</td>\n",
       "      <td>12</td>\n",
       "      <td>47.0</td>\n",
       "      <td>414.0</td>\n",
       "      <td>NaN</td>\n",
       "      <td>14053.0</td>\n",
       "      <td>smart</td>\n",
       "      <td>Москва</td>\n",
       "    </tr>\n",
       "  </tbody>\n",
       "</table>\n",
       "</div>"
      ],
      "text/plain": [
       "   User_id Время года  Месяц  Кол-во звонков, шт.  Звонки, мин.  СМС, шт.  \\\n",
       "0     1000      весна      5                 17.0         159.0      22.0   \n",
       "2     1000       лето      6                 28.0         172.0      60.0   \n",
       "3     1000       лето      7                 41.0         340.0      75.0   \n",
       "4     1000       лето      8                 42.0         408.0      81.0   \n",
       "5     1000      осень      9                 46.0         466.0      57.0   \n",
       "6     1000      осень     10                 44.0         350.0      73.0   \n",
       "7     1000      осень     11                 37.0         338.0      58.0   \n",
       "1     1000       зима     12                 38.0         333.0      70.0   \n",
       "9     1001      осень     11                 45.0         430.0       NaN   \n",
       "8     1001       зима     12                 47.0         414.0       NaN   \n",
       "\n",
       "   Интернет, Мб  Тариф      Город  \n",
       "0        2256.0  ultra  Краснодар  \n",
       "2       23257.0  ultra  Краснодар  \n",
       "3       14016.0  ultra  Краснодар  \n",
       "4       14070.0  ultra  Краснодар  \n",
       "5       14581.0  ultra  Краснодар  \n",
       "6       14717.0  ultra  Краснодар  \n",
       "7       14768.0  ultra  Краснодар  \n",
       "1        9827.0  ultra  Краснодар  \n",
       "9       18452.0  smart     Москва  \n",
       "8       14053.0  smart     Москва  "
      ]
     },
     "execution_count": 43,
     "metadata": {},
     "output_type": "execute_result"
    }
   ],
   "source": [
    "df_event_numbers.sort_values(by=['User_id', 'Месяц']).head(10)"
   ]
  },
  {
   "cell_type": "code",
   "execution_count": 44,
   "metadata": {},
   "outputs": [
    {
     "name": "stdout",
     "output_type": "stream",
     "text": [
      "<class 'pandas.core.frame.DataFrame'>\n",
      "Int64Index: 3214 entries, 0 to 3213\n",
      "Data columns (total 9 columns):\n",
      "User_id                3214 non-null int64\n",
      "Время года             3214 non-null object\n",
      "Месяц                  3214 non-null int64\n",
      "Кол-во звонков, шт.    3168 non-null float64\n",
      "Звонки, мин.           3168 non-null float64\n",
      "СМС, шт.               2717 non-null float64\n",
      "Интернет, Мб           3201 non-null float64\n",
      "Тариф                  3214 non-null object\n",
      "Город                  3214 non-null object\n",
      "dtypes: float64(4), int64(2), object(3)\n",
      "memory usage: 251.1+ KB\n"
     ]
    }
   ],
   "source": [
    "df_event_numbers.info()"
   ]
  },
  {
   "cell_type": "markdown",
   "metadata": {},
   "source": [
    "**Вывод** Все супер, получает я красивая таблица, но в ней присутсвуют пропуски. Это могут быть новые клиенты или люди которые не пользуются конкретными видами связи (только инет или телефон), нужно проверить есть ли те, кто вообще ничем не пользуется, если есть то можно его убрать из датафрейма."
   ]
  },
  {
   "cell_type": "code",
   "execution_count": 45,
   "metadata": {},
   "outputs": [
    {
     "data": {
      "text/html": [
       "<div>\n",
       "<style scoped>\n",
       "    .dataframe tbody tr th:only-of-type {\n",
       "        vertical-align: middle;\n",
       "    }\n",
       "\n",
       "    .dataframe tbody tr th {\n",
       "        vertical-align: top;\n",
       "    }\n",
       "\n",
       "    .dataframe thead th {\n",
       "        text-align: right;\n",
       "    }\n",
       "</style>\n",
       "<table border=\"1\" class=\"dataframe\">\n",
       "  <thead>\n",
       "    <tr style=\"text-align: right;\">\n",
       "      <th></th>\n",
       "      <th>User_id</th>\n",
       "      <th>Время года</th>\n",
       "      <th>Месяц</th>\n",
       "      <th>Кол-во звонков, шт.</th>\n",
       "      <th>Звонки, мин.</th>\n",
       "      <th>СМС, шт.</th>\n",
       "      <th>Интернет, Мб</th>\n",
       "      <th>Тариф</th>\n",
       "      <th>Город</th>\n",
       "    </tr>\n",
       "  </thead>\n",
       "  <tbody>\n",
       "  </tbody>\n",
       "</table>\n",
       "</div>"
      ],
      "text/plain": [
       "Empty DataFrame\n",
       "Columns: [User_id, Время года, Месяц, Кол-во звонков, шт., Звонки, мин., СМС, шт., Интернет, Мб, Тариф, Город]\n",
       "Index: []"
      ]
     },
     "execution_count": 45,
     "metadata": {},
     "output_type": "execute_result"
    }
   ],
   "source": [
    "df_event_numbers[(df_event_numbers['Интернет, Мб'].isnull()) & (df_event_numbers['СМС, шт.'].isnull()) &\n",
    "                 (df_event_numbers['Звонки, мин.'].isnull())]"
   ]
  },
  {
   "cell_type": "markdown",
   "metadata": {},
   "source": [
    "Таких пользователей нет, поэтому проставим по имеющимся пропускам нули, которые будут означать, что в конкретном месяце данный клиент не звонил/не отправлял СМС/не пользовался интернетом."
   ]
  },
  {
   "cell_type": "code",
   "execution_count": 46,
   "metadata": {},
   "outputs": [
    {
     "name": "stdout",
     "output_type": "stream",
     "text": [
      "<class 'pandas.core.frame.DataFrame'>\n",
      "Int64Index: 3214 entries, 0 to 3213\n",
      "Data columns (total 9 columns):\n",
      "User_id                3214 non-null int64\n",
      "Время года             3214 non-null object\n",
      "Месяц                  3214 non-null int64\n",
      "Кол-во звонков, шт.    3214 non-null float64\n",
      "Звонки, мин.           3214 non-null float64\n",
      "СМС, шт.               3214 non-null float64\n",
      "Интернет, Мб           3214 non-null float64\n",
      "Тариф                  3214 non-null object\n",
      "Город                  3214 non-null object\n",
      "dtypes: float64(4), int64(2), object(3)\n",
      "memory usage: 251.1+ KB\n"
     ]
    }
   ],
   "source": [
    "# Заполняем пропуски\n",
    "df_event_numbers = df_event_numbers.fillna(0)\n",
    "df_event_numbers.info()"
   ]
  },
  {
   "cell_type": "code",
   "execution_count": 47,
   "metadata": {},
   "outputs": [
    {
     "data": {
      "text/html": [
       "<div>\n",
       "<style scoped>\n",
       "    .dataframe tbody tr th:only-of-type {\n",
       "        vertical-align: middle;\n",
       "    }\n",
       "\n",
       "    .dataframe tbody tr th {\n",
       "        vertical-align: top;\n",
       "    }\n",
       "\n",
       "    .dataframe thead th {\n",
       "        text-align: right;\n",
       "    }\n",
       "</style>\n",
       "<table border=\"1\" class=\"dataframe\">\n",
       "  <thead>\n",
       "    <tr style=\"text-align: right;\">\n",
       "      <th></th>\n",
       "      <th>User_id</th>\n",
       "      <th>Время года</th>\n",
       "      <th>Месяц</th>\n",
       "      <th>Кол-во звонков, шт.</th>\n",
       "      <th>Звонки, мин.</th>\n",
       "      <th>СМС, шт.</th>\n",
       "      <th>Интернет, Мб</th>\n",
       "      <th>Тариф</th>\n",
       "      <th>Город</th>\n",
       "    </tr>\n",
       "  </thead>\n",
       "  <tbody>\n",
       "    <tr>\n",
       "      <td>0</td>\n",
       "      <td>1000</td>\n",
       "      <td>весна</td>\n",
       "      <td>5</td>\n",
       "      <td>17.0</td>\n",
       "      <td>159.0</td>\n",
       "      <td>22.0</td>\n",
       "      <td>2256.0</td>\n",
       "      <td>ultra</td>\n",
       "      <td>Краснодар</td>\n",
       "    </tr>\n",
       "    <tr>\n",
       "      <td>1</td>\n",
       "      <td>1000</td>\n",
       "      <td>зима</td>\n",
       "      <td>12</td>\n",
       "      <td>38.0</td>\n",
       "      <td>333.0</td>\n",
       "      <td>70.0</td>\n",
       "      <td>9827.0</td>\n",
       "      <td>ultra</td>\n",
       "      <td>Краснодар</td>\n",
       "    </tr>\n",
       "    <tr>\n",
       "      <td>2</td>\n",
       "      <td>1000</td>\n",
       "      <td>лето</td>\n",
       "      <td>6</td>\n",
       "      <td>28.0</td>\n",
       "      <td>172.0</td>\n",
       "      <td>60.0</td>\n",
       "      <td>23257.0</td>\n",
       "      <td>ultra</td>\n",
       "      <td>Краснодар</td>\n",
       "    </tr>\n",
       "    <tr>\n",
       "      <td>3</td>\n",
       "      <td>1000</td>\n",
       "      <td>лето</td>\n",
       "      <td>7</td>\n",
       "      <td>41.0</td>\n",
       "      <td>340.0</td>\n",
       "      <td>75.0</td>\n",
       "      <td>14016.0</td>\n",
       "      <td>ultra</td>\n",
       "      <td>Краснодар</td>\n",
       "    </tr>\n",
       "    <tr>\n",
       "      <td>4</td>\n",
       "      <td>1000</td>\n",
       "      <td>лето</td>\n",
       "      <td>8</td>\n",
       "      <td>42.0</td>\n",
       "      <td>408.0</td>\n",
       "      <td>81.0</td>\n",
       "      <td>14070.0</td>\n",
       "      <td>ultra</td>\n",
       "      <td>Краснодар</td>\n",
       "    </tr>\n",
       "    <tr>\n",
       "      <td>5</td>\n",
       "      <td>1000</td>\n",
       "      <td>осень</td>\n",
       "      <td>9</td>\n",
       "      <td>46.0</td>\n",
       "      <td>466.0</td>\n",
       "      <td>57.0</td>\n",
       "      <td>14581.0</td>\n",
       "      <td>ultra</td>\n",
       "      <td>Краснодар</td>\n",
       "    </tr>\n",
       "    <tr>\n",
       "      <td>6</td>\n",
       "      <td>1000</td>\n",
       "      <td>осень</td>\n",
       "      <td>10</td>\n",
       "      <td>44.0</td>\n",
       "      <td>350.0</td>\n",
       "      <td>73.0</td>\n",
       "      <td>14717.0</td>\n",
       "      <td>ultra</td>\n",
       "      <td>Краснодар</td>\n",
       "    </tr>\n",
       "    <tr>\n",
       "      <td>7</td>\n",
       "      <td>1000</td>\n",
       "      <td>осень</td>\n",
       "      <td>11</td>\n",
       "      <td>37.0</td>\n",
       "      <td>338.0</td>\n",
       "      <td>58.0</td>\n",
       "      <td>14768.0</td>\n",
       "      <td>ultra</td>\n",
       "      <td>Краснодар</td>\n",
       "    </tr>\n",
       "  </tbody>\n",
       "</table>\n",
       "</div>"
      ],
      "text/plain": [
       "   User_id Время года  Месяц  Кол-во звонков, шт.  Звонки, мин.  СМС, шт.  \\\n",
       "0     1000      весна      5                 17.0         159.0      22.0   \n",
       "1     1000       зима     12                 38.0         333.0      70.0   \n",
       "2     1000       лето      6                 28.0         172.0      60.0   \n",
       "3     1000       лето      7                 41.0         340.0      75.0   \n",
       "4     1000       лето      8                 42.0         408.0      81.0   \n",
       "5     1000      осень      9                 46.0         466.0      57.0   \n",
       "6     1000      осень     10                 44.0         350.0      73.0   \n",
       "7     1000      осень     11                 37.0         338.0      58.0   \n",
       "\n",
       "   Интернет, Мб  Тариф      Город  \n",
       "0        2256.0  ultra  Краснодар  \n",
       "1        9827.0  ultra  Краснодар  \n",
       "2       23257.0  ultra  Краснодар  \n",
       "3       14016.0  ultra  Краснодар  \n",
       "4       14070.0  ultra  Краснодар  \n",
       "5       14581.0  ultra  Краснодар  \n",
       "6       14717.0  ultra  Краснодар  \n",
       "7       14768.0  ultra  Краснодар  "
      ]
     },
     "execution_count": 47,
     "metadata": {},
     "output_type": "execute_result"
    }
   ],
   "source": [
    "#Проверим вывод по конкретному пользователю\n",
    "df_event_numbers[(df_event_numbers['User_id'] == 1000)]"
   ]
  },
  {
   "cell_type": "markdown",
   "metadata": {},
   "source": [
    "####  Добавим информацию о помесячной выручке с каждого пользователя\n",
    "\n",
    "Для того чтобы все было четко и понятно нам необходимо создать 3 группы столбцов:\n",
    "\n",
    "- \"Аб. плата\";\n",
    "- \"Минуты сверх\", \"СМС сверх\", \"Мб сверх\", \"Плата сверх лимита\";\n",
    "- \"Сумма за месяц\""
   ]
  },
  {
   "cell_type": "code",
   "execution_count": 48,
   "metadata": {},
   "outputs": [],
   "source": [
    "month_price = {'smart': 550, 'ultra': 1950}\n",
    "df_event_numbers['Аб. плата, руб.'] = df_event_numbers['Тариф'].map(month_price)"
   ]
  },
  {
   "cell_type": "markdown",
   "metadata": {},
   "source": [
    "*Для создания столбцов \"Минуты сверх\", \"СМС сверх\", \"Мб сверх\", \"Плата сверх лимита\" напишем функцию, которая будет считать превышения в зависимости от тарифа!*"
   ]
  },
  {
   "cell_type": "code",
   "execution_count": 49,
   "metadata": {},
   "outputs": [],
   "source": [
    "def calls_over_plan(row):\n",
    "    if row['Тариф'] == 'smart':\n",
    "        result = row['Звонки, мин.'] - 500\n",
    "        return np.where(result > 0, result, 0)\n",
    "    else:\n",
    "        result = row['Звонки, мин.'] - 3000\n",
    "        return np.where(result > 0, result, 0)\n",
    "    \n",
    "    \n",
    "def sms_over_plan(row):\n",
    "    if row['Тариф'] == 'smart':\n",
    "        result = row['СМС, шт.'] - 50\n",
    "        return np.where(result > 0, result, 0)\n",
    "    else:\n",
    "        result =  row['СМС, шт.'] - 1000\n",
    "        return np.where(result > 0, result, 0)\n",
    "    \n",
    "\n",
    "def internet_over_plan(row):\n",
    "    if row['Тариф'] == 'smart':\n",
    "        result = row['Интернет, Мб'] - 15 * 1024\n",
    "        return np.where(result > 0, result, 0)\n",
    "    else:\n",
    "        result = row['Интернет, Мб'] - 30 * 1024\n",
    "        return np.where(result > 0, result, 0)\n",
    "    \n",
    "    \n",
    "def month_revenue(row):\n",
    "    sum_per_month = 0\n",
    "    if row['Тариф'] == 'smart':\n",
    "        sum_per_month += np.ceil(row['Минуты сверх']) * 3\n",
    "        sum_per_month += row['СМС сверх'] * 3\n",
    "        sum_per_month += np.ceil(row['Мб сверх']/1024) * 200\n",
    "        return sum_per_month\n",
    "    \n",
    "    else:\n",
    "        sum_per_month += np.ceil(row['Минуты сверх']) * 1\n",
    "        sum_per_month += row['СМС сверх'] * 1\n",
    "        sum_per_month += np.ceil(row['Мб сверх']/1024) * 150\n",
    "        return sum_per_month"
   ]
  },
  {
   "cell_type": "code",
   "execution_count": 50,
   "metadata": {},
   "outputs": [],
   "source": [
    "# Создаем новые столбцы и прменяем функции\n",
    "df_event_numbers['Минуты сверх'] = df_event_numbers.apply(calls_over_plan, axis=1)\n",
    "df_event_numbers['СМС сверх'] = df_event_numbers.apply(sms_over_plan, axis=1)\n",
    "df_event_numbers['Мб сверх'] = df_event_numbers.apply(internet_over_plan, axis=1)\n",
    "\n",
    "df_event_numbers['Плата сверх лимита, руб.'] = df_event_numbers.apply(month_revenue, axis=1)\n",
    "\n",
    "for column in ['Минуты сверх', 'Мб сверх']:\n",
    "    df_event_numbers[column] = df_event_numbers[column].astype('float')\n",
    "\n",
    "for column in ['СМС сверх', 'Плата сверх лимита, руб.']:\n",
    "    df_event_numbers[column] = df_event_numbers[column].astype('int')"
   ]
  },
  {
   "cell_type": "code",
   "execution_count": 51,
   "metadata": {},
   "outputs": [
    {
     "data": {
      "text/html": [
       "<div>\n",
       "<style scoped>\n",
       "    .dataframe tbody tr th:only-of-type {\n",
       "        vertical-align: middle;\n",
       "    }\n",
       "\n",
       "    .dataframe tbody tr th {\n",
       "        vertical-align: top;\n",
       "    }\n",
       "\n",
       "    .dataframe thead th {\n",
       "        text-align: right;\n",
       "    }\n",
       "</style>\n",
       "<table border=\"1\" class=\"dataframe\">\n",
       "  <thead>\n",
       "    <tr style=\"text-align: right;\">\n",
       "      <th></th>\n",
       "      <th>User_id</th>\n",
       "      <th>Время года</th>\n",
       "      <th>Месяц</th>\n",
       "      <th>Кол-во звонков, шт.</th>\n",
       "      <th>Звонки, мин.</th>\n",
       "      <th>СМС, шт.</th>\n",
       "      <th>Интернет, Мб</th>\n",
       "      <th>Тариф</th>\n",
       "      <th>Город</th>\n",
       "      <th>Аб. плата, руб.</th>\n",
       "      <th>Минуты сверх</th>\n",
       "      <th>СМС сверх</th>\n",
       "      <th>Мб сверх</th>\n",
       "      <th>Плата сверх лимита, руб.</th>\n",
       "    </tr>\n",
       "  </thead>\n",
       "  <tbody>\n",
       "    <tr>\n",
       "      <td>0</td>\n",
       "      <td>1000</td>\n",
       "      <td>весна</td>\n",
       "      <td>5</td>\n",
       "      <td>17.0</td>\n",
       "      <td>159.0</td>\n",
       "      <td>22.0</td>\n",
       "      <td>2256.0</td>\n",
       "      <td>ultra</td>\n",
       "      <td>Краснодар</td>\n",
       "      <td>1950</td>\n",
       "      <td>0.0</td>\n",
       "      <td>0</td>\n",
       "      <td>0.0</td>\n",
       "      <td>0</td>\n",
       "    </tr>\n",
       "    <tr>\n",
       "      <td>1</td>\n",
       "      <td>1000</td>\n",
       "      <td>зима</td>\n",
       "      <td>12</td>\n",
       "      <td>38.0</td>\n",
       "      <td>333.0</td>\n",
       "      <td>70.0</td>\n",
       "      <td>9827.0</td>\n",
       "      <td>ultra</td>\n",
       "      <td>Краснодар</td>\n",
       "      <td>1950</td>\n",
       "      <td>0.0</td>\n",
       "      <td>0</td>\n",
       "      <td>0.0</td>\n",
       "      <td>0</td>\n",
       "    </tr>\n",
       "    <tr>\n",
       "      <td>2</td>\n",
       "      <td>1000</td>\n",
       "      <td>лето</td>\n",
       "      <td>6</td>\n",
       "      <td>28.0</td>\n",
       "      <td>172.0</td>\n",
       "      <td>60.0</td>\n",
       "      <td>23257.0</td>\n",
       "      <td>ultra</td>\n",
       "      <td>Краснодар</td>\n",
       "      <td>1950</td>\n",
       "      <td>0.0</td>\n",
       "      <td>0</td>\n",
       "      <td>0.0</td>\n",
       "      <td>0</td>\n",
       "    </tr>\n",
       "    <tr>\n",
       "      <td>3</td>\n",
       "      <td>1000</td>\n",
       "      <td>лето</td>\n",
       "      <td>7</td>\n",
       "      <td>41.0</td>\n",
       "      <td>340.0</td>\n",
       "      <td>75.0</td>\n",
       "      <td>14016.0</td>\n",
       "      <td>ultra</td>\n",
       "      <td>Краснодар</td>\n",
       "      <td>1950</td>\n",
       "      <td>0.0</td>\n",
       "      <td>0</td>\n",
       "      <td>0.0</td>\n",
       "      <td>0</td>\n",
       "    </tr>\n",
       "    <tr>\n",
       "      <td>4</td>\n",
       "      <td>1000</td>\n",
       "      <td>лето</td>\n",
       "      <td>8</td>\n",
       "      <td>42.0</td>\n",
       "      <td>408.0</td>\n",
       "      <td>81.0</td>\n",
       "      <td>14070.0</td>\n",
       "      <td>ultra</td>\n",
       "      <td>Краснодар</td>\n",
       "      <td>1950</td>\n",
       "      <td>0.0</td>\n",
       "      <td>0</td>\n",
       "      <td>0.0</td>\n",
       "      <td>0</td>\n",
       "    </tr>\n",
       "    <tr>\n",
       "      <td>5</td>\n",
       "      <td>1000</td>\n",
       "      <td>осень</td>\n",
       "      <td>9</td>\n",
       "      <td>46.0</td>\n",
       "      <td>466.0</td>\n",
       "      <td>57.0</td>\n",
       "      <td>14581.0</td>\n",
       "      <td>ultra</td>\n",
       "      <td>Краснодар</td>\n",
       "      <td>1950</td>\n",
       "      <td>0.0</td>\n",
       "      <td>0</td>\n",
       "      <td>0.0</td>\n",
       "      <td>0</td>\n",
       "    </tr>\n",
       "    <tr>\n",
       "      <td>6</td>\n",
       "      <td>1000</td>\n",
       "      <td>осень</td>\n",
       "      <td>10</td>\n",
       "      <td>44.0</td>\n",
       "      <td>350.0</td>\n",
       "      <td>73.0</td>\n",
       "      <td>14717.0</td>\n",
       "      <td>ultra</td>\n",
       "      <td>Краснодар</td>\n",
       "      <td>1950</td>\n",
       "      <td>0.0</td>\n",
       "      <td>0</td>\n",
       "      <td>0.0</td>\n",
       "      <td>0</td>\n",
       "    </tr>\n",
       "    <tr>\n",
       "      <td>7</td>\n",
       "      <td>1000</td>\n",
       "      <td>осень</td>\n",
       "      <td>11</td>\n",
       "      <td>37.0</td>\n",
       "      <td>338.0</td>\n",
       "      <td>58.0</td>\n",
       "      <td>14768.0</td>\n",
       "      <td>ultra</td>\n",
       "      <td>Краснодар</td>\n",
       "      <td>1950</td>\n",
       "      <td>0.0</td>\n",
       "      <td>0</td>\n",
       "      <td>0.0</td>\n",
       "      <td>0</td>\n",
       "    </tr>\n",
       "    <tr>\n",
       "      <td>8</td>\n",
       "      <td>1001</td>\n",
       "      <td>зима</td>\n",
       "      <td>12</td>\n",
       "      <td>47.0</td>\n",
       "      <td>414.0</td>\n",
       "      <td>0.0</td>\n",
       "      <td>14053.0</td>\n",
       "      <td>smart</td>\n",
       "      <td>Москва</td>\n",
       "      <td>550</td>\n",
       "      <td>0.0</td>\n",
       "      <td>0</td>\n",
       "      <td>0.0</td>\n",
       "      <td>0</td>\n",
       "    </tr>\n",
       "    <tr>\n",
       "      <td>9</td>\n",
       "      <td>1001</td>\n",
       "      <td>осень</td>\n",
       "      <td>11</td>\n",
       "      <td>45.0</td>\n",
       "      <td>430.0</td>\n",
       "      <td>0.0</td>\n",
       "      <td>18452.0</td>\n",
       "      <td>smart</td>\n",
       "      <td>Москва</td>\n",
       "      <td>550</td>\n",
       "      <td>0.0</td>\n",
       "      <td>0</td>\n",
       "      <td>3092.0</td>\n",
       "      <td>800</td>\n",
       "    </tr>\n",
       "  </tbody>\n",
       "</table>\n",
       "</div>"
      ],
      "text/plain": [
       "   User_id Время года  Месяц  Кол-во звонков, шт.  Звонки, мин.  СМС, шт.  \\\n",
       "0     1000      весна      5                 17.0         159.0      22.0   \n",
       "1     1000       зима     12                 38.0         333.0      70.0   \n",
       "2     1000       лето      6                 28.0         172.0      60.0   \n",
       "3     1000       лето      7                 41.0         340.0      75.0   \n",
       "4     1000       лето      8                 42.0         408.0      81.0   \n",
       "5     1000      осень      9                 46.0         466.0      57.0   \n",
       "6     1000      осень     10                 44.0         350.0      73.0   \n",
       "7     1000      осень     11                 37.0         338.0      58.0   \n",
       "8     1001       зима     12                 47.0         414.0       0.0   \n",
       "9     1001      осень     11                 45.0         430.0       0.0   \n",
       "\n",
       "   Интернет, Мб  Тариф      Город  Аб. плата, руб.  Минуты сверх  СМС сверх  \\\n",
       "0        2256.0  ultra  Краснодар             1950           0.0          0   \n",
       "1        9827.0  ultra  Краснодар             1950           0.0          0   \n",
       "2       23257.0  ultra  Краснодар             1950           0.0          0   \n",
       "3       14016.0  ultra  Краснодар             1950           0.0          0   \n",
       "4       14070.0  ultra  Краснодар             1950           0.0          0   \n",
       "5       14581.0  ultra  Краснодар             1950           0.0          0   \n",
       "6       14717.0  ultra  Краснодар             1950           0.0          0   \n",
       "7       14768.0  ultra  Краснодар             1950           0.0          0   \n",
       "8       14053.0  smart     Москва              550           0.0          0   \n",
       "9       18452.0  smart     Москва              550           0.0          0   \n",
       "\n",
       "   Мб сверх  Плата сверх лимита, руб.  \n",
       "0       0.0                         0  \n",
       "1       0.0                         0  \n",
       "2       0.0                         0  \n",
       "3       0.0                         0  \n",
       "4       0.0                         0  \n",
       "5       0.0                         0  \n",
       "6       0.0                         0  \n",
       "7       0.0                         0  \n",
       "8       0.0                         0  \n",
       "9    3092.0                       800  "
      ]
     },
     "execution_count": 51,
     "metadata": {},
     "output_type": "execute_result"
    }
   ],
   "source": [
    "df_event_numbers.head(10)"
   ]
  },
  {
   "cell_type": "markdown",
   "metadata": {},
   "source": [
    "Видим что не хватает столбца `Сумма за месяц, руб.`"
   ]
  },
  {
   "cell_type": "code",
   "execution_count": 52,
   "metadata": {},
   "outputs": [],
   "source": [
    "# Построчно просуммируем данные по столбцам: \"Аб. плата\" и \"Плата сверх лимита\"\n",
    "df_event_numbers['Сумма за месяц, руб.'] = df_event_numbers['Аб. плата, руб.'] + df_event_numbers['Плата сверх лимита, руб.']"
   ]
  },
  {
   "cell_type": "code",
   "execution_count": 53,
   "metadata": {},
   "outputs": [
    {
     "data": {
      "text/html": [
       "<div>\n",
       "<style scoped>\n",
       "    .dataframe tbody tr th:only-of-type {\n",
       "        vertical-align: middle;\n",
       "    }\n",
       "\n",
       "    .dataframe tbody tr th {\n",
       "        vertical-align: top;\n",
       "    }\n",
       "\n",
       "    .dataframe thead th {\n",
       "        text-align: right;\n",
       "    }\n",
       "</style>\n",
       "<table border=\"1\" class=\"dataframe\">\n",
       "  <thead>\n",
       "    <tr style=\"text-align: right;\">\n",
       "      <th></th>\n",
       "      <th>User_id</th>\n",
       "      <th>Время года</th>\n",
       "      <th>Месяц</th>\n",
       "      <th>Кол-во звонков, шт.</th>\n",
       "      <th>Звонки, мин.</th>\n",
       "      <th>СМС, шт.</th>\n",
       "      <th>Интернет, Мб</th>\n",
       "      <th>Тариф</th>\n",
       "      <th>Город</th>\n",
       "      <th>Аб. плата, руб.</th>\n",
       "      <th>Минуты сверх</th>\n",
       "      <th>СМС сверх</th>\n",
       "      <th>Мб сверх</th>\n",
       "      <th>Плата сверх лимита, руб.</th>\n",
       "      <th>Сумма за месяц, руб.</th>\n",
       "    </tr>\n",
       "  </thead>\n",
       "  <tbody>\n",
       "    <tr>\n",
       "      <td>0</td>\n",
       "      <td>1000</td>\n",
       "      <td>весна</td>\n",
       "      <td>5</td>\n",
       "      <td>17.0</td>\n",
       "      <td>159.0</td>\n",
       "      <td>22.0</td>\n",
       "      <td>2256.0</td>\n",
       "      <td>ultra</td>\n",
       "      <td>Краснодар</td>\n",
       "      <td>1950</td>\n",
       "      <td>0.0</td>\n",
       "      <td>0</td>\n",
       "      <td>0.0</td>\n",
       "      <td>0</td>\n",
       "      <td>1950</td>\n",
       "    </tr>\n",
       "    <tr>\n",
       "      <td>1</td>\n",
       "      <td>1000</td>\n",
       "      <td>зима</td>\n",
       "      <td>12</td>\n",
       "      <td>38.0</td>\n",
       "      <td>333.0</td>\n",
       "      <td>70.0</td>\n",
       "      <td>9827.0</td>\n",
       "      <td>ultra</td>\n",
       "      <td>Краснодар</td>\n",
       "      <td>1950</td>\n",
       "      <td>0.0</td>\n",
       "      <td>0</td>\n",
       "      <td>0.0</td>\n",
       "      <td>0</td>\n",
       "      <td>1950</td>\n",
       "    </tr>\n",
       "    <tr>\n",
       "      <td>2</td>\n",
       "      <td>1000</td>\n",
       "      <td>лето</td>\n",
       "      <td>6</td>\n",
       "      <td>28.0</td>\n",
       "      <td>172.0</td>\n",
       "      <td>60.0</td>\n",
       "      <td>23257.0</td>\n",
       "      <td>ultra</td>\n",
       "      <td>Краснодар</td>\n",
       "      <td>1950</td>\n",
       "      <td>0.0</td>\n",
       "      <td>0</td>\n",
       "      <td>0.0</td>\n",
       "      <td>0</td>\n",
       "      <td>1950</td>\n",
       "    </tr>\n",
       "    <tr>\n",
       "      <td>3</td>\n",
       "      <td>1000</td>\n",
       "      <td>лето</td>\n",
       "      <td>7</td>\n",
       "      <td>41.0</td>\n",
       "      <td>340.0</td>\n",
       "      <td>75.0</td>\n",
       "      <td>14016.0</td>\n",
       "      <td>ultra</td>\n",
       "      <td>Краснодар</td>\n",
       "      <td>1950</td>\n",
       "      <td>0.0</td>\n",
       "      <td>0</td>\n",
       "      <td>0.0</td>\n",
       "      <td>0</td>\n",
       "      <td>1950</td>\n",
       "    </tr>\n",
       "    <tr>\n",
       "      <td>4</td>\n",
       "      <td>1000</td>\n",
       "      <td>лето</td>\n",
       "      <td>8</td>\n",
       "      <td>42.0</td>\n",
       "      <td>408.0</td>\n",
       "      <td>81.0</td>\n",
       "      <td>14070.0</td>\n",
       "      <td>ultra</td>\n",
       "      <td>Краснодар</td>\n",
       "      <td>1950</td>\n",
       "      <td>0.0</td>\n",
       "      <td>0</td>\n",
       "      <td>0.0</td>\n",
       "      <td>0</td>\n",
       "      <td>1950</td>\n",
       "    </tr>\n",
       "    <tr>\n",
       "      <td>5</td>\n",
       "      <td>1000</td>\n",
       "      <td>осень</td>\n",
       "      <td>9</td>\n",
       "      <td>46.0</td>\n",
       "      <td>466.0</td>\n",
       "      <td>57.0</td>\n",
       "      <td>14581.0</td>\n",
       "      <td>ultra</td>\n",
       "      <td>Краснодар</td>\n",
       "      <td>1950</td>\n",
       "      <td>0.0</td>\n",
       "      <td>0</td>\n",
       "      <td>0.0</td>\n",
       "      <td>0</td>\n",
       "      <td>1950</td>\n",
       "    </tr>\n",
       "    <tr>\n",
       "      <td>6</td>\n",
       "      <td>1000</td>\n",
       "      <td>осень</td>\n",
       "      <td>10</td>\n",
       "      <td>44.0</td>\n",
       "      <td>350.0</td>\n",
       "      <td>73.0</td>\n",
       "      <td>14717.0</td>\n",
       "      <td>ultra</td>\n",
       "      <td>Краснодар</td>\n",
       "      <td>1950</td>\n",
       "      <td>0.0</td>\n",
       "      <td>0</td>\n",
       "      <td>0.0</td>\n",
       "      <td>0</td>\n",
       "      <td>1950</td>\n",
       "    </tr>\n",
       "    <tr>\n",
       "      <td>7</td>\n",
       "      <td>1000</td>\n",
       "      <td>осень</td>\n",
       "      <td>11</td>\n",
       "      <td>37.0</td>\n",
       "      <td>338.0</td>\n",
       "      <td>58.0</td>\n",
       "      <td>14768.0</td>\n",
       "      <td>ultra</td>\n",
       "      <td>Краснодар</td>\n",
       "      <td>1950</td>\n",
       "      <td>0.0</td>\n",
       "      <td>0</td>\n",
       "      <td>0.0</td>\n",
       "      <td>0</td>\n",
       "      <td>1950</td>\n",
       "    </tr>\n",
       "    <tr>\n",
       "      <td>8</td>\n",
       "      <td>1001</td>\n",
       "      <td>зима</td>\n",
       "      <td>12</td>\n",
       "      <td>47.0</td>\n",
       "      <td>414.0</td>\n",
       "      <td>0.0</td>\n",
       "      <td>14053.0</td>\n",
       "      <td>smart</td>\n",
       "      <td>Москва</td>\n",
       "      <td>550</td>\n",
       "      <td>0.0</td>\n",
       "      <td>0</td>\n",
       "      <td>0.0</td>\n",
       "      <td>0</td>\n",
       "      <td>550</td>\n",
       "    </tr>\n",
       "    <tr>\n",
       "      <td>9</td>\n",
       "      <td>1001</td>\n",
       "      <td>осень</td>\n",
       "      <td>11</td>\n",
       "      <td>45.0</td>\n",
       "      <td>430.0</td>\n",
       "      <td>0.0</td>\n",
       "      <td>18452.0</td>\n",
       "      <td>smart</td>\n",
       "      <td>Москва</td>\n",
       "      <td>550</td>\n",
       "      <td>0.0</td>\n",
       "      <td>0</td>\n",
       "      <td>3092.0</td>\n",
       "      <td>800</td>\n",
       "      <td>1350</td>\n",
       "    </tr>\n",
       "  </tbody>\n",
       "</table>\n",
       "</div>"
      ],
      "text/plain": [
       "   User_id Время года  Месяц  Кол-во звонков, шт.  Звонки, мин.  СМС, шт.  \\\n",
       "0     1000      весна      5                 17.0         159.0      22.0   \n",
       "1     1000       зима     12                 38.0         333.0      70.0   \n",
       "2     1000       лето      6                 28.0         172.0      60.0   \n",
       "3     1000       лето      7                 41.0         340.0      75.0   \n",
       "4     1000       лето      8                 42.0         408.0      81.0   \n",
       "5     1000      осень      9                 46.0         466.0      57.0   \n",
       "6     1000      осень     10                 44.0         350.0      73.0   \n",
       "7     1000      осень     11                 37.0         338.0      58.0   \n",
       "8     1001       зима     12                 47.0         414.0       0.0   \n",
       "9     1001      осень     11                 45.0         430.0       0.0   \n",
       "\n",
       "   Интернет, Мб  Тариф      Город  Аб. плата, руб.  Минуты сверх  СМС сверх  \\\n",
       "0        2256.0  ultra  Краснодар             1950           0.0          0   \n",
       "1        9827.0  ultra  Краснодар             1950           0.0          0   \n",
       "2       23257.0  ultra  Краснодар             1950           0.0          0   \n",
       "3       14016.0  ultra  Краснодар             1950           0.0          0   \n",
       "4       14070.0  ultra  Краснодар             1950           0.0          0   \n",
       "5       14581.0  ultra  Краснодар             1950           0.0          0   \n",
       "6       14717.0  ultra  Краснодар             1950           0.0          0   \n",
       "7       14768.0  ultra  Краснодар             1950           0.0          0   \n",
       "8       14053.0  smart     Москва              550           0.0          0   \n",
       "9       18452.0  smart     Москва              550           0.0          0   \n",
       "\n",
       "   Мб сверх  Плата сверх лимита, руб.  Сумма за месяц, руб.  \n",
       "0       0.0                         0                  1950  \n",
       "1       0.0                         0                  1950  \n",
       "2       0.0                         0                  1950  \n",
       "3       0.0                         0                  1950  \n",
       "4       0.0                         0                  1950  \n",
       "5       0.0                         0                  1950  \n",
       "6       0.0                         0                  1950  \n",
       "7       0.0                         0                  1950  \n",
       "8       0.0                         0                   550  \n",
       "9    3092.0                       800                  1350  "
      ]
     },
     "execution_count": 53,
     "metadata": {},
     "output_type": "execute_result"
    }
   ],
   "source": [
    "df_event_numbers.head(10)"
   ]
  },
  {
   "cell_type": "markdown",
   "metadata": {},
   "source": [
    "Супер!"
   ]
  },
  {
   "cell_type": "markdown",
   "metadata": {},
   "source": [
    "# Шаг 3. Проанализируем данные"
   ]
  },
  {
   "cell_type": "markdown",
   "metadata": {},
   "source": [
    "## Опишите поведение клиентов оператора, исходя из выборки\n",
    "\n",
    "\n",
    "Для удобства создадим столбец 'Не хватило тарифа' с признаком: \"0\" - клиент не превышал месячные лимиты тарифа, \"1\" - превышал."
   ]
  },
  {
   "cell_type": "markdown",
   "metadata": {},
   "source": [
    "#### Формирование выборки"
   ]
  },
  {
   "cell_type": "code",
   "execution_count": 54,
   "metadata": {},
   "outputs": [],
   "source": [
    "df_event_numbers['Не хватило тарифа'] = np.where(df_event_numbers['Плата сверх лимита, руб.'] > 0, 1, 0)"
   ]
  },
  {
   "cell_type": "code",
   "execution_count": 55,
   "metadata": {},
   "outputs": [
    {
     "data": {
      "text/plain": [
       "Text(0, 0.5, 'Количество')"
      ]
     },
     "execution_count": 55,
     "metadata": {},
     "output_type": "execute_result"
    },
    {
     "data": {
      "image/png": "[encoded data removed]",
      "text/plain": [
       "<Figure size 432x288 with 1 Axes>"
      ]
     },
     "metadata": {
      "needs_background": "light"
     },
     "output_type": "display_data"
    }
   ],
   "source": [
    "#Построим гистограмму \"переплат\" клиентов тарифа Смарт\n",
    "title = 'Гистограмма переплат, тариф \"Смарт\"'\n",
    "df_filtered = df_event_numbers[(df_event_numbers['Тариф'] == 'smart') & \n",
    "                               (df_event_numbers['Плата сверх лимита, руб.'] > 0)]['Плата сверх лимита, руб.']\n",
    "ax = df_filtered.plot(kind='hist', title=title, ec='black', bins=50)\n",
    "ax.set_title('Гистограмма переплат, тариф \"Смарт\"')\n",
    "ax.set_xlabel('Сумма')\n",
    "ax.set_ylabel('Количество')"
   ]
  },
  {
   "cell_type": "markdown",
   "metadata": {},
   "source": [
    "Мы видим что довольно много переплат, с учетом того что тариф стоит 550 рублей"
   ]
  },
  {
   "cell_type": "code",
   "execution_count": 56,
   "metadata": {},
   "outputs": [
    {
     "data": {
      "text/plain": [
       "Text(0, 0.5, 'Количество')"
      ]
     },
     "execution_count": 56,
     "metadata": {},
     "output_type": "execute_result"
    },
    {
     "data": {
      "image/png": "[encoded data removed]",
      "text/plain": [
       "<Figure size 432x288 with 1 Axes>"
      ]
     },
     "metadata": {
      "needs_background": "light"
     },
     "output_type": "display_data"
    }
   ],
   "source": [
    "# Посмотрим на нее чуть ближе\n",
    "df_filtered_less1000 = df_event_numbers[(df_event_numbers['Тариф'] == 'smart') & \n",
    "                                        (df_event_numbers['Плата сверх лимита, руб.'] > 0) &\n",
    "                                        (df_event_numbers['Плата сверх лимита, руб.'] < 1000)]['Плата сверх лимита, руб.']\n",
    "ax = df_filtered_less1000.plot(kind='hist', title=title, ec='black', bins=50)\n",
    "ax.set_title('Гистограмма переплат, тариф \"Смарт\"')\n",
    "ax.set_xlabel('Сумма')\n",
    "ax.set_ylabel('Количество')"
   ]
  },
  {
   "cell_type": "markdown",
   "metadata": {},
   "source": [
    "Ага, видим что довольно часто клиенты дозаказывали себе гигабайт интернета за 200 рублей, это позволяет сделать вывод, что **клиентам смарта не хватает количесва трафика интернета включенного в тариф**"
   ]
  },
  {
   "cell_type": "code",
   "execution_count": 57,
   "metadata": {},
   "outputs": [
    {
     "data": {
      "text/plain": [
       "Text(0, 0.5, 'Количество')"
      ]
     },
     "execution_count": 57,
     "metadata": {},
     "output_type": "execute_result"
    },
    {
     "data": {
      "image/png": "[encoded data removed]",
      "text/plain": [
       "<Figure size 432x288 with 1 Axes>"
      ]
     },
     "metadata": {
      "needs_background": "light"
     },
     "output_type": "display_data"
    }
   ],
   "source": [
    "# Построим гистограмму \"переплат\" клиентов тарифа Ультра\n",
    "df_filtered = df_event_numbers[(df_event_numbers['Тариф'] == 'ultra') & \n",
    "                               (df_event_numbers['Плата сверх лимита, руб.'] > 0)]['Плата сверх лимита, руб.']\n",
    "ax = df_filtered.plot(kind='hist', title=title, ec='black', bins=50)\n",
    "ax.set_title('Гистограмма переплат, тариф \"Ультра\"')\n",
    "ax.set_xlabel('Сумма')\n",
    "ax.set_ylabel('Количество')"
   ]
  },
  {
   "cell_type": "markdown",
   "metadata": {},
   "source": [
    "Переплаты также есть, в основном до 1500 рублей. Посмотрим ближе!"
   ]
  },
  {
   "cell_type": "code",
   "execution_count": 58,
   "metadata": {},
   "outputs": [
    {
     "data": {
      "text/plain": [
       "Text(0, 0.5, 'Количество')"
      ]
     },
     "execution_count": 58,
     "metadata": {},
     "output_type": "execute_result"
    },
    {
     "data": {
      "image/png": "[encoded data removed]",
      "text/plain": [
       "<Figure size 432x288 with 1 Axes>"
      ]
     },
     "metadata": {
      "needs_background": "light"
     },
     "output_type": "display_data"
    }
   ],
   "source": [
    "df_filtered_less1000 = df_event_numbers[(df_event_numbers['Тариф'] == 'ultra') & \n",
    "                                        (df_event_numbers['Плата сверх лимита, руб.'] > 0) &\n",
    "                                        (df_event_numbers['Плата сверх лимита, руб.'] < 1500)]['Плата сверх лимита, руб.']\n",
    "ax = df_filtered_less1000.plot(kind='hist', title=title, ec='black', bins=50)\n",
    "ax.set_title('Гистограмма переплат, тариф \"Ультра\"')\n",
    "ax.set_xlabel('Сумма')\n",
    "ax.set_ylabel('Количество')"
   ]
  },
  {
   "cell_type": "markdown",
   "metadata": {},
   "source": [
    "Также видим, что **переплачивают по 150р. за дополнительный 1 Гб интернет-трафика различное количество раз!**"
   ]
  },
  {
   "cell_type": "markdown",
   "metadata": {},
   "source": [
    "#### Услуги которые чаще дозаказывают пользователи каждого из тарифов"
   ]
  },
  {
   "cell_type": "code",
   "execution_count": 59,
   "metadata": {},
   "outputs": [
    {
     "data": {
      "text/html": [
       "<div>\n",
       "<style scoped>\n",
       "    .dataframe tbody tr th:only-of-type {\n",
       "        vertical-align: middle;\n",
       "    }\n",
       "\n",
       "    .dataframe tbody tr th {\n",
       "        vertical-align: top;\n",
       "    }\n",
       "\n",
       "    .dataframe thead th {\n",
       "        text-align: right;\n",
       "    }\n",
       "</style>\n",
       "<table border=\"1\" class=\"dataframe\">\n",
       "  <thead>\n",
       "    <tr style=\"text-align: right;\">\n",
       "      <th></th>\n",
       "      <th>Тариф</th>\n",
       "      <th>Минуты сверх</th>\n",
       "      <th>СМС сверх</th>\n",
       "      <th>Мб сверх</th>\n",
       "    </tr>\n",
       "  </thead>\n",
       "  <tbody>\n",
       "    <tr>\n",
       "      <td>0</td>\n",
       "      <td>smart</td>\n",
       "      <td>92739.0</td>\n",
       "      <td>12928</td>\n",
       "      <td>6175667.0</td>\n",
       "    </tr>\n",
       "    <tr>\n",
       "      <td>1</td>\n",
       "      <td>ultra</td>\n",
       "      <td>0.0</td>\n",
       "      <td>0</td>\n",
       "      <td>743233.0</td>\n",
       "    </tr>\n",
       "  </tbody>\n",
       "</table>\n",
       "</div>"
      ],
      "text/plain": [
       "   Тариф  Минуты сверх  СМС сверх   Мб сверх\n",
       "0  smart       92739.0      12928  6175667.0\n",
       "1  ultra           0.0          0   743233.0"
      ]
     },
     "execution_count": 59,
     "metadata": {},
     "output_type": "execute_result"
    }
   ],
   "source": [
    "(df_event_numbers.groupby('Тариф').sum()[['Минуты сверх', 'СМС сверх', 'Мб сверх']]).reset_index()"
   ]
  },
  {
   "cell_type": "markdown",
   "metadata": {},
   "source": [
    "**Вывод** Пользователи тарифа Смарт доказывают услуги всех типов. Пользователи тарифа Ультра - только интернет."
   ]
  },
  {
   "cell_type": "markdown",
   "metadata": {},
   "source": [
    "#### Круговые диаграммы"
   ]
  },
  {
   "cell_type": "code",
   "execution_count": 60,
   "metadata": {},
   "outputs": [
    {
     "data": {
      "image/png": "[encoded data removed]",
      "text/plain": [
       "<Figure size 1440x360 with 1 Axes>"
      ]
     },
     "metadata": {},
     "output_type": "display_data"
    }
   ],
   "source": [
    "# Подсчитаем выручку за год по тарифам\n",
    "all_revenue = df_event_numbers['Сумма за месяц, руб.'].sum()\n",
    "\n",
    "\n",
    "def func_pct(pct):\n",
    "    value = float(pct/100.*all_revenue)\n",
    "    return \"{:.2f}%\\n({:,.0f} руб.)\".format(pct, value)\n",
    "\n",
    "explode = (0.05, 0)  # сектор 'ultra' немного выдвинем\n",
    "\n",
    "axes = df_event_numbers.groupby('Тариф')['Сумма за месяц, руб.'].sum().plot(kind='pie', subplots=True, fontsize=15,\n",
    "                                                                     use_index=False, shadow=True, explode=explode,\n",
    "                                                                     title = 'Выручка', pctdistance=0.45,\n",
    "                                                                     startangle=20, figsize=(20,5),\n",
    "                                                                     autopct=lambda pct: func_pct(pct))\n",
    "\n",
    "for ax in axes:\n",
    "    ax.legend(['Смарт', 'Ультра'], bbox_to_anchor=(0.5,0.5), framealpha=0.2, prop={'size':12})\n",
    "    ax.set_ylabel('')"
   ]
  },
  {
   "cell_type": "code",
   "execution_count": 61,
   "metadata": {},
   "outputs": [
    {
     "data": {
      "image/png": "[encoded data removed]",
      "text/plain": [
       "<Figure size 1440x360 with 1 Axes>"
      ]
     },
     "metadata": {},
     "output_type": "display_data"
    }
   ],
   "source": [
    "# Распределение клиентов по тарифвам\n",
    "all_users = df_event_numbers['User_id'].count()\n",
    "\n",
    "\n",
    "def func_pct(pct):\n",
    "    value = float(pct/100.*all_users)\n",
    "    return \"{:.2f}%\\n({:.0f} чел.)\".format(pct, value)\n",
    "\n",
    "explode = (0.05, 0)  # сектор 'ultra' немного выдвинем\n",
    "\n",
    "axes = df_event_numbers.groupby('Тариф')['User_id'].count().plot(kind='pie', subplots=True, fontsize=15,\n",
    "                                                                     use_index=False, shadow=True, explode=explode,\n",
    "                                                                     title = 'Распределение по клиентам', pctdistance=0.45,\n",
    "                                                                     figsize=(20,5), autopct=lambda pct: func_pct(pct))\n",
    "\n",
    "plt.tight_layout(pad=0)\n",
    "\n",
    "for ax in axes:\n",
    "    ax.legend(['Смарт', 'Ультра'], bbox_to_anchor=(0.5,0.5), prop={'size':12})\n",
    "    ax.set_ylabel('')"
   ]
  },
  {
   "cell_type": "code",
   "execution_count": 62,
   "metadata": {
    "scrolled": true
   },
   "outputs": [
    {
     "data": {
      "image/png": "[encoded data removed]",
      "text/plain": [
       "<Figure size 1440x360 with 3 Axes>"
      ]
     },
     "metadata": {},
     "output_type": "display_data"
    }
   ],
   "source": [
    "# Использование трафика по тарифам\n",
    "columns_to_plot = ['Звонки, мин.', 'СМС, шт.', 'Интернет, Мб']\n",
    "\n",
    "calls_sum = df_event_numbers['Звонки, мин.'].sum()\n",
    "sms_sum = df_event_numbers['СМС, шт.'].sum()\n",
    "internet_sum = df_event_numbers['Интернет, Мб'].sum()\n",
    "\n",
    "def func_pct(pct):\n",
    "    if pct > 65 or pct < 35:\n",
    "        sum_of_data = internet_sum\n",
    "        value = float(pct/100.*sum_of_data/1024)\n",
    "        metric = 'Гб'\n",
    "    elif pct > 64 or pct < 36:\n",
    "        sum_of_data = calls_sum\n",
    "        value = float(pct/100.*sum_of_data)\n",
    "        metric = 'мин.'\n",
    "    else:\n",
    "        sum_of_data = sms_sum\n",
    "        value = float(pct/100.*sum_of_data)\n",
    "        metric = 'шт.'\n",
    "    return \"{:.2f}%\\n({:.0f} {})\".format(pct, value, metric)\n",
    "\n",
    "explode = (0.05, 0)  # сектор 'ultra' немного выдвинем\n",
    "\n",
    "axes = df_event_numbers.groupby('Тариф')[columns_to_plot].sum().plot(kind='pie', subplots=True, fontsize=15,\n",
    "                                                                       use_index=False, shadow=True, explode=explode,\n",
    "                                                                       title = columns_to_plot, pctdistance=0.45,\n",
    "                                                                       autopct=lambda pct: func_pct(pct), figsize=(20,5))\n",
    "\n",
    "for ax in axes:\n",
    "    ax.legend(['Смарт', 'Ультра'], framealpha=0.2, bbox_to_anchor=(0.87,0.87), prop={'size':15})\n",
    "    ax.set_ylabel('')"
   ]
  },
  {
   "cell_type": "code",
   "execution_count": 63,
   "metadata": {},
   "outputs": [
    {
     "data": {
      "text/html": [
       "<div>\n",
       "<style scoped>\n",
       "    .dataframe tbody tr th:only-of-type {\n",
       "        vertical-align: middle;\n",
       "    }\n",
       "\n",
       "    .dataframe tbody tr th {\n",
       "        vertical-align: top;\n",
       "    }\n",
       "\n",
       "    .dataframe thead th {\n",
       "        text-align: right;\n",
       "    }\n",
       "</style>\n",
       "<table border=\"1\" class=\"dataframe\">\n",
       "  <thead>\n",
       "    <tr style=\"text-align: right;\">\n",
       "      <th></th>\n",
       "      <th>User_id</th>\n",
       "      <th>Время года</th>\n",
       "      <th>Месяц</th>\n",
       "      <th>Кол-во звонков, шт.</th>\n",
       "      <th>Звонки, мин.</th>\n",
       "      <th>СМС, шт.</th>\n",
       "      <th>Интернет, Мб</th>\n",
       "      <th>Тариф</th>\n",
       "      <th>Город</th>\n",
       "      <th>Аб. плата, руб.</th>\n",
       "      <th>Минуты сверх</th>\n",
       "      <th>СМС сверх</th>\n",
       "      <th>Мб сверх</th>\n",
       "      <th>Плата сверх лимита, руб.</th>\n",
       "      <th>Сумма за месяц, руб.</th>\n",
       "      <th>Не хватило тарифа</th>\n",
       "    </tr>\n",
       "  </thead>\n",
       "  <tbody>\n",
       "    <tr>\n",
       "      <td>0</td>\n",
       "      <td>1000</td>\n",
       "      <td>весна</td>\n",
       "      <td>5</td>\n",
       "      <td>17.0</td>\n",
       "      <td>159.0</td>\n",
       "      <td>22.0</td>\n",
       "      <td>2256.0</td>\n",
       "      <td>ultra</td>\n",
       "      <td>Краснодар</td>\n",
       "      <td>1950</td>\n",
       "      <td>0.0</td>\n",
       "      <td>0</td>\n",
       "      <td>0.0</td>\n",
       "      <td>0</td>\n",
       "      <td>1950</td>\n",
       "      <td>0</td>\n",
       "    </tr>\n",
       "    <tr>\n",
       "      <td>1</td>\n",
       "      <td>1000</td>\n",
       "      <td>зима</td>\n",
       "      <td>12</td>\n",
       "      <td>38.0</td>\n",
       "      <td>333.0</td>\n",
       "      <td>70.0</td>\n",
       "      <td>9827.0</td>\n",
       "      <td>ultra</td>\n",
       "      <td>Краснодар</td>\n",
       "      <td>1950</td>\n",
       "      <td>0.0</td>\n",
       "      <td>0</td>\n",
       "      <td>0.0</td>\n",
       "      <td>0</td>\n",
       "      <td>1950</td>\n",
       "      <td>0</td>\n",
       "    </tr>\n",
       "    <tr>\n",
       "      <td>2</td>\n",
       "      <td>1000</td>\n",
       "      <td>лето</td>\n",
       "      <td>6</td>\n",
       "      <td>28.0</td>\n",
       "      <td>172.0</td>\n",
       "      <td>60.0</td>\n",
       "      <td>23257.0</td>\n",
       "      <td>ultra</td>\n",
       "      <td>Краснодар</td>\n",
       "      <td>1950</td>\n",
       "      <td>0.0</td>\n",
       "      <td>0</td>\n",
       "      <td>0.0</td>\n",
       "      <td>0</td>\n",
       "      <td>1950</td>\n",
       "      <td>0</td>\n",
       "    </tr>\n",
       "    <tr>\n",
       "      <td>3</td>\n",
       "      <td>1000</td>\n",
       "      <td>лето</td>\n",
       "      <td>7</td>\n",
       "      <td>41.0</td>\n",
       "      <td>340.0</td>\n",
       "      <td>75.0</td>\n",
       "      <td>14016.0</td>\n",
       "      <td>ultra</td>\n",
       "      <td>Краснодар</td>\n",
       "      <td>1950</td>\n",
       "      <td>0.0</td>\n",
       "      <td>0</td>\n",
       "      <td>0.0</td>\n",
       "      <td>0</td>\n",
       "      <td>1950</td>\n",
       "      <td>0</td>\n",
       "    </tr>\n",
       "    <tr>\n",
       "      <td>4</td>\n",
       "      <td>1000</td>\n",
       "      <td>лето</td>\n",
       "      <td>8</td>\n",
       "      <td>42.0</td>\n",
       "      <td>408.0</td>\n",
       "      <td>81.0</td>\n",
       "      <td>14070.0</td>\n",
       "      <td>ultra</td>\n",
       "      <td>Краснодар</td>\n",
       "      <td>1950</td>\n",
       "      <td>0.0</td>\n",
       "      <td>0</td>\n",
       "      <td>0.0</td>\n",
       "      <td>0</td>\n",
       "      <td>1950</td>\n",
       "      <td>0</td>\n",
       "    </tr>\n",
       "  </tbody>\n",
       "</table>\n",
       "</div>"
      ],
      "text/plain": [
       "   User_id Время года  Месяц  Кол-во звонков, шт.  Звонки, мин.  СМС, шт.  \\\n",
       "0     1000      весна      5                 17.0         159.0      22.0   \n",
       "1     1000       зима     12                 38.0         333.0      70.0   \n",
       "2     1000       лето      6                 28.0         172.0      60.0   \n",
       "3     1000       лето      7                 41.0         340.0      75.0   \n",
       "4     1000       лето      8                 42.0         408.0      81.0   \n",
       "\n",
       "   Интернет, Мб  Тариф      Город  Аб. плата, руб.  Минуты сверх  СМС сверх  \\\n",
       "0        2256.0  ultra  Краснодар             1950           0.0          0   \n",
       "1        9827.0  ultra  Краснодар             1950           0.0          0   \n",
       "2       23257.0  ultra  Краснодар             1950           0.0          0   \n",
       "3       14016.0  ultra  Краснодар             1950           0.0          0   \n",
       "4       14070.0  ultra  Краснодар             1950           0.0          0   \n",
       "\n",
       "   Мб сверх  Плата сверх лимита, руб.  Сумма за месяц, руб.  Не хватило тарифа  \n",
       "0       0.0                         0                  1950                  0  \n",
       "1       0.0                         0                  1950                  0  \n",
       "2       0.0                         0                  1950                  0  \n",
       "3       0.0                         0                  1950                  0  \n",
       "4       0.0                         0                  1950                  0  "
      ]
     },
     "execution_count": 63,
     "metadata": {},
     "output_type": "execute_result"
    }
   ],
   "source": [
    "df_event_numbers.head()"
   ]
  },
  {
   "cell_type": "code",
   "execution_count": 64,
   "metadata": {},
   "outputs": [
    {
     "data": {
      "text/plain": [
       "count    2229.000000\n",
       "mean       46.947510\n",
       "std        21.039171\n",
       "min         0.000000\n",
       "25%        32.000000\n",
       "50%        47.000000\n",
       "75%        61.000000\n",
       "max       162.000000\n",
       "Name: Кол-во звонков, шт., dtype: float64"
      ]
     },
     "execution_count": 64,
     "metadata": {},
     "output_type": "execute_result"
    },
    {
     "data": {
      "image/png": "[encoded data removed]",
      "text/plain": [
       "<Figure size 432x288 with 1 Axes>"
      ]
     },
     "metadata": {
      "needs_background": "light"
     },
     "output_type": "display_data"
    }
   ],
   "source": [
    "smart_call_hist = df_event_numbers[(df_event_numbers['Тариф'] == 'smart') & \n",
    "                               (df_event_numbers['Кол-во звонков, шт.'] >= 0)]['Кол-во звонков, шт.']\n",
    "ax = smart_call_hist.plot(kind='hist', title=title, ec='black', bins=50)\n",
    "ax.set_title('Гистограмма кол-ва звонков, тариф \"Смарт\"')\n",
    "ax.set_xlabel('Кол-во звонков, шт.')\n",
    "ax.set_ylabel('Количество')\n",
    "\n",
    "smart_call_hist.describe()"
   ]
  },
  {
   "cell_type": "code",
   "execution_count": 65,
   "metadata": {},
   "outputs": [
    {
     "data": {
      "text/plain": [
       "count    985.000000\n",
       "mean      59.236548\n",
       "std       35.562722\n",
       "min        0.000000\n",
       "25%       33.000000\n",
       "50%       58.000000\n",
       "75%       84.000000\n",
       "max      190.000000\n",
       "Name: Кол-во звонков, шт., dtype: float64"
      ]
     },
     "execution_count": 65,
     "metadata": {},
     "output_type": "execute_result"
    },
    {
     "data": {
      "image/png": "[encoded data removed]",
      "text/plain": [
       "<Figure size 432x288 with 1 Axes>"
      ]
     },
     "metadata": {
      "needs_background": "light"
     },
     "output_type": "display_data"
    }
   ],
   "source": [
    "ultra_call_hist = df_event_numbers[(df_event_numbers['Тариф'] == 'ultra') & \n",
    "                               (df_event_numbers['Кол-во звонков, шт.'] >= 0)]['Кол-во звонков, шт.']\n",
    "ax = ultra_call_hist.plot(kind='hist', title=title, ec='black', bins=50)\n",
    "ax.set_title('Гистограмма кол-ва звонков, тариф \"Ультра\"')\n",
    "ax.set_xlabel('Кол-во звонков, шт.')\n",
    "ax.set_ylabel('Количество')\n",
    "\n",
    "ultra_call_hist.describe()"
   ]
  },
  {
   "cell_type": "code",
   "execution_count": 66,
   "metadata": {},
   "outputs": [
    {
     "data": {
      "text/plain": [
       "count    2229.000000\n",
       "mean       46.947510\n",
       "std        21.039171\n",
       "min         0.000000\n",
       "25%        32.000000\n",
       "50%        47.000000\n",
       "75%        61.000000\n",
       "max       162.000000\n",
       "Name: Кол-во звонков, шт., dtype: float64"
      ]
     },
     "execution_count": 66,
     "metadata": {},
     "output_type": "execute_result"
    },
    {
     "data": {
      "image/png": "[encoded data removed]",
      "text/plain": [
       "<Figure size 432x288 with 1 Axes>"
      ]
     },
     "metadata": {
      "needs_background": "light"
     },
     "output_type": "display_data"
    }
   ],
   "source": [
    "smart_sms_hist = df_event_numbers[(df_event_numbers['Тариф'] == 'smart') & \n",
    "                               (df_event_numbers['СМС, шт.'] >= 0)]['Кол-во звонков, шт.']\n",
    "ax = smart_call_hist.plot(kind='hist', title=title, ec='black', bins=50)\n",
    "ax.set_title('Гистограмма кол-ва СМС, тариф \"Смарт\"')\n",
    "ax.set_xlabel('СМС, шт.')\n",
    "ax.set_ylabel('Количество')\n",
    "\n",
    "smart_sms_hist.describe()"
   ]
  },
  {
   "cell_type": "code",
   "execution_count": 67,
   "metadata": {},
   "outputs": [
    {
     "data": {
      "text/plain": [
       "count    985.000000\n",
       "mean      59.236548\n",
       "std       35.562722\n",
       "min        0.000000\n",
       "25%       33.000000\n",
       "50%       58.000000\n",
       "75%       84.000000\n",
       "max      190.000000\n",
       "Name: Кол-во звонков, шт., dtype: float64"
      ]
     },
     "execution_count": 67,
     "metadata": {},
     "output_type": "execute_result"
    },
    {
     "data": {
      "image/png": "[encoded data removed]",
      "text/plain": [
       "<Figure size 432x288 with 1 Axes>"
      ]
     },
     "metadata": {
      "needs_background": "light"
     },
     "output_type": "display_data"
    }
   ],
   "source": [
    "ultra_sms_hist = df_event_numbers[(df_event_numbers['Тариф'] == 'ultra') & \n",
    "                               (df_event_numbers['СМС, шт.'] >= 0)]['Кол-во звонков, шт.']\n",
    "ax = ultra_call_hist.plot(kind='hist', title=title, ec='black', bins=50)\n",
    "ax.set_title('Гистограмма кол-ва СМС, тариф \"Ультра\"')\n",
    "ax.set_xlabel('СМС, шт.')\n",
    "ax.set_ylabel('Количество')\n",
    "\n",
    "ultra_sms_hist.describe()"
   ]
  },
  {
   "cell_type": "code",
   "execution_count": 68,
   "metadata": {},
   "outputs": [
    {
     "data": {
      "text/plain": [
       "count    2229.000000\n",
       "mean       46.947510\n",
       "std        21.039171\n",
       "min         0.000000\n",
       "25%        32.000000\n",
       "50%        47.000000\n",
       "75%        61.000000\n",
       "max       162.000000\n",
       "Name: Кол-во звонков, шт., dtype: float64"
      ]
     },
     "execution_count": 68,
     "metadata": {},
     "output_type": "execute_result"
    },
    {
     "data": {
      "image/png": "[encoded data removed]",
      "text/plain": [
       "<Figure size 432x288 with 1 Axes>"
      ]
     },
     "metadata": {
      "needs_background": "light"
     },
     "output_type": "display_data"
    }
   ],
   "source": [
    "smart_internet_hist = df_event_numbers[(df_event_numbers['Тариф'] == 'smart') & \n",
    "                               (df_event_numbers['Интернет, Мб'] >= 0)]['Кол-во звонков, шт.']\n",
    "ax = smart_call_hist.plot(kind='hist', title=title, ec='black', bins=50)\n",
    "ax.set_title('Гистограмма кол-ва трафика, тариф \"Смарт\"')\n",
    "ax.set_xlabel('Интернет, Мб')\n",
    "ax.set_ylabel('Количество')\n",
    "\n",
    "smart_internet_hist.describe()"
   ]
  },
  {
   "cell_type": "code",
   "execution_count": 69,
   "metadata": {},
   "outputs": [
    {
     "data": {
      "text/plain": [
       "count    985.000000\n",
       "mean      59.236548\n",
       "std       35.562722\n",
       "min        0.000000\n",
       "25%       33.000000\n",
       "50%       58.000000\n",
       "75%       84.000000\n",
       "max      190.000000\n",
       "Name: Кол-во звонков, шт., dtype: float64"
      ]
     },
     "execution_count": 69,
     "metadata": {},
     "output_type": "execute_result"
    },
    {
     "data": {
      "image/png": "[encoded data removed]",
      "text/plain": [
       "<Figure size 432x288 with 1 Axes>"
      ]
     },
     "metadata": {
      "needs_background": "light"
     },
     "output_type": "display_data"
    }
   ],
   "source": [
    "ultra_sms_hist = df_event_numbers[(df_event_numbers['Тариф'] == 'ultra') & \n",
    "                               (df_event_numbers['СМС, шт.'] >= 0)]['Кол-во звонков, шт.']\n",
    "ax = ultra_call_hist.plot(kind='hist', title=title, ec='black', bins=50)\n",
    "ax.set_title('Гистограмма кол-ва трафика, тариф \"Ультра\"')\n",
    "ax.set_xlabel('Интернет, Мб')\n",
    "ax.set_ylabel('Количество')\n",
    "\n",
    "ultra_sms_hist.describe()"
   ]
  },
  {
   "cell_type": "markdown",
   "metadata": {},
   "source": [
    "| Тариф         | Кол-во абонентов.  |      Звонки          |   СМС            | Интернет | Выручка |\n",
    "|---------------|--------------------|--------------------- |------------------|---------|----------|\n",
    "| Тариф \"Смарт\" |**69,3 %**\t2229 чел.|**64,2 %** 931 577 мин|**60,5 %**\t74413 шт. |**65,3 %**\t35 327 Гб|**58,6 %**\t2,89 млн руб.|\n",
    "| Тариф \"Ультра\"| 30,7 %\t985 чел. |35,8 % 518 724 мин    |39,5 %\t48623 шт.     | 34,7 %\t18 745 Гб|41,4 %\t2,04 млн руб.|\n"
   ]
  },
  {
   "cell_type": "markdown",
   "metadata": {},
   "source": [
    "**Вывод** Больше людей пользуются тарифом Смарт, больше трафика проходит через тариф Смарт, больше отправляется смс и больше совершается звонков, и, как следствие, большую часть выручки приносит тариф Смарт, даже несмотря на что, что абонентская плата по тарифу Ультра в 3 раза выше."
   ]
  },
  {
   "cell_type": "markdown",
   "metadata": {},
   "source": [
    "# Шаг 4. Проверка гипотез"
   ]
  },
  {
   "cell_type": "markdown",
   "metadata": {},
   "source": [
    "## Проверка гипотезы, что средняя выручка пользователей тарифов «Ультра» и «Смарт» различается"
   ]
  },
  {
   "cell_type": "markdown",
   "metadata": {},
   "source": [
    "Начнём с формулировки нулевой гипотезы. H₀ всегда формулируется так, чтобы использовать знак равенства. H₀ - среднее рассматриваемой генеральной совокупности равно второй. Исходя из H₀ формулируется альтернативная гипотеза H₁. Для этой H₀ - среднее генеральной совокупности не равно второй.\n",
    "\n",
    "Критический уровень статистической значимости присвоим значением 0.05.\n",
    "\n",
    "Чтобы проверить гипотезу о равенстве среднего двух генеральных совокупностей по взятым из них выборкам, применим метод scipy.stats.ttest_ind."
   ]
  },
  {
   "cell_type": "code",
   "execution_count": 70,
   "metadata": {},
   "outputs": [],
   "source": [
    "sum_smart = df_event_numbers [(df_event_numbers['Тариф'] == 'smart') &\n",
    "                                        (df_event_numbers['Сумма за месяц, руб.'].sum())]"
   ]
  },
  {
   "cell_type": "code",
   "execution_count": 71,
   "metadata": {},
   "outputs": [],
   "source": [
    "sum_ultra = df_event_numbers [(df_event_numbers['Тариф'] == 'ultra') &\n",
    "                                        (df_event_numbers['Сумма за месяц, руб.'].sum())]"
   ]
  },
  {
   "cell_type": "code",
   "execution_count": 72,
   "metadata": {},
   "outputs": [
    {
     "name": "stdout",
     "output_type": "stream",
     "text": [
      "cреднее Smart:  1294.6393001345896\n",
      "cреднее Ultra:  2071.0659898477156\n",
      "p-значение: 2.9776448000521676e-158\n",
      "Отвергаем нулевую гипотезу\n"
     ]
    }
   ],
   "source": [
    "smart = sum_smart['Сумма за месяц, руб.']\n",
    "ultra = sum_ultra['Сумма за месяц, руб.']\n",
    "\n",
    "print('cреднее Smart: ',pd.Series(smart).mean())\n",
    "print('cреднее Ultra: ',pd.Series(ultra).mean())\n",
    "alpha = .05\n",
    "\n",
    "results = st.ttest_ind(\n",
    "    smart, \n",
    "    ultra)\n",
    "\n",
    "print('p-значение:', results.pvalue)\n",
    "\n",
    "if (results.pvalue < alpha):\n",
    "    print(\"Отвергаем нулевую гипотезу\")\n",
    "else:\n",
    "    print(\"Не получилось отвергнуть нулевую гипотезу\")"
   ]
  },
  {
   "cell_type": "markdown",
   "metadata": {},
   "source": [
    "Можем сказать, что выручка по двум тарифам сильно различается. Вернее, только исходя из проверки гипотезы мы не можем сказать, что больше, — только что количество выручки отличается. Потому что гипотеза-то наша двухсторонняя: мы не знаем, в какую сторону оно отличается. Однако посчитав среднее количество выручки для обоих тарифов, с уверенностью можем сказать: cредняя выручка из тарифа Ultra выше."
   ]
  },
  {
   "cell_type": "markdown",
   "metadata": {},
   "source": [
    "## Проверка гипотезы, что средняя выручка пользователей из Москвы отличается от выручки пользователей из других регионов"
   ]
  },
  {
   "cell_type": "code",
   "execution_count": 73,
   "metadata": {},
   "outputs": [
    {
     "data": {
      "text/html": [
       "<div>\n",
       "<style scoped>\n",
       "    .dataframe tbody tr th:only-of-type {\n",
       "        vertical-align: middle;\n",
       "    }\n",
       "\n",
       "    .dataframe tbody tr th {\n",
       "        vertical-align: top;\n",
       "    }\n",
       "\n",
       "    .dataframe thead th {\n",
       "        text-align: right;\n",
       "    }\n",
       "</style>\n",
       "<table border=\"1\" class=\"dataframe\">\n",
       "  <thead>\n",
       "    <tr style=\"text-align: right;\">\n",
       "      <th></th>\n",
       "      <th>User_id</th>\n",
       "      <th>Время года</th>\n",
       "      <th>Месяц</th>\n",
       "      <th>Кол-во звонков, шт.</th>\n",
       "      <th>Звонки, мин.</th>\n",
       "      <th>СМС, шт.</th>\n",
       "      <th>Интернет, Мб</th>\n",
       "      <th>Тариф</th>\n",
       "      <th>Город</th>\n",
       "      <th>Аб. плата, руб.</th>\n",
       "      <th>Минуты сверх</th>\n",
       "      <th>СМС сверх</th>\n",
       "      <th>Мб сверх</th>\n",
       "      <th>Плата сверх лимита, руб.</th>\n",
       "      <th>Сумма за месяц, руб.</th>\n",
       "      <th>Не хватило тарифа</th>\n",
       "    </tr>\n",
       "  </thead>\n",
       "  <tbody>\n",
       "    <tr>\n",
       "      <td>0</td>\n",
       "      <td>1000</td>\n",
       "      <td>весна</td>\n",
       "      <td>5</td>\n",
       "      <td>17.0</td>\n",
       "      <td>159.0</td>\n",
       "      <td>22.0</td>\n",
       "      <td>2256.0</td>\n",
       "      <td>ultra</td>\n",
       "      <td>Краснодар</td>\n",
       "      <td>1950</td>\n",
       "      <td>0.0</td>\n",
       "      <td>0</td>\n",
       "      <td>0.0</td>\n",
       "      <td>0</td>\n",
       "      <td>1950</td>\n",
       "      <td>0</td>\n",
       "    </tr>\n",
       "    <tr>\n",
       "      <td>1</td>\n",
       "      <td>1000</td>\n",
       "      <td>зима</td>\n",
       "      <td>12</td>\n",
       "      <td>38.0</td>\n",
       "      <td>333.0</td>\n",
       "      <td>70.0</td>\n",
       "      <td>9827.0</td>\n",
       "      <td>ultra</td>\n",
       "      <td>Краснодар</td>\n",
       "      <td>1950</td>\n",
       "      <td>0.0</td>\n",
       "      <td>0</td>\n",
       "      <td>0.0</td>\n",
       "      <td>0</td>\n",
       "      <td>1950</td>\n",
       "      <td>0</td>\n",
       "    </tr>\n",
       "    <tr>\n",
       "      <td>2</td>\n",
       "      <td>1000</td>\n",
       "      <td>лето</td>\n",
       "      <td>6</td>\n",
       "      <td>28.0</td>\n",
       "      <td>172.0</td>\n",
       "      <td>60.0</td>\n",
       "      <td>23257.0</td>\n",
       "      <td>ultra</td>\n",
       "      <td>Краснодар</td>\n",
       "      <td>1950</td>\n",
       "      <td>0.0</td>\n",
       "      <td>0</td>\n",
       "      <td>0.0</td>\n",
       "      <td>0</td>\n",
       "      <td>1950</td>\n",
       "      <td>0</td>\n",
       "    </tr>\n",
       "    <tr>\n",
       "      <td>3</td>\n",
       "      <td>1000</td>\n",
       "      <td>лето</td>\n",
       "      <td>7</td>\n",
       "      <td>41.0</td>\n",
       "      <td>340.0</td>\n",
       "      <td>75.0</td>\n",
       "      <td>14016.0</td>\n",
       "      <td>ultra</td>\n",
       "      <td>Краснодар</td>\n",
       "      <td>1950</td>\n",
       "      <td>0.0</td>\n",
       "      <td>0</td>\n",
       "      <td>0.0</td>\n",
       "      <td>0</td>\n",
       "      <td>1950</td>\n",
       "      <td>0</td>\n",
       "    </tr>\n",
       "    <tr>\n",
       "      <td>4</td>\n",
       "      <td>1000</td>\n",
       "      <td>лето</td>\n",
       "      <td>8</td>\n",
       "      <td>42.0</td>\n",
       "      <td>408.0</td>\n",
       "      <td>81.0</td>\n",
       "      <td>14070.0</td>\n",
       "      <td>ultra</td>\n",
       "      <td>Краснодар</td>\n",
       "      <td>1950</td>\n",
       "      <td>0.0</td>\n",
       "      <td>0</td>\n",
       "      <td>0.0</td>\n",
       "      <td>0</td>\n",
       "      <td>1950</td>\n",
       "      <td>0</td>\n",
       "    </tr>\n",
       "  </tbody>\n",
       "</table>\n",
       "</div>"
      ],
      "text/plain": [
       "   User_id Время года  Месяц  Кол-во звонков, шт.  Звонки, мин.  СМС, шт.  \\\n",
       "0     1000      весна      5                 17.0         159.0      22.0   \n",
       "1     1000       зима     12                 38.0         333.0      70.0   \n",
       "2     1000       лето      6                 28.0         172.0      60.0   \n",
       "3     1000       лето      7                 41.0         340.0      75.0   \n",
       "4     1000       лето      8                 42.0         408.0      81.0   \n",
       "\n",
       "   Интернет, Мб  Тариф      Город  Аб. плата, руб.  Минуты сверх  СМС сверх  \\\n",
       "0        2256.0  ultra  Краснодар             1950           0.0          0   \n",
       "1        9827.0  ultra  Краснодар             1950           0.0          0   \n",
       "2       23257.0  ultra  Краснодар             1950           0.0          0   \n",
       "3       14016.0  ultra  Краснодар             1950           0.0          0   \n",
       "4       14070.0  ultra  Краснодар             1950           0.0          0   \n",
       "\n",
       "   Мб сверх  Плата сверх лимита, руб.  Сумма за месяц, руб.  Не хватило тарифа  \n",
       "0       0.0                         0                  1950                  0  \n",
       "1       0.0                         0                  1950                  0  \n",
       "2       0.0                         0                  1950                  0  \n",
       "3       0.0                         0                  1950                  0  \n",
       "4       0.0                         0                  1950                  0  "
      ]
     },
     "execution_count": 73,
     "metadata": {},
     "output_type": "execute_result"
    }
   ],
   "source": [
    "df_event_numbers.head()"
   ]
  },
  {
   "cell_type": "code",
   "execution_count": 74,
   "metadata": {},
   "outputs": [],
   "source": [
    "moscow_tariff = df_event_numbers[(df_event_numbers['Город'] == 'Москва')]"
   ]
  },
  {
   "cell_type": "code",
   "execution_count": 75,
   "metadata": {},
   "outputs": [],
   "source": [
    "other_tariff = df_event_numbers[(df_event_numbers['Город'] != 'Москва')]"
   ]
  },
  {
   "cell_type": "code",
   "execution_count": 76,
   "metadata": {},
   "outputs": [
    {
     "name": "stdout",
     "output_type": "stream",
     "text": [
      "Выручка по Москве:  1550.8052373158755\n",
      "Выручка с других регионов:  1528.3169419900116\n",
      "p-значение: 0.531666503831252\n",
      "Не получилось отвергнуть нулевую гипотезу\n"
     ]
    }
   ],
   "source": [
    "moscow = moscow_tariff['Сумма за месяц, руб.']\n",
    "other = other_tariff['Сумма за месяц, руб.']\n",
    "\n",
    "print('Выручка по Москве: ',pd.Series(moscow).mean())\n",
    "print('Выручка с других регионов: ',pd.Series(other).mean())\n",
    "alpha = 0.05\n",
    "\n",
    "results = st.ttest_ind(\n",
    "    moscow, \n",
    "    other) \n",
    "\n",
    "print('p-значение:', results.pvalue)\n",
    "\n",
    "if (results.pvalue < alpha):\n",
    "    print(\"Отвергаем нулевую гипотезу\")\n",
    "else:\n",
    "    print(\"Не получилось отвергнуть нулевую гипотезу\")"
   ]
  },
  {
   "cell_type": "markdown",
   "metadata": {},
   "source": [
    "Можем сказать, что выручка по Москве и других регионам почти не различается. Вернее, только исходя из проверки гипотезы мы не можем сказать, что больше, — только что количество выручки почти одинаково и входит в диапазон статистической значимости. Потому что гипотеза-то наша двухсторонняя: мы не знаем, в какую сторону оно отличается. Однако посчитав среднее количество выручки для Москвы и других регионов, с уверенностью можем сказать: выручка не отличается существенно."
   ]
  },
  {
   "cell_type": "code",
   "execution_count": 77,
   "metadata": {},
   "outputs": [],
   "source": [
    "# Сохраним moscow_tariff_ultra список пользователей из Москвы с тарифом Ультра.\n",
    "moscow_tariff_ultra = df_event_numbers[(df_event_numbers['Город'] == 'Москва') & (df_event_numbers['Тариф'] == 'ultra')]"
   ]
  },
  {
   "cell_type": "code",
   "execution_count": 78,
   "metadata": {},
   "outputs": [],
   "source": [
    "# Сохраним other_tariff_ultra список пользователей из других регионов с тарифом Ультра.\n",
    "other_tariff_ultra = df_event_numbers[(df_event_numbers['Город'] != 'Москва') & (df_event_numbers['Тариф'] == 'ultra')]"
   ]
  },
  {
   "cell_type": "code",
   "execution_count": 79,
   "metadata": {},
   "outputs": [
    {
     "name": "stdout",
     "output_type": "stream",
     "text": [
      "Выручка по Москве тарифа Ultra:  2075.3333333333335\n",
      "Выручка с других регионов тарифа Ultra:  2069.8026315789475\n",
      "p-значение: 0.8475623384854951\n",
      "Не получилось отвергнуть нулевую гипотезу\n"
     ]
    }
   ],
   "source": [
    "moscow = moscow_tariff_ultra['Сумма за месяц, руб.']\n",
    "other = other_tariff_ultra['Сумма за месяц, руб.']\n",
    "\n",
    "print('Выручка по Москве тарифа Ultra: ',pd.Series(moscow).mean())\n",
    "print('Выручка с других регионов тарифа Ultra: ',pd.Series(other).mean())\n",
    "alpha = 0.05\n",
    "\n",
    "results = st.ttest_ind(\n",
    "    moscow, \n",
    "    other)\n",
    "\n",
    "print('p-значение:', results.pvalue)\n",
    "\n",
    "if (results.pvalue < alpha):\n",
    "    print(\"Отвергаем нулевую гипотезу\")\n",
    "else:\n",
    "    print(\"Не получилось отвергнуть нулевую гипотезу\")"
   ]
  },
  {
   "cell_type": "markdown",
   "metadata": {},
   "source": [
    "Можем сказать, что выручка по Москве и других регионам, по тарифу Ультра, почти не различается. Вернее, только исходя из проверки гипотезы мы не можем сказать, что больше, — только что количество выручки почти одинаково и входит в диапазон статистической значимости. Потому что гипотеза-то наша двухсторонняя: мы не знаем, в какую сторону оно отличается. Однако посчитав среднее количество выручки для Москвы и других регионов, с уверенностью можем сказать: выручка не отличается существенно."
   ]
  },
  {
   "cell_type": "code",
   "execution_count": 80,
   "metadata": {},
   "outputs": [],
   "source": [
    "moscow_tariff_smart = df_event_numbers[(df_event_numbers['Город'] == 'Москва') & (df_event_numbers['Тариф'] == 'smart')]"
   ]
  },
  {
   "cell_type": "code",
   "execution_count": 81,
   "metadata": {},
   "outputs": [],
   "source": [
    "other_tariff_smart = df_event_numbers[(df_event_numbers['Город'] != 'Москва') & (df_event_numbers['Тариф'] == 'smart')]"
   ]
  },
  {
   "cell_type": "code",
   "execution_count": 82,
   "metadata": {},
   "outputs": [
    {
     "name": "stdout",
     "output_type": "stream",
     "text": [
      "cреднее до:  1245.0569948186528\n",
      "cреднее после:  1305.0238741182854\n",
      "p-значение: 0.19196326570657848\n",
      "Не получилось отвергнуть нулевую гипотезу\n"
     ]
    }
   ],
   "source": [
    "moscow = moscow_tariff_smart['Сумма за месяц, руб.']\n",
    "other = other_tariff_smart['Сумма за месяц, руб.']\n",
    "\n",
    "print('cреднее до: ',pd.Series(moscow).mean())\n",
    "print('cреднее после: ',pd.Series(other).mean())\n",
    "alpha = 0.05\n",
    "\n",
    "results = st.ttest_ind(\n",
    "    moscow, \n",
    "    other)\n",
    "\n",
    "print('p-значение:', results.pvalue)\n",
    "\n",
    "if (results.pvalue < alpha):\n",
    "    print(\"Отвергаем нулевую гипотезу\")\n",
    "else:\n",
    "    print(\"Не получилось отвергнуть нулевую гипотезу\")"
   ]
  },
  {
   "cell_type": "markdown",
   "metadata": {},
   "source": [
    "Можем сказать, что выручка по Москве и других регионам, по тарифу Смарт, почти не различается. Вернее, только исходя из проверки гипотезы мы не можем сказать, что больше, — только что количество выручки почти одинаково и входит в диапазон статистической значимости. Потому что гипотеза-то наша двухсторонняя: мы не знаем, в какую сторону оно отличается. Однако посчитав среднее количество выручки для Москвы и других регионов, с уверенностью можем сказать: выручка не отличается существенно."
   ]
  },
  {
   "cell_type": "markdown",
   "metadata": {},
   "source": [
    "# Общие выводы"
   ]
  },
  {
   "cell_type": "markdown",
   "metadata": {},
   "source": [
    "### Cоберем общие данные по тарифам по части использования включенных в абонентскую плату лимитов и по части дозаказываемых (пакетов) услуг"
   ]
  },
  {
   "cell_type": "code",
   "execution_count": 83,
   "metadata": {},
   "outputs": [
    {
     "name": "stdout",
     "output_type": "stream",
     "text": [
      "Средний процент использования пакета интернет-трафика по тарифу \"Смарт\" - 105.66% = 16,229 Гб\n",
      "Средний процент использования пакета минут по тарифу \"Смарт\" - 83.59% = 417.93 мин\n",
      "Средний процент использования пакета СМС по тарифу \"Смарт\" - 66.77% = 33 шт.\n",
      "---------------------------------------------------------------------------------\n",
      "Средний процент использования пакета интернет-трафика по тарифу \"Ультра\" - 63.43% = 19,487 Гб\n",
      "Средний процент использования пакета минут по тарифу \"Ультра\" - 17.55% = 526.62 мин\n",
      "Средний процент использования пакета СМС по тарифу \"Ультра\" - 4.94% = 49 шт.\n"
     ]
    }
   ],
   "source": [
    "smart_mean_internet = (df_event_numbers[(df_event_numbers['Тариф'] == 'smart')]['Интернет, Мб']/(1024 * 15)).mean()\n",
    "print('Средний процент использования пакета интернет-трафика по тарифу \"Смарт\" - {:.2%} = {:,.0f} Гб'.\n",
    "      format(smart_mean_internet, smart_mean_internet * 1024 * 15))\n",
    "smart_mean_calls = (df_event_numbers[(df_event_numbers['Тариф'] == 'smart')]['Звонки, мин.']/(500)).mean()\n",
    "print('Средний процент использования пакета минут по тарифу \"Смарт\" - {:.2%} = {:.2f} мин'.\n",
    "      format(smart_mean_calls, smart_mean_calls * 500))\n",
    "smart_mean_sms = (df_event_numbers[(df_event_numbers['Тариф'] == 'smart')]['СМС, шт.']/(50)).mean()\n",
    "print('Средний процент использования пакета СМС по тарифу \"Смарт\" - {:.2%} = {:.0f} шт.'.\n",
    "      format(smart_mean_sms, smart_mean_sms * 50))\n",
    "print('---------------------------------------------------------------------------------')\n",
    "ultra_mean_internet = (df_event_numbers[(df_event_numbers['Тариф'] == 'ultra')]['Интернет, Мб']/(1024 * 30)).mean()\n",
    "print('Средний процент использования пакета интернет-трафика по тарифу \"Ультра\" - {:.2%} = {:,.0f} Гб'.\n",
    "      format(ultra_mean_internet, ultra_mean_internet * 1024 * 30))\n",
    "ultra_mean_calls = (df_event_numbers[(df_event_numbers['Тариф'] == 'ultra')]['Звонки, мин.']/(3000)).mean()\n",
    "print('Средний процент использования пакета минут по тарифу \"Ультра\" - {:.2%} = {:.2f} мин'.\n",
    "      format(ultra_mean_calls, ultra_mean_calls * 3000))\n",
    "ultra_mean_sms = (df_event_numbers[(df_event_numbers['Тариф'] == 'ultra')]['СМС, шт.']/(1000)).mean()\n",
    "print('Средний процент использования пакета СМС по тарифу \"Ультра\" - {:.2%} = {:.0f} шт.'.\n",
    "      format(ultra_mean_sms, ultra_mean_sms * 1000))"
   ]
  },
  {
   "cell_type": "markdown",
   "metadata": {},
   "source": [
    "### Информация по самим переплатам"
   ]
  },
  {
   "cell_type": "code",
   "execution_count": 84,
   "metadata": {},
   "outputs": [
    {
     "name": "stdout",
     "output_type": "stream",
     "text": [
      "Среднее превышение пакета интернет по тарифу \"Смарт\" - 2771 Мб на сумму - 600 руб.\n",
      "Среднее превышение пакета минут по тарифу \"Смарт\" - 42 мин на сумму - 126 руб.\n",
      "Среднее превышение пакета СМС по тарифу \"Смарт\" - 6 шт. на сумму - 18 руб.\n",
      "----------------------------------------------------------------\n",
      "Среднее превышение пакета интернет по тарифу \"Ультра\" - 755 Мб на сумму - 150 руб.\n",
      "Среднее превышение пакета минут по тарифу \"Ультра\" - 0 мин на сумму - 0 руб.\n",
      "Среднее превышение пакета СМС по тарифу \"Ультра\" - {:.0f} шт. на сумму - {:.0f} руб.\n"
     ]
    }
   ],
   "source": [
    "smart_over_mean_internet = df_event_numbers[(df_event_numbers['Тариф'] == 'smart')]['Мб сверх'].mean()\n",
    "smart_over_mean_internet_rub = np.round(smart_over_mean_internet, -3)/1000 * 200\n",
    "print('Среднее превышение пакета интернет по тарифу \"Смарт\" - {:.0f} Мб на сумму - {:.0f} руб.'.\n",
    "      format(smart_over_mean_internet, smart_over_mean_internet_rub))\n",
    "\n",
    "smart_over_mean_calls = np.ceil(df_event_numbers[(df_event_numbers['Тариф'] == 'smart')]['Минуты сверх'].mean())\n",
    "smart_over_mean_calls_rub = smart_over_mean_calls * 3\n",
    "print('Среднее превышение пакета минут по тарифу \"Смарт\" - {:.0f} мин на сумму - {:.0f} руб.'.\n",
    "      format(smart_over_mean_calls, smart_over_mean_calls_rub))\n",
    "\n",
    "smart_over_mean_sms = np.ceil(df_event_numbers[(df_event_numbers['Тариф'] == 'smart')]['СМС сверх'].mean())\n",
    "smart_over_mean_sms_rub = smart_over_mean_sms * 3\n",
    "print('Среднее превышение пакета СМС по тарифу \"Смарт\" - {:.0f} шт. на сумму - {:.0f} руб.'.\n",
    "      format(smart_over_mean_sms, smart_over_mean_sms_rub))\n",
    "\n",
    "print('----------------------------------------------------------------')\n",
    "\n",
    "ultra_over_mean_internet = df_event_numbers[(df_event_numbers['Тариф'] == 'ultra')]['Мб сверх'].mean()\n",
    "ultra_over_mean_internet_rub = np.round(ultra_over_mean_internet, -3)/1000 * 150\n",
    "print('Среднее превышение пакета интернет по тарифу \"Ультра\" - {:.0f} Мб на сумму - {:.0f} руб.'.\n",
    "      format(ultra_over_mean_internet, ultra_over_mean_internet_rub))\n",
    "\n",
    "ultra_over_mean_calls = np.ceil(df_event_numbers[(df_event_numbers['Тариф'] == 'ultra')]['Минуты сверх'].mean())\n",
    "ultra_over_mean_calls_rub = ultra_over_mean_calls * 3\n",
    "print('Среднее превышение пакета минут по тарифу \"Ультра\" - {:.0f} мин на сумму - {:.0f} руб.'.\n",
    "      format(ultra_over_mean_calls, ultra_over_mean_calls_rub))\n",
    "\n",
    "ultra_over_mean_sms = np.ceil(df_event_numbers[(df_event_numbers['Тариф'] == 'ultra')]['СМС сверх'].mean())\n",
    "ultra_over_mean_sms_rub = ultra_over_mean_sms * 3\n",
    "print('Среднее превышение пакета СМС по тарифу \"Ультра\" - {:.0f} шт. на сумму - {:.0f} руб.')"
   ]
  },
  {
   "cell_type": "markdown",
   "metadata": {},
   "source": [
    "### Выводы\n",
    "\n",
    "- Пользователи больше предпочитают тариф Smart.\n",
    "- Больше всего приносит дополнительного дохода тариф Smart.\n",
    "- Самым прибильным сегментом является - интернет, при том в двух тарифах.\n",
    "- Общая прибыль больше всего у тарифа Smart.\n",
    "- Пользователи тарифа Smart часто не вклиниваются в лимиты, чаще всего по кол-ству минут и очень много по лимиту мегабайт.\n",
    "- Пользователи тарифа Ultra практически не превышают лимитов, кроме мегабайт интернета.\n",
    "- Пользователи двух тарифов используют примерно одинаковые объемы интернета, особенно на пиках графиков.\n",
    "- В двух тарифак довольно много либо не пользуются отправкой сообщений, либо же используют в небольших кол-ствах до 5-10 сообщений.\n",
    "- Пользователи тарифа Ultra чаще всего не используют весь лимит по звонкам и сообщениям.\n",
    "- Несмотря на то, что больше прибыли приносит тариф Smart, среднняя выручка выше у Ultra.\n",
    "- Разница в средней вырчки из Москвы и других регонов - незначительная, это относится и к сравнению тарифов по Москве и регионам.\n",
    "\n",
    "Тариф Смарт приносит около 60% всей выручки, но при этом на него приходится 2200 пользователей. Тариф Ультра дает остальные 40%, но эту выручку генерируют всего 1000 пользователей.\n",
    "Среднему пользователю тарифа Смарт не хватает 2 Гб интернета к заложенными в абонентскую плату 15 Гб и ему приходится дозаказывать эти 2 Гб и доплачивать за них 400 рублей.\n",
    "Если рассматривать только тех пользователей Смарт, кто вылезает за лимиты по интернет-трафику, то средний размер доп. заказа интернет-трафика равен 3 Гб, за которые они платят 600 рублей.\n",
    "\n",
    "Таким образом, в тарифной сетке есть дешевый тариф Смарт за 550 рублей, где пользователю не хватает интернета и количество использованных минут разговора на грани лимита (418 мин из 500), и есть тариф Ультра, стоимостью 1950 рублей, которым пользуется уже другой класс граждан, где лимитов по всем типам связи предостаточно (иногда дозаказывают в среднем 1 Гб интернета)."
   ]
  },
  {
   "cell_type": "markdown",
   "metadata": {},
   "source": [
    "### Рекомендации\n",
    "\n",
    "\n",
    "Проведя анализ можно сделать рекомендации компании \"Мегалайн\". Им нужно подумать и выработать промежуточное решение, которое позволяло бы клиенту более комфортно, без доп. заказов, пользоваться услугами связи (особенно мобильным интернетом), при этом по цене являлось бы промежуточным вариантом между текущими Смарт и Ультра. **Учитывая то, что средний пользователь тарифа Смарт дозаказывает 2 Гб на 400 рублей, т.е. платит в итоге 550 + 400 = 950 рублей за месяц, это значит, что эти деньги клиент готов тратить в месяц в качестве абонентской платы.** Например, можно рассмотреть вариант **создания тарифа, в дополнение к текущим, под названием \"СмартПлюс\"**, который был бы создан на основе тарифа Смарт, но с пакетом интернет-трафика в 20 Гб и стоимостью 950 рублей. Для большего привлечения внимания к тарифу можно расширить пакет минут и пакет СМС. Компания в плане выручки не потеряет, т.к. средний пользователь не дозаказывает эти услуги, но при этом заставит выглядеть предложение выгодней!"
   ]
  }
 ],
 "metadata": {
  "ExecuteTimeLog": [
   {
    "duration": 1338,
    "start_time": "2022-01-23T14:32:16.210Z"
   },
   {
    "duration": 558,
    "start_time": "2022-01-23T14:33:49.402Z"
   },
   {
    "duration": 20,
    "start_time": "2022-01-23T14:36:46.970Z"
   },
   {
    "duration": 16,
    "start_time": "2022-01-23T14:41:56.619Z"
   },
   {
    "duration": 14,
    "start_time": "2022-01-23T14:42:34.657Z"
   },
   {
    "duration": 12,
    "start_time": "2022-01-23T14:43:40.906Z"
   },
   {
    "duration": 10,
    "start_time": "2022-01-23T14:51:38.338Z"
   },
   {
    "duration": 17,
    "start_time": "2022-01-23T14:57:24.968Z"
   },
   {
    "duration": 28,
    "start_time": "2022-01-23T14:57:32.020Z"
   },
   {
    "duration": 445,
    "start_time": "2022-01-23T14:59:11.563Z"
   },
   {
    "duration": 443,
    "start_time": "2022-01-23T14:59:21.103Z"
   },
   {
    "duration": 10,
    "start_time": "2022-01-23T14:59:34.243Z"
   },
   {
    "duration": 433,
    "start_time": "2022-01-23T14:59:37.247Z"
   },
   {
    "duration": 14,
    "start_time": "2022-01-23T15:01:06.438Z"
   },
   {
    "duration": 17,
    "start_time": "2022-01-23T15:01:41.444Z"
   },
   {
    "duration": 549,
    "start_time": "2022-01-23T15:02:15.865Z"
   },
   {
    "duration": 29,
    "start_time": "2022-01-23T15:03:17.898Z"
   },
   {
    "duration": 372,
    "start_time": "2022-01-23T15:14:01.627Z"
   },
   {
    "duration": 276,
    "start_time": "2022-01-23T15:14:11.749Z"
   },
   {
    "duration": 268,
    "start_time": "2022-01-23T15:14:48.479Z"
   },
   {
    "duration": 370,
    "start_time": "2022-01-23T15:14:56.676Z"
   },
   {
    "duration": 265,
    "start_time": "2022-01-23T15:18:12.016Z"
   },
   {
    "duration": 242,
    "start_time": "2022-01-23T15:18:36.617Z"
   },
   {
    "duration": 90,
    "start_time": "2022-01-23T15:18:45.882Z"
   },
   {
    "duration": 104,
    "start_time": "2022-01-23T15:18:54.884Z"
   },
   {
    "duration": 262,
    "start_time": "2022-01-23T15:19:00.177Z"
   },
   {
    "duration": 72,
    "start_time": "2022-01-23T15:19:13.526Z"
   },
   {
    "duration": 279,
    "start_time": "2022-01-23T15:19:15.409Z"
   },
   {
    "duration": 69,
    "start_time": "2022-01-23T15:19:25.010Z"
   },
   {
    "duration": 297,
    "start_time": "2022-01-23T15:19:26.330Z"
   },
   {
    "duration": 913,
    "start_time": "2022-01-23T15:20:25.313Z"
   },
   {
    "duration": 550,
    "start_time": "2022-01-23T15:20:26.231Z"
   },
   {
    "duration": 21,
    "start_time": "2022-01-23T15:20:26.785Z"
   },
   {
    "duration": 24,
    "start_time": "2022-01-23T15:20:26.810Z"
   },
   {
    "duration": 8,
    "start_time": "2022-01-23T15:20:26.837Z"
   },
   {
    "duration": 19,
    "start_time": "2022-01-23T15:20:26.848Z"
   },
   {
    "duration": 27,
    "start_time": "2022-01-23T15:20:26.870Z"
   },
   {
    "duration": 461,
    "start_time": "2022-01-23T15:20:26.932Z"
   },
   {
    "duration": 14,
    "start_time": "2022-01-23T15:20:27.396Z"
   },
   {
    "duration": 480,
    "start_time": "2022-01-23T15:20:27.413Z"
   },
   {
    "duration": 37,
    "start_time": "2022-01-23T15:20:27.895Z"
   },
   {
    "duration": 48,
    "start_time": "2022-01-23T15:20:27.934Z"
   },
   {
    "duration": 697,
    "start_time": "2022-01-23T15:20:27.984Z"
   },
   {
    "duration": 16,
    "start_time": "2022-01-23T15:21:22.214Z"
   },
   {
    "duration": 29,
    "start_time": "2022-01-23T15:21:32.308Z"
   },
   {
    "duration": 14,
    "start_time": "2022-01-23T15:33:09.131Z"
   },
   {
    "duration": 23,
    "start_time": "2022-01-23T15:33:18.082Z"
   },
   {
    "duration": 16,
    "start_time": "2022-01-23T15:35:20.666Z"
   },
   {
    "duration": 19,
    "start_time": "2022-01-23T15:36:44.737Z"
   },
   {
    "duration": 477,
    "start_time": "2022-01-23T15:49:29.572Z"
   },
   {
    "duration": 28,
    "start_time": "2022-01-23T15:50:23.056Z"
   },
   {
    "duration": 34,
    "start_time": "2022-01-23T15:52:40.728Z"
   },
   {
    "duration": 434,
    "start_time": "2022-01-23T15:52:49.260Z"
   },
   {
    "duration": 13,
    "start_time": "2022-01-23T15:57:26.249Z"
   },
   {
    "duration": 9,
    "start_time": "2022-01-23T15:57:35.134Z"
   },
   {
    "duration": 12,
    "start_time": "2022-01-23T15:57:39.329Z"
   },
   {
    "duration": 10,
    "start_time": "2022-01-23T15:58:18.372Z"
   },
   {
    "duration": 6,
    "start_time": "2022-01-23T16:13:49.731Z"
   },
   {
    "duration": 661,
    "start_time": "2022-01-23T16:14:03.432Z"
   },
   {
    "duration": 7,
    "start_time": "2022-01-23T16:14:23.106Z"
   },
   {
    "duration": 481,
    "start_time": "2022-01-23T16:14:23.568Z"
   },
   {
    "duration": 7,
    "start_time": "2022-01-23T16:17:06.114Z"
   },
   {
    "duration": 4892,
    "start_time": "2022-01-23T16:17:06.552Z"
   },
   {
    "duration": 18,
    "start_time": "2022-01-23T16:17:32.606Z"
   },
   {
    "duration": 15,
    "start_time": "2022-01-23T16:17:48.446Z"
   },
   {
    "duration": 13,
    "start_time": "2022-01-23T16:18:02.450Z"
   },
   {
    "duration": 15,
    "start_time": "2022-01-23T16:18:12.213Z"
   },
   {
    "duration": 38,
    "start_time": "2022-01-23T16:19:51.226Z"
   },
   {
    "duration": 255,
    "start_time": "2022-01-23T19:47:32.640Z"
   },
   {
    "duration": 232,
    "start_time": "2022-01-23T19:48:06.536Z"
   },
   {
    "duration": 5,
    "start_time": "2022-01-23T19:49:26.039Z"
   },
   {
    "duration": 509,
    "start_time": "2022-01-23T19:50:29.147Z"
   },
   {
    "duration": 4,
    "start_time": "2022-01-23T19:50:53.866Z"
   },
   {
    "duration": 649,
    "start_time": "2022-01-23T19:50:56.809Z"
   },
   {
    "duration": 116,
    "start_time": "2022-01-23T20:05:19.867Z"
   },
   {
    "duration": 53,
    "start_time": "2022-01-23T20:14:17.444Z"
   },
   {
    "duration": 1098,
    "start_time": "2022-01-23T20:17:53.495Z"
   },
   {
    "duration": 435,
    "start_time": "2022-01-23T20:18:06.737Z"
   },
   {
    "duration": 1945,
    "start_time": "2022-01-24T16:20:20.550Z"
   },
   {
    "duration": 1219,
    "start_time": "2022-01-24T16:24:17.053Z"
   },
   {
    "duration": 695,
    "start_time": "2022-01-24T16:24:18.276Z"
   },
   {
    "duration": 21,
    "start_time": "2022-01-24T16:24:18.978Z"
   },
   {
    "duration": 12,
    "start_time": "2022-01-24T16:24:19.001Z"
   },
   {
    "duration": 9,
    "start_time": "2022-01-24T16:24:19.016Z"
   },
   {
    "duration": 41,
    "start_time": "2022-01-24T16:24:19.028Z"
   },
   {
    "duration": 31,
    "start_time": "2022-01-24T16:24:19.073Z"
   },
   {
    "duration": 462,
    "start_time": "2022-01-24T16:24:19.107Z"
   },
   {
    "duration": 13,
    "start_time": "2022-01-24T16:24:19.571Z"
   },
   {
    "duration": 575,
    "start_time": "2022-01-24T16:24:19.586Z"
   },
   {
    "duration": 28,
    "start_time": "2022-01-24T16:24:20.164Z"
   },
   {
    "duration": 41,
    "start_time": "2022-01-24T16:24:20.195Z"
   },
   {
    "duration": 780,
    "start_time": "2022-01-24T16:24:20.264Z"
   },
   {
    "duration": 20,
    "start_time": "2022-01-24T16:24:21.047Z"
   },
   {
    "duration": 31,
    "start_time": "2022-01-24T16:24:21.070Z"
   },
   {
    "duration": 19,
    "start_time": "2022-01-24T16:24:21.104Z"
   },
   {
    "duration": 38,
    "start_time": "2022-01-24T16:24:21.159Z"
   },
   {
    "duration": 19,
    "start_time": "2022-01-24T16:24:21.199Z"
   },
   {
    "duration": 453,
    "start_time": "2022-01-24T16:24:21.220Z"
   },
   {
    "duration": 26,
    "start_time": "2022-01-24T16:24:21.676Z"
   },
   {
    "duration": 63,
    "start_time": "2022-01-24T16:24:21.704Z"
   },
   {
    "duration": 446,
    "start_time": "2022-01-24T16:24:21.772Z"
   },
   {
    "duration": 11,
    "start_time": "2022-01-24T16:24:22.221Z"
   },
   {
    "duration": 26,
    "start_time": "2022-01-24T16:24:22.235Z"
   },
   {
    "duration": 7,
    "start_time": "2022-01-24T16:24:22.264Z"
   },
   {
    "duration": 4741,
    "start_time": "2022-01-24T16:24:22.273Z"
   },
   {
    "duration": 18,
    "start_time": "2022-01-24T16:24:27.016Z"
   },
   {
    "duration": 39,
    "start_time": "2022-01-24T16:24:27.037Z"
   },
   {
    "duration": 20,
    "start_time": "2022-01-24T16:24:27.079Z"
   },
   {
    "duration": 15,
    "start_time": "2022-01-24T16:24:27.102Z"
   },
   {
    "duration": 80,
    "start_time": "2022-01-24T16:24:27.121Z"
   },
   {
    "duration": 678,
    "start_time": "2022-01-24T16:24:27.204Z"
   },
   {
    "duration": 102,
    "start_time": "2022-01-24T16:26:05.398Z"
   },
   {
    "duration": 56,
    "start_time": "2022-01-24T16:26:07.214Z"
   },
   {
    "duration": 23,
    "start_time": "2022-01-24T16:26:23.729Z"
   },
   {
    "duration": 4,
    "start_time": "2022-01-24T16:26:40.758Z"
   },
   {
    "duration": 26,
    "start_time": "2022-01-24T16:26:48.814Z"
   },
   {
    "duration": 79,
    "start_time": "2022-01-24T16:27:33.646Z"
   },
   {
    "duration": 55,
    "start_time": "2022-01-24T16:27:34.458Z"
   },
   {
    "duration": 25,
    "start_time": "2022-01-24T16:28:14.506Z"
   },
   {
    "duration": 4,
    "start_time": "2022-01-24T16:28:40.623Z"
   },
   {
    "duration": 5,
    "start_time": "2022-01-24T16:28:44.808Z"
   },
   {
    "duration": 24,
    "start_time": "2022-01-24T16:28:52.808Z"
   },
   {
    "duration": 22,
    "start_time": "2022-01-24T16:28:59.997Z"
   },
   {
    "duration": 10,
    "start_time": "2022-01-24T16:29:22.874Z"
   },
   {
    "duration": 14,
    "start_time": "2022-01-24T16:32:54.552Z"
   },
   {
    "duration": 12,
    "start_time": "2022-01-24T16:34:37.626Z"
   },
   {
    "duration": 13,
    "start_time": "2022-01-24T16:34:55.319Z"
   },
   {
    "duration": 777,
    "start_time": "2022-01-24T16:36:13.884Z"
   },
   {
    "duration": 25,
    "start_time": "2022-01-24T16:37:28.718Z"
   },
   {
    "duration": 20,
    "start_time": "2022-01-24T16:37:57.438Z"
   },
   {
    "duration": 352,
    "start_time": "2022-01-24T16:39:23.373Z"
   },
   {
    "duration": 383,
    "start_time": "2022-01-24T16:39:31.062Z"
   },
   {
    "duration": 356,
    "start_time": "2022-01-24T16:39:34.759Z"
   },
   {
    "duration": 359,
    "start_time": "2022-01-24T16:39:39.022Z"
   },
   {
    "duration": 396,
    "start_time": "2022-01-24T16:42:46.481Z"
   },
   {
    "duration": 406,
    "start_time": "2022-01-24T16:46:00.917Z"
   },
   {
    "duration": 351,
    "start_time": "2022-01-24T16:47:48.070Z"
   },
   {
    "duration": 11,
    "start_time": "2022-01-24T16:48:11.310Z"
   },
   {
    "duration": 372,
    "start_time": "2022-01-24T16:48:20.931Z"
   },
   {
    "duration": 6,
    "start_time": "2022-01-24T16:48:29.301Z"
   },
   {
    "duration": 368,
    "start_time": "2022-01-24T16:49:10.431Z"
   },
   {
    "duration": 114,
    "start_time": "2022-01-24T16:49:16.922Z"
   },
   {
    "duration": 353,
    "start_time": "2022-01-24T16:49:20.389Z"
   },
   {
    "duration": 8,
    "start_time": "2022-01-24T16:49:24.576Z"
   },
   {
    "duration": 6,
    "start_time": "2022-01-24T16:53:47.747Z"
   },
   {
    "duration": 11,
    "start_time": "2022-01-24T16:55:38.364Z"
   },
   {
    "duration": 1844,
    "start_time": "2022-01-24T16:57:07.323Z"
   },
   {
    "duration": 24,
    "start_time": "2022-01-24T16:57:13.325Z"
   },
   {
    "duration": 6,
    "start_time": "2022-01-24T16:59:35.611Z"
   },
   {
    "duration": 24,
    "start_time": "2022-01-24T16:59:40.483Z"
   },
   {
    "duration": 5,
    "start_time": "2022-01-24T17:08:47.479Z"
   },
   {
    "duration": 420,
    "start_time": "2022-01-24T17:09:44.214Z"
   },
   {
    "duration": 417,
    "start_time": "2022-01-24T17:10:34.253Z"
   },
   {
    "duration": 611,
    "start_time": "2022-01-24T17:12:27.459Z"
   },
   {
    "duration": 421,
    "start_time": "2022-01-24T17:14:57.897Z"
   },
   {
    "duration": 485,
    "start_time": "2022-01-24T17:15:51.869Z"
   },
   {
    "duration": 19,
    "start_time": "2022-01-24T17:17:55.548Z"
   },
   {
    "duration": 307,
    "start_time": "2022-01-24T17:23:32.255Z"
   },
   {
    "duration": 21,
    "start_time": "2022-01-24T17:27:34.632Z"
   },
   {
    "duration": 433,
    "start_time": "2022-01-24T17:28:03.919Z"
   },
   {
    "duration": 353,
    "start_time": "2022-01-24T17:28:09.804Z"
   },
   {
    "duration": 241,
    "start_time": "2022-01-24T17:30:14.802Z"
   },
   {
    "duration": 331,
    "start_time": "2022-01-24T17:33:48.530Z"
   },
   {
    "duration": 357,
    "start_time": "2022-01-24T17:34:25.223Z"
   },
   {
    "duration": 20,
    "start_time": "2022-01-24T17:36:19.464Z"
   },
   {
    "duration": 46,
    "start_time": "2022-01-24T17:37:18.853Z"
   },
   {
    "duration": 32,
    "start_time": "2022-01-24T17:37:34.735Z"
   },
   {
    "duration": 3247,
    "start_time": "2022-01-24T17:43:25.874Z"
   },
   {
    "duration": 21,
    "start_time": "2022-01-24T17:43:36.888Z"
   },
   {
    "duration": 54,
    "start_time": "2022-01-24T17:43:53.095Z"
   },
   {
    "duration": 1252,
    "start_time": "2022-01-24T17:45:32.506Z"
   },
   {
    "duration": 1218,
    "start_time": "2022-01-24T17:45:51.562Z"
   },
   {
    "duration": 374,
    "start_time": "2022-01-24T17:46:22.182Z"
   },
   {
    "duration": 233,
    "start_time": "2022-01-24T17:47:49.570Z"
   },
   {
    "duration": 359,
    "start_time": "2022-01-24T17:48:09.735Z"
   },
   {
    "duration": 236,
    "start_time": "2022-01-24T17:48:23.626Z"
   },
   {
    "duration": 464,
    "start_time": "2022-01-24T17:50:19.358Z"
   },
   {
    "duration": 580,
    "start_time": "2022-01-24T17:50:30.761Z"
   },
   {
    "duration": 122,
    "start_time": "2022-01-24T18:01:51.468Z"
   },
   {
    "duration": 551,
    "start_time": "2022-01-24T18:03:45.396Z"
   },
   {
    "duration": 491,
    "start_time": "2022-01-24T18:03:57.468Z"
   },
   {
    "duration": 453,
    "start_time": "2022-01-24T18:04:02.419Z"
   },
   {
    "duration": 8,
    "start_time": "2022-01-24T18:09:55.525Z"
   },
   {
    "duration": 2221,
    "start_time": "2022-01-24T18:10:09.823Z"
   },
   {
    "duration": 373,
    "start_time": "2022-01-24T18:10:40.550Z"
   },
   {
    "duration": 669,
    "start_time": "2022-01-24T18:10:55.085Z"
   },
   {
    "duration": 319,
    "start_time": "2022-01-24T18:11:14.925Z"
   },
   {
    "duration": 2204,
    "start_time": "2022-01-24T18:11:21.316Z"
   },
   {
    "duration": 1863,
    "start_time": "2022-01-24T18:11:29.706Z"
   },
   {
    "duration": 9,
    "start_time": "2022-01-24T18:14:39.634Z"
   },
   {
    "duration": 2106,
    "start_time": "2022-01-24T18:14:48.701Z"
   },
   {
    "duration": 10,
    "start_time": "2022-01-24T18:14:51.078Z"
   },
   {
    "duration": 2114,
    "start_time": "2022-01-24T18:14:52.772Z"
   },
   {
    "duration": 910,
    "start_time": "2022-01-24T18:15:07.836Z"
   },
   {
    "duration": 556,
    "start_time": "2022-01-24T18:15:08.748Z"
   },
   {
    "duration": 20,
    "start_time": "2022-01-24T18:15:09.307Z"
   },
   {
    "duration": 11,
    "start_time": "2022-01-24T18:15:09.329Z"
   },
   {
    "duration": 22,
    "start_time": "2022-01-24T18:15:09.342Z"
   },
   {
    "duration": 13,
    "start_time": "2022-01-24T18:15:09.367Z"
   },
   {
    "duration": 28,
    "start_time": "2022-01-24T18:15:09.382Z"
   },
   {
    "duration": 469,
    "start_time": "2022-01-24T18:15:09.414Z"
   },
   {
    "duration": 13,
    "start_time": "2022-01-24T18:15:09.886Z"
   },
   {
    "duration": 457,
    "start_time": "2022-01-24T18:15:09.902Z"
   },
   {
    "duration": 29,
    "start_time": "2022-01-24T18:15:10.361Z"
   },
   {
    "duration": 66,
    "start_time": "2022-01-24T18:15:10.393Z"
   },
   {
    "duration": 440,
    "start_time": "2022-01-24T18:15:10.462Z"
   },
   {
    "duration": 11,
    "start_time": "2022-01-24T18:15:10.905Z"
   },
   {
    "duration": 41,
    "start_time": "2022-01-24T18:15:10.918Z"
   },
   {
    "duration": 13,
    "start_time": "2022-01-24T18:15:10.962Z"
   },
   {
    "duration": 32,
    "start_time": "2022-01-24T18:15:10.977Z"
   },
   {
    "duration": 49,
    "start_time": "2022-01-24T18:15:11.012Z"
   },
   {
    "duration": 556,
    "start_time": "2022-01-24T18:15:11.065Z"
   },
   {
    "duration": 38,
    "start_time": "2022-01-24T18:15:11.623Z"
   },
   {
    "duration": 33,
    "start_time": "2022-01-24T18:15:11.664Z"
   },
   {
    "duration": 453,
    "start_time": "2022-01-24T18:15:11.699Z"
   },
   {
    "duration": 11,
    "start_time": "2022-01-24T18:15:12.162Z"
   },
   {
    "duration": 9,
    "start_time": "2022-01-24T18:15:12.176Z"
   },
   {
    "duration": 8,
    "start_time": "2022-01-24T18:15:12.187Z"
   },
   {
    "duration": 4566,
    "start_time": "2022-01-24T18:15:12.197Z"
   },
   {
    "duration": 18,
    "start_time": "2022-01-24T18:15:16.765Z"
   },
   {
    "duration": 14,
    "start_time": "2022-01-24T18:15:16.786Z"
   },
   {
    "duration": 13,
    "start_time": "2022-01-24T18:15:16.803Z"
   },
   {
    "duration": 55,
    "start_time": "2022-01-24T18:15:16.818Z"
   },
   {
    "duration": 38,
    "start_time": "2022-01-24T18:15:16.876Z"
   },
   {
    "duration": 152,
    "start_time": "2022-01-24T18:15:16.917Z"
   },
   {
    "duration": 61,
    "start_time": "2022-01-24T18:15:17.072Z"
   },
   {
    "duration": 40,
    "start_time": "2022-01-24T18:15:17.136Z"
   },
   {
    "duration": 6,
    "start_time": "2022-01-24T18:15:17.178Z"
   },
   {
    "duration": 30,
    "start_time": "2022-01-24T18:15:17.186Z"
   },
   {
    "duration": 42,
    "start_time": "2022-01-24T18:15:17.219Z"
   },
   {
    "duration": 15,
    "start_time": "2022-01-24T18:15:17.264Z"
   },
   {
    "duration": 13,
    "start_time": "2022-01-24T18:15:17.282Z"
   },
   {
    "duration": 18,
    "start_time": "2022-01-24T18:15:17.297Z"
   },
   {
    "duration": 42,
    "start_time": "2022-01-24T18:15:17.317Z"
   },
   {
    "duration": 11,
    "start_time": "2022-01-24T18:15:17.361Z"
   },
   {
    "duration": 1911,
    "start_time": "2022-01-24T18:15:17.374Z"
   },
   {
    "duration": 23,
    "start_time": "2022-01-24T18:15:19.288Z"
   },
   {
    "duration": 5,
    "start_time": "2022-01-24T18:15:19.314Z"
   },
   {
    "duration": 53,
    "start_time": "2022-01-24T18:15:19.321Z"
   },
   {
    "duration": 6,
    "start_time": "2022-01-24T18:15:19.376Z"
   },
   {
    "duration": 498,
    "start_time": "2022-01-24T18:15:19.384Z"
   },
   {
    "duration": 493,
    "start_time": "2022-01-24T18:15:19.885Z"
   },
   {
    "duration": 481,
    "start_time": "2022-01-24T18:15:20.381Z"
   },
   {
    "duration": 612,
    "start_time": "2022-01-24T18:15:20.865Z"
   },
   {
    "duration": 28,
    "start_time": "2022-01-24T18:15:21.480Z"
   },
   {
    "duration": 265,
    "start_time": "2022-01-24T18:15:21.511Z"
   },
   {
    "duration": 373,
    "start_time": "2022-01-24T18:15:21.779Z"
   },
   {
    "duration": 531,
    "start_time": "2022-01-24T18:15:22.155Z"
   },
   {
    "duration": 12,
    "start_time": "2022-01-24T18:15:22.689Z"
   },
   {
    "duration": 2212,
    "start_time": "2022-01-24T18:15:22.705Z"
   },
   {
    "duration": 126,
    "start_time": "2022-01-24T18:18:33.057Z"
   },
   {
    "duration": 125,
    "start_time": "2022-01-24T18:18:41.901Z"
   },
   {
    "duration": 116,
    "start_time": "2022-01-24T18:18:49.359Z"
   },
   {
    "duration": 2085,
    "start_time": "2022-01-24T18:18:53.566Z"
   },
   {
    "duration": 122,
    "start_time": "2022-01-24T18:19:13.331Z"
   },
   {
    "duration": 1856,
    "start_time": "2022-01-24T18:19:17.352Z"
   },
   {
    "duration": 1910,
    "start_time": "2022-01-24T18:19:38.118Z"
   },
   {
    "duration": 2165,
    "start_time": "2022-01-24T18:20:25.483Z"
   },
   {
    "duration": 1868,
    "start_time": "2022-01-24T18:21:04.937Z"
   },
   {
    "duration": 2077,
    "start_time": "2022-01-24T18:21:21.129Z"
   },
   {
    "duration": 1768,
    "start_time": "2022-01-24T18:21:36.820Z"
   },
   {
    "duration": 1701,
    "start_time": "2022-01-24T18:22:24.565Z"
   },
   {
    "duration": 2253,
    "start_time": "2022-01-24T18:22:31.545Z"
   },
   {
    "duration": 1825,
    "start_time": "2022-01-24T18:22:50.971Z"
   },
   {
    "duration": 1005,
    "start_time": "2022-01-24T18:26:39.253Z"
   },
   {
    "duration": 344,
    "start_time": "2022-01-24T18:32:02.731Z"
   },
   {
    "duration": 405,
    "start_time": "2022-01-24T18:32:30.240Z"
   },
   {
    "duration": 6,
    "start_time": "2022-01-24T18:32:59.819Z"
   },
   {
    "duration": 7,
    "start_time": "2022-01-24T18:33:12.288Z"
   },
   {
    "duration": 7,
    "start_time": "2022-01-24T18:33:12.821Z"
   },
   {
    "duration": 428,
    "start_time": "2022-01-24T18:33:13.680Z"
   },
   {
    "duration": 11545,
    "start_time": "2022-01-24T18:33:22.455Z"
   },
   {
    "duration": 9718,
    "start_time": "2022-01-24T18:33:40.364Z"
   },
   {
    "duration": 21,
    "start_time": "2022-01-24T18:34:21.324Z"
   },
   {
    "duration": 1040,
    "start_time": "2022-01-24T19:35:30.691Z"
   },
   {
    "duration": 7,
    "start_time": "2022-01-24T19:35:46.334Z"
   },
   {
    "duration": 7,
    "start_time": "2022-01-24T19:36:18.632Z"
   },
   {
    "duration": 22,
    "start_time": "2022-01-24T19:36:20.477Z"
   },
   {
    "duration": 10,
    "start_time": "2022-01-24T19:36:50.905Z"
   },
   {
    "duration": 9837,
    "start_time": "2022-01-24T19:41:16.181Z"
   },
   {
    "duration": 36,
    "start_time": "2022-01-24T19:41:53.670Z"
   },
   {
    "duration": 6,
    "start_time": "2022-01-24T19:42:04.718Z"
   },
   {
    "duration": 7,
    "start_time": "2022-01-24T19:42:18.383Z"
   },
   {
    "duration": 9,
    "start_time": "2022-01-24T19:43:02.847Z"
   },
   {
    "duration": 7,
    "start_time": "2022-01-24T19:46:03.582Z"
   },
   {
    "duration": 7,
    "start_time": "2022-01-24T19:46:34.471Z"
   },
   {
    "duration": 15079,
    "start_time": "2022-01-24T19:46:40.017Z"
   },
   {
    "duration": 10,
    "start_time": "2022-01-24T19:46:57.103Z"
   },
   {
    "duration": 7,
    "start_time": "2022-01-24T19:47:38.905Z"
   },
   {
    "duration": 8,
    "start_time": "2022-01-24T19:47:52.371Z"
   },
   {
    "duration": 10,
    "start_time": "2022-01-24T19:48:19.207Z"
   },
   {
    "duration": 115,
    "start_time": "2022-01-24T19:53:03.360Z"
   },
   {
    "duration": 128,
    "start_time": "2022-01-24T19:53:46.190Z"
   },
   {
    "duration": 123,
    "start_time": "2022-01-24T19:54:04.737Z"
   },
   {
    "duration": 134,
    "start_time": "2022-01-24T19:54:10.818Z"
   },
   {
    "duration": 26,
    "start_time": "2022-01-24T19:54:23.243Z"
   },
   {
    "duration": 26,
    "start_time": "2022-01-24T19:54:57.015Z"
   },
   {
    "duration": 26,
    "start_time": "2022-01-24T19:56:27.177Z"
   },
   {
    "duration": 26,
    "start_time": "2022-01-24T19:56:29.537Z"
   },
   {
    "duration": 922,
    "start_time": "2022-01-24T20:02:12.831Z"
   },
   {
    "duration": 563,
    "start_time": "2022-01-24T20:02:13.756Z"
   },
   {
    "duration": 21,
    "start_time": "2022-01-24T20:02:14.322Z"
   },
   {
    "duration": 14,
    "start_time": "2022-01-24T20:02:14.346Z"
   },
   {
    "duration": 9,
    "start_time": "2022-01-24T20:02:14.362Z"
   },
   {
    "duration": 14,
    "start_time": "2022-01-24T20:02:14.373Z"
   },
   {
    "duration": 33,
    "start_time": "2022-01-24T20:02:14.390Z"
   },
   {
    "duration": 480,
    "start_time": "2022-01-24T20:02:14.427Z"
   },
   {
    "duration": 14,
    "start_time": "2022-01-24T20:02:14.910Z"
   },
   {
    "duration": 461,
    "start_time": "2022-01-24T20:02:14.927Z"
   },
   {
    "duration": 28,
    "start_time": "2022-01-24T20:02:15.390Z"
   },
   {
    "duration": 56,
    "start_time": "2022-01-24T20:02:15.420Z"
   },
   {
    "duration": 449,
    "start_time": "2022-01-24T20:02:15.479Z"
   },
   {
    "duration": 11,
    "start_time": "2022-01-24T20:02:15.930Z"
   },
   {
    "duration": 20,
    "start_time": "2022-01-24T20:02:15.960Z"
   },
   {
    "duration": 13,
    "start_time": "2022-01-24T20:02:15.983Z"
   },
   {
    "duration": 23,
    "start_time": "2022-01-24T20:02:15.999Z"
   },
   {
    "duration": 42,
    "start_time": "2022-01-24T20:02:16.025Z"
   },
   {
    "duration": 513,
    "start_time": "2022-01-24T20:02:16.070Z"
   },
   {
    "duration": 26,
    "start_time": "2022-01-24T20:02:16.586Z"
   },
   {
    "duration": 63,
    "start_time": "2022-01-24T20:02:16.615Z"
   },
   {
    "duration": 432,
    "start_time": "2022-01-24T20:02:16.680Z"
   },
   {
    "duration": 12,
    "start_time": "2022-01-24T20:02:17.119Z"
   },
   {
    "duration": 27,
    "start_time": "2022-01-24T20:02:17.135Z"
   },
   {
    "duration": 8,
    "start_time": "2022-01-24T20:02:17.164Z"
   },
   {
    "duration": 4768,
    "start_time": "2022-01-24T20:02:17.174Z"
   },
   {
    "duration": 17,
    "start_time": "2022-01-24T20:02:21.944Z"
   },
   {
    "duration": 15,
    "start_time": "2022-01-24T20:02:21.963Z"
   },
   {
    "duration": 13,
    "start_time": "2022-01-24T20:02:21.980Z"
   },
   {
    "duration": 15,
    "start_time": "2022-01-24T20:02:21.995Z"
   },
   {
    "duration": 82,
    "start_time": "2022-01-24T20:02:22.012Z"
   },
   {
    "duration": 130,
    "start_time": "2022-01-24T20:02:22.096Z"
   },
   {
    "duration": 62,
    "start_time": "2022-01-24T20:02:22.228Z"
   },
   {
    "duration": 22,
    "start_time": "2022-01-24T20:02:22.293Z"
   },
   {
    "duration": 10,
    "start_time": "2022-01-24T20:02:22.317Z"
   },
   {
    "duration": 46,
    "start_time": "2022-01-24T20:02:22.329Z"
   },
   {
    "duration": 10,
    "start_time": "2022-01-24T20:02:22.377Z"
   },
   {
    "duration": 16,
    "start_time": "2022-01-24T20:02:22.389Z"
   },
   {
    "duration": 13,
    "start_time": "2022-01-24T20:02:22.408Z"
   },
   {
    "duration": 51,
    "start_time": "2022-01-24T20:02:22.424Z"
   },
   {
    "duration": 6,
    "start_time": "2022-01-24T20:02:22.477Z"
   },
   {
    "duration": 10,
    "start_time": "2022-01-24T20:02:22.486Z"
   },
   {
    "duration": 2009,
    "start_time": "2022-01-24T20:02:22.499Z"
   },
   {
    "duration": 24,
    "start_time": "2022-01-24T20:02:24.511Z"
   },
   {
    "duration": 5,
    "start_time": "2022-01-24T20:02:24.538Z"
   },
   {
    "duration": 33,
    "start_time": "2022-01-24T20:02:24.545Z"
   },
   {
    "duration": 5,
    "start_time": "2022-01-24T20:02:24.580Z"
   },
   {
    "duration": 591,
    "start_time": "2022-01-24T20:02:24.587Z"
   },
   {
    "duration": 472,
    "start_time": "2022-01-24T20:02:25.180Z"
   },
   {
    "duration": 447,
    "start_time": "2022-01-24T20:02:25.654Z"
   },
   {
    "duration": 450,
    "start_time": "2022-01-24T20:02:26.104Z"
   },
   {
    "duration": 20,
    "start_time": "2022-01-24T20:02:26.559Z"
   },
   {
    "duration": 257,
    "start_time": "2022-01-24T20:02:26.581Z"
   },
   {
    "duration": 361,
    "start_time": "2022-01-24T20:02:26.841Z"
   },
   {
    "duration": 482,
    "start_time": "2022-01-24T20:02:27.204Z"
   },
   {
    "duration": 9,
    "start_time": "2022-01-24T20:02:27.689Z"
   },
   {
    "duration": 8,
    "start_time": "2022-01-24T20:02:27.700Z"
   },
   {
    "duration": 552,
    "start_time": "2022-01-24T20:02:27.710Z"
   },
   {
    "duration": 22,
    "start_time": "2022-01-24T20:02:28.265Z"
   },
   {
    "duration": 6,
    "start_time": "2022-01-24T20:02:28.290Z"
   },
   {
    "duration": 7,
    "start_time": "2022-01-24T20:02:28.298Z"
   },
   {
    "duration": 14,
    "start_time": "2022-01-24T20:02:28.308Z"
   },
   {
    "duration": 8,
    "start_time": "2022-01-24T20:02:28.361Z"
   },
   {
    "duration": 7,
    "start_time": "2022-01-24T20:02:28.372Z"
   },
   {
    "duration": 9,
    "start_time": "2022-01-24T20:02:28.382Z"
   },
   {
    "duration": 11,
    "start_time": "2022-01-24T20:02:28.393Z"
   },
   {
    "duration": 8,
    "start_time": "2022-01-24T20:02:28.407Z"
   },
   {
    "duration": 10,
    "start_time": "2022-01-24T20:02:28.465Z"
   },
   {
    "duration": 30,
    "start_time": "2022-01-24T20:02:28.478Z"
   },
   {
    "duration": 63,
    "start_time": "2022-01-24T20:02:28.511Z"
   },
   {
    "duration": 664,
    "start_time": "2022-02-01T09:48:18.060Z"
   },
   {
    "duration": 432,
    "start_time": "2022-02-01T09:48:18.726Z"
   },
   {
    "duration": 14,
    "start_time": "2022-02-01T09:48:19.161Z"
   },
   {
    "duration": 13,
    "start_time": "2022-02-01T09:48:19.178Z"
   },
   {
    "duration": 11,
    "start_time": "2022-02-01T09:48:19.193Z"
   },
   {
    "duration": 12,
    "start_time": "2022-02-01T09:48:19.207Z"
   },
   {
    "duration": 26,
    "start_time": "2022-02-01T09:48:19.221Z"
   },
   {
    "duration": 353,
    "start_time": "2022-02-01T09:48:19.251Z"
   },
   {
    "duration": 10,
    "start_time": "2022-02-01T09:48:19.606Z"
   },
   {
    "duration": 334,
    "start_time": "2022-02-01T09:48:19.617Z"
   },
   {
    "duration": 18,
    "start_time": "2022-02-01T09:48:19.953Z"
   },
   {
    "duration": 46,
    "start_time": "2022-02-01T09:48:19.973Z"
   },
   {
    "duration": 330,
    "start_time": "2022-02-01T09:48:20.021Z"
   },
   {
    "duration": 8,
    "start_time": "2022-02-01T09:48:20.353Z"
   },
   {
    "duration": 25,
    "start_time": "2022-02-01T09:48:20.362Z"
   },
   {
    "duration": 16,
    "start_time": "2022-02-01T09:48:20.389Z"
   },
   {
    "duration": 25,
    "start_time": "2022-02-01T09:48:20.407Z"
   },
   {
    "duration": 10,
    "start_time": "2022-02-01T09:48:20.434Z"
   },
   {
    "duration": 386,
    "start_time": "2022-02-01T09:48:20.446Z"
   },
   {
    "duration": 16,
    "start_time": "2022-02-01T09:48:20.834Z"
   },
   {
    "duration": 24,
    "start_time": "2022-02-01T09:48:20.851Z"
   },
   {
    "duration": 330,
    "start_time": "2022-02-01T09:48:20.877Z"
   },
   {
    "duration": 9,
    "start_time": "2022-02-01T09:48:21.212Z"
   },
   {
    "duration": 10,
    "start_time": "2022-02-01T09:48:21.224Z"
   },
   {
    "duration": 6,
    "start_time": "2022-02-01T09:48:21.236Z"
   },
   {
    "duration": 3146,
    "start_time": "2022-02-01T09:48:21.243Z"
   },
   {
    "duration": 14,
    "start_time": "2022-02-01T09:48:24.391Z"
   },
   {
    "duration": 14,
    "start_time": "2022-02-01T09:48:24.407Z"
   },
   {
    "duration": 10,
    "start_time": "2022-02-01T09:48:24.423Z"
   },
   {
    "duration": 12,
    "start_time": "2022-02-01T09:48:24.435Z"
   },
   {
    "duration": 70,
    "start_time": "2022-02-01T09:48:24.449Z"
   },
   {
    "duration": 94,
    "start_time": "2022-02-01T09:48:24.521Z"
   },
   {
    "duration": 40,
    "start_time": "2022-02-01T09:48:24.617Z"
   },
   {
    "duration": 17,
    "start_time": "2022-02-01T09:48:24.660Z"
   },
   {
    "duration": 3,
    "start_time": "2022-02-01T09:48:24.698Z"
   },
   {
    "duration": 28,
    "start_time": "2022-02-01T09:48:24.703Z"
   },
   {
    "duration": 6,
    "start_time": "2022-02-01T09:48:24.733Z"
   },
   {
    "duration": 11,
    "start_time": "2022-02-01T09:48:24.741Z"
   },
   {
    "duration": 17,
    "start_time": "2022-02-01T09:48:24.754Z"
   },
   {
    "duration": 27,
    "start_time": "2022-02-01T09:48:24.772Z"
   },
   {
    "duration": 7,
    "start_time": "2022-02-01T09:48:24.801Z"
   },
   {
    "duration": 8,
    "start_time": "2022-02-01T09:48:24.809Z"
   },
   {
    "duration": 1043,
    "start_time": "2022-02-01T09:48:24.819Z"
   },
   {
    "duration": 17,
    "start_time": "2022-02-01T09:48:25.864Z"
   },
   {
    "duration": 17,
    "start_time": "2022-02-01T09:48:25.882Z"
   },
   {
    "duration": 21,
    "start_time": "2022-02-01T09:48:25.900Z"
   },
   {
    "duration": 6,
    "start_time": "2022-02-01T09:48:25.923Z"
   },
   {
    "duration": 323,
    "start_time": "2022-02-01T09:48:25.931Z"
   },
   {
    "duration": 310,
    "start_time": "2022-02-01T09:48:26.256Z"
   },
   {
    "duration": 314,
    "start_time": "2022-02-01T09:48:26.568Z"
   },
   {
    "duration": 319,
    "start_time": "2022-02-01T09:48:26.884Z"
   },
   {
    "duration": 13,
    "start_time": "2022-02-01T09:48:27.205Z"
   },
   {
    "duration": 168,
    "start_time": "2022-02-01T09:48:27.220Z"
   },
   {
    "duration": 286,
    "start_time": "2022-02-01T09:48:27.390Z"
   },
   {
    "duration": 334,
    "start_time": "2022-02-01T09:48:27.678Z"
   },
   {
    "duration": 6,
    "start_time": "2022-02-01T09:48:28.015Z"
   },
   {
    "duration": 21,
    "start_time": "2022-02-01T09:48:28.024Z"
   },
   {
    "duration": 471,
    "start_time": "2022-02-01T09:48:28.046Z"
   },
   {
    "duration": 16,
    "start_time": "2022-02-01T09:48:28.519Z"
   },
   {
    "duration": 9,
    "start_time": "2022-02-01T09:48:28.537Z"
   },
   {
    "duration": 13,
    "start_time": "2022-02-01T09:48:28.548Z"
   },
   {
    "duration": 27,
    "start_time": "2022-02-01T09:48:28.563Z"
   },
   {
    "duration": 10,
    "start_time": "2022-02-01T09:48:28.592Z"
   },
   {
    "duration": 15,
    "start_time": "2022-02-01T09:48:28.604Z"
   },
   {
    "duration": 18,
    "start_time": "2022-02-01T09:48:28.621Z"
   },
   {
    "duration": 16,
    "start_time": "2022-02-01T09:48:28.641Z"
   },
   {
    "duration": 34,
    "start_time": "2022-02-01T09:48:28.659Z"
   },
   {
    "duration": 9,
    "start_time": "2022-02-01T09:48:28.698Z"
   },
   {
    "duration": 39,
    "start_time": "2022-02-01T09:48:28.708Z"
   },
   {
    "duration": 20,
    "start_time": "2022-02-01T09:48:28.749Z"
   },
   {
    "duration": 8,
    "start_time": "2022-02-01T10:34:13.469Z"
   },
   {
    "duration": 674,
    "start_time": "2022-02-01T10:36:24.443Z"
   },
   {
    "duration": 943,
    "start_time": "2022-02-01T10:36:26.299Z"
   },
   {
    "duration": 7,
    "start_time": "2022-02-01T10:36:33.555Z"
   },
   {
    "duration": 31,
    "start_time": "2022-02-01T10:42:53.115Z"
   },
   {
    "duration": 39,
    "start_time": "2022-02-01T10:42:58.293Z"
   },
   {
    "duration": 5,
    "start_time": "2022-02-01T10:43:13.819Z"
   },
   {
    "duration": 489,
    "start_time": "2022-02-01T14:02:56.092Z"
   },
   {
    "duration": 514,
    "start_time": "2022-02-01T14:03:02.237Z"
   },
   {
    "duration": 1248,
    "start_time": "2022-02-01T14:03:13.656Z"
   },
   {
    "duration": 592,
    "start_time": "2022-02-01T14:03:14.908Z"
   },
   {
    "duration": 21,
    "start_time": "2022-02-01T14:03:15.503Z"
   },
   {
    "duration": 31,
    "start_time": "2022-02-01T14:03:15.529Z"
   },
   {
    "duration": 24,
    "start_time": "2022-02-01T14:03:15.563Z"
   },
   {
    "duration": 22,
    "start_time": "2022-02-01T14:03:15.591Z"
   },
   {
    "duration": 57,
    "start_time": "2022-02-01T14:03:15.616Z"
   },
   {
    "duration": 513,
    "start_time": "2022-02-01T14:03:15.680Z"
   },
   {
    "duration": 19,
    "start_time": "2022-02-01T14:03:16.197Z"
   },
   {
    "duration": 715,
    "start_time": "2022-02-01T14:03:16.219Z"
   },
   {
    "duration": 49,
    "start_time": "2022-02-01T14:03:16.937Z"
   },
   {
    "duration": 42,
    "start_time": "2022-02-01T14:03:16.989Z"
   },
   {
    "duration": 617,
    "start_time": "2022-02-01T14:03:17.034Z"
   },
   {
    "duration": 12,
    "start_time": "2022-02-01T14:03:17.653Z"
   },
   {
    "duration": 38,
    "start_time": "2022-02-01T14:03:17.668Z"
   },
   {
    "duration": 48,
    "start_time": "2022-02-01T14:03:17.710Z"
   },
   {
    "duration": 37,
    "start_time": "2022-02-01T14:03:17.761Z"
   },
   {
    "duration": 14,
    "start_time": "2022-02-01T14:03:17.801Z"
   },
   {
    "duration": 587,
    "start_time": "2022-02-01T14:03:17.818Z"
   },
   {
    "duration": 44,
    "start_time": "2022-02-01T14:03:18.409Z"
   },
   {
    "duration": 50,
    "start_time": "2022-02-01T14:03:18.458Z"
   },
   {
    "duration": 552,
    "start_time": "2022-02-01T14:03:18.511Z"
   },
   {
    "duration": 20,
    "start_time": "2022-02-01T14:03:19.071Z"
   },
   {
    "duration": 15,
    "start_time": "2022-02-01T14:03:19.098Z"
   },
   {
    "duration": 14,
    "start_time": "2022-02-01T14:03:19.117Z"
   },
   {
    "duration": 6103,
    "start_time": "2022-02-01T14:03:19.134Z"
   },
   {
    "duration": 31,
    "start_time": "2022-02-01T14:03:25.241Z"
   },
   {
    "duration": 29,
    "start_time": "2022-02-01T14:03:25.275Z"
   },
   {
    "duration": 26,
    "start_time": "2022-02-01T14:03:25.307Z"
   },
   {
    "duration": 34,
    "start_time": "2022-02-01T14:03:25.336Z"
   },
   {
    "duration": 56,
    "start_time": "2022-02-01T14:03:25.375Z"
   },
   {
    "duration": 132,
    "start_time": "2022-02-01T14:03:25.433Z"
   },
   {
    "duration": 101,
    "start_time": "2022-02-01T14:03:25.570Z"
   },
   {
    "duration": 25,
    "start_time": "2022-02-01T14:03:25.674Z"
   },
   {
    "duration": 11,
    "start_time": "2022-02-01T14:03:25.703Z"
   },
   {
    "duration": 54,
    "start_time": "2022-02-01T14:03:25.717Z"
   },
   {
    "duration": 14,
    "start_time": "2022-02-01T14:03:25.775Z"
   },
   {
    "duration": 25,
    "start_time": "2022-02-01T14:03:25.793Z"
   },
   {
    "duration": 42,
    "start_time": "2022-02-01T14:03:25.821Z"
   },
   {
    "duration": 42,
    "start_time": "2022-02-01T14:03:25.865Z"
   },
   {
    "duration": 8,
    "start_time": "2022-02-01T14:03:25.909Z"
   },
   {
    "duration": 11,
    "start_time": "2022-02-01T14:03:25.920Z"
   },
   {
    "duration": 2504,
    "start_time": "2022-02-01T14:03:25.933Z"
   },
   {
    "duration": 42,
    "start_time": "2022-02-01T14:03:28.440Z"
   },
   {
    "duration": 7,
    "start_time": "2022-02-01T14:03:28.486Z"
   },
   {
    "duration": 60,
    "start_time": "2022-02-01T14:03:28.496Z"
   },
   {
    "duration": 5,
    "start_time": "2022-02-01T14:03:28.559Z"
   },
   {
    "duration": 649,
    "start_time": "2022-02-01T14:03:28.567Z"
   },
   {
    "duration": 674,
    "start_time": "2022-02-01T14:03:29.219Z"
   },
   {
    "duration": 548,
    "start_time": "2022-02-01T14:03:29.897Z"
   },
   {
    "duration": 720,
    "start_time": "2022-02-01T14:03:30.449Z"
   },
   {
    "duration": 20,
    "start_time": "2022-02-01T14:03:31.175Z"
   },
   {
    "duration": 363,
    "start_time": "2022-02-01T14:03:31.198Z"
   },
   {
    "duration": 454,
    "start_time": "2022-02-01T14:03:31.566Z"
   },
   {
    "duration": 683,
    "start_time": "2022-02-01T14:03:32.023Z"
   },
   {
    "duration": 9,
    "start_time": "2022-02-01T14:03:32.709Z"
   },
   {
    "duration": 32,
    "start_time": "2022-02-01T14:03:32.721Z"
   },
   {
    "duration": 749,
    "start_time": "2022-02-01T14:03:32.758Z"
   },
   {
    "duration": 45,
    "start_time": "2022-02-01T14:03:33.509Z"
   },
   {
    "duration": 10,
    "start_time": "2022-02-01T14:03:33.557Z"
   },
   {
    "duration": 17,
    "start_time": "2022-02-01T14:03:33.570Z"
   },
   {
    "duration": 19,
    "start_time": "2022-02-01T14:03:33.591Z"
   },
   {
    "duration": 11,
    "start_time": "2022-02-01T14:03:33.613Z"
   },
   {
    "duration": 13,
    "start_time": "2022-02-01T14:03:33.653Z"
   },
   {
    "duration": 25,
    "start_time": "2022-02-01T14:03:33.669Z"
   },
   {
    "duration": 14,
    "start_time": "2022-02-01T14:03:33.697Z"
   },
   {
    "duration": 15,
    "start_time": "2022-02-01T14:03:33.713Z"
   },
   {
    "duration": 36,
    "start_time": "2022-02-01T14:03:33.739Z"
   },
   {
    "duration": 39,
    "start_time": "2022-02-01T14:03:33.778Z"
   },
   {
    "duration": 63,
    "start_time": "2022-02-01T14:03:33.820Z"
   },
   {
    "duration": 721,
    "start_time": "2022-02-01T14:03:33.886Z"
   },
   {
    "duration": 497,
    "start_time": "2022-02-01T14:04:18.762Z"
   },
   {
    "duration": 488,
    "start_time": "2022-02-01T14:04:38.560Z"
   },
   {
    "duration": 453,
    "start_time": "2022-02-01T14:09:03.231Z"
   },
   {
    "duration": 925,
    "start_time": "2022-02-01T14:11:33.135Z"
   },
   {
    "duration": 581,
    "start_time": "2022-02-01T14:11:37.929Z"
   },
   {
    "duration": 492,
    "start_time": "2022-02-01T14:11:50.969Z"
   },
   {
    "duration": 503,
    "start_time": "2022-02-01T14:12:06.394Z"
   },
   {
    "duration": 600,
    "start_time": "2022-02-01T14:13:09.418Z"
   },
   {
    "duration": 526,
    "start_time": "2022-02-01T14:13:17.426Z"
   },
   {
    "duration": 559,
    "start_time": "2022-02-01T14:13:22.682Z"
   },
   {
    "duration": 209,
    "start_time": "2022-02-01T14:13:29.369Z"
   },
   {
    "duration": 474,
    "start_time": "2022-02-01T14:13:34.673Z"
   },
   {
    "duration": 9,
    "start_time": "2022-02-01T14:14:54.948Z"
   },
   {
    "duration": 492,
    "start_time": "2022-02-01T14:15:41.474Z"
   },
   {
    "duration": 451,
    "start_time": "2022-02-01T14:16:34.140Z"
   },
   {
    "duration": 471,
    "start_time": "2022-02-01T14:16:55.996Z"
   },
   {
    "duration": 661,
    "start_time": "2022-02-01T14:18:47.291Z"
   },
   {
    "duration": 895,
    "start_time": "2022-02-01T14:19:08.769Z"
   },
   {
    "duration": 562,
    "start_time": "2022-02-01T14:19:09.667Z"
   },
   {
    "duration": 22,
    "start_time": "2022-02-01T14:19:10.232Z"
   },
   {
    "duration": 22,
    "start_time": "2022-02-01T14:19:10.257Z"
   },
   {
    "duration": 8,
    "start_time": "2022-02-01T14:19:10.282Z"
   },
   {
    "duration": 13,
    "start_time": "2022-02-01T14:19:10.293Z"
   },
   {
    "duration": 56,
    "start_time": "2022-02-01T14:19:10.308Z"
   },
   {
    "duration": 521,
    "start_time": "2022-02-01T14:19:10.371Z"
   },
   {
    "duration": 12,
    "start_time": "2022-02-01T14:19:10.895Z"
   },
   {
    "duration": 471,
    "start_time": "2022-02-01T14:19:10.910Z"
   },
   {
    "duration": 477,
    "start_time": "2022-02-01T14:19:11.384Z"
   },
   {
    "duration": 30,
    "start_time": "2022-02-01T14:19:11.864Z"
   },
   {
    "duration": 68,
    "start_time": "2022-02-01T14:19:11.896Z"
   },
   {
    "duration": 515,
    "start_time": "2022-02-01T14:19:11.967Z"
   },
   {
    "duration": 12,
    "start_time": "2022-02-01T14:19:12.485Z"
   },
   {
    "duration": 20,
    "start_time": "2022-02-01T14:19:12.500Z"
   },
   {
    "duration": 44,
    "start_time": "2022-02-01T14:19:12.523Z"
   },
   {
    "duration": 25,
    "start_time": "2022-02-01T14:19:12.569Z"
   },
   {
    "duration": 12,
    "start_time": "2022-02-01T14:19:12.597Z"
   },
   {
    "duration": 460,
    "start_time": "2022-02-01T14:19:12.612Z"
   },
   {
    "duration": 26,
    "start_time": "2022-02-01T14:19:13.075Z"
   },
   {
    "duration": 59,
    "start_time": "2022-02-01T14:19:13.103Z"
   },
   {
    "duration": 445,
    "start_time": "2022-02-01T14:19:13.170Z"
   },
   {
    "duration": 31,
    "start_time": "2022-02-01T14:19:13.619Z"
   },
   {
    "duration": 11,
    "start_time": "2022-02-01T14:19:13.653Z"
   },
   {
    "duration": 12,
    "start_time": "2022-02-01T14:19:13.667Z"
   },
   {
    "duration": 4749,
    "start_time": "2022-02-01T14:19:13.681Z"
   },
   {
    "duration": 34,
    "start_time": "2022-02-01T14:19:18.433Z"
   },
   {
    "duration": 15,
    "start_time": "2022-02-01T14:19:18.469Z"
   },
   {
    "duration": 18,
    "start_time": "2022-02-01T14:19:18.486Z"
   },
   {
    "duration": 16,
    "start_time": "2022-02-01T14:19:18.507Z"
   },
   {
    "duration": 38,
    "start_time": "2022-02-01T14:19:18.557Z"
   },
   {
    "duration": 120,
    "start_time": "2022-02-01T14:19:18.598Z"
   },
   {
    "duration": 63,
    "start_time": "2022-02-01T14:19:18.721Z"
   },
   {
    "duration": 28,
    "start_time": "2022-02-01T14:19:18.787Z"
   },
   {
    "duration": 9,
    "start_time": "2022-02-01T14:19:18.818Z"
   },
   {
    "duration": 30,
    "start_time": "2022-02-01T14:19:18.848Z"
   },
   {
    "duration": 17,
    "start_time": "2022-02-01T14:19:18.882Z"
   },
   {
    "duration": 21,
    "start_time": "2022-02-01T14:19:18.901Z"
   },
   {
    "duration": 39,
    "start_time": "2022-02-01T14:19:18.924Z"
   },
   {
    "duration": 20,
    "start_time": "2022-02-01T14:19:18.966Z"
   },
   {
    "duration": 9,
    "start_time": "2022-02-01T14:19:18.990Z"
   },
   {
    "duration": 51,
    "start_time": "2022-02-01T14:19:19.002Z"
   },
   {
    "duration": 1997,
    "start_time": "2022-02-01T14:19:19.055Z"
   },
   {
    "duration": 25,
    "start_time": "2022-02-01T14:19:21.054Z"
   },
   {
    "duration": 5,
    "start_time": "2022-02-01T14:19:21.081Z"
   },
   {
    "duration": 26,
    "start_time": "2022-02-01T14:19:21.089Z"
   },
   {
    "duration": 35,
    "start_time": "2022-02-01T14:19:21.117Z"
   },
   {
    "duration": 434,
    "start_time": "2022-02-01T14:19:21.155Z"
   },
   {
    "duration": 426,
    "start_time": "2022-02-01T14:19:21.591Z"
   },
   {
    "duration": 465,
    "start_time": "2022-02-01T14:19:22.021Z"
   },
   {
    "duration": 471,
    "start_time": "2022-02-01T14:19:22.489Z"
   },
   {
    "duration": 21,
    "start_time": "2022-02-01T14:19:22.964Z"
   },
   {
    "duration": 279,
    "start_time": "2022-02-01T14:19:22.988Z"
   },
   {
    "duration": 435,
    "start_time": "2022-02-01T14:19:23.270Z"
   },
   {
    "duration": 488,
    "start_time": "2022-02-01T14:19:23.707Z"
   },
   {
    "duration": 8,
    "start_time": "2022-02-01T14:19:24.197Z"
   },
   {
    "duration": 11,
    "start_time": "2022-02-01T14:19:24.207Z"
   },
   {
    "duration": 449,
    "start_time": "2022-02-01T14:19:24.220Z"
   },
   {
    "duration": 20,
    "start_time": "2022-02-01T14:19:24.671Z"
   },
   {
    "duration": 10,
    "start_time": "2022-02-01T14:19:24.693Z"
   },
   {
    "duration": 7,
    "start_time": "2022-02-01T14:19:24.705Z"
   },
   {
    "duration": 40,
    "start_time": "2022-02-01T14:19:24.714Z"
   },
   {
    "duration": 10,
    "start_time": "2022-02-01T14:19:24.759Z"
   },
   {
    "duration": 9,
    "start_time": "2022-02-01T14:19:24.772Z"
   },
   {
    "duration": 10,
    "start_time": "2022-02-01T14:19:24.783Z"
   },
   {
    "duration": 12,
    "start_time": "2022-02-01T14:19:24.796Z"
   },
   {
    "duration": 40,
    "start_time": "2022-02-01T14:19:24.815Z"
   },
   {
    "duration": 10,
    "start_time": "2022-02-01T14:19:24.858Z"
   },
   {
    "duration": 28,
    "start_time": "2022-02-01T14:19:24.870Z"
   },
   {
    "duration": 66,
    "start_time": "2022-02-01T14:19:24.900Z"
   },
   {
    "duration": 511,
    "start_time": "2022-02-01T14:35:02.301Z"
   },
   {
    "duration": 123,
    "start_time": "2022-02-01T14:35:32.367Z"
   },
   {
    "duration": 484,
    "start_time": "2022-02-01T14:35:44.893Z"
   },
   {
    "duration": 495,
    "start_time": "2022-02-01T14:42:10.983Z"
   },
   {
    "duration": 586,
    "start_time": "2022-02-01T14:43:05.629Z"
   },
   {
    "duration": 505,
    "start_time": "2022-02-01T14:43:30.079Z"
   },
   {
    "duration": 1604,
    "start_time": "2022-02-01T14:44:58.158Z"
   },
   {
    "duration": 591,
    "start_time": "2022-02-01T14:44:59.765Z"
   },
   {
    "duration": 22,
    "start_time": "2022-02-01T14:45:00.360Z"
   },
   {
    "duration": 19,
    "start_time": "2022-02-01T14:45:00.384Z"
   },
   {
    "duration": 24,
    "start_time": "2022-02-01T14:45:00.405Z"
   },
   {
    "duration": 20,
    "start_time": "2022-02-01T14:45:00.448Z"
   },
   {
    "duration": 48,
    "start_time": "2022-02-01T14:45:00.471Z"
   },
   {
    "duration": 586,
    "start_time": "2022-02-01T14:45:00.525Z"
   },
   {
    "duration": 603,
    "start_time": "2022-02-01T14:45:01.115Z"
   },
   {
    "duration": 33,
    "start_time": "2022-02-01T14:45:01.722Z"
   },
   {
    "duration": 583,
    "start_time": "2022-02-01T14:45:01.758Z"
   },
   {
    "duration": 83,
    "start_time": "2022-02-01T14:45:02.348Z"
   },
   {
    "duration": 57,
    "start_time": "2022-02-01T14:45:02.434Z"
   },
   {
    "duration": 690,
    "start_time": "2022-02-01T14:45:02.494Z"
   },
   {
    "duration": 15,
    "start_time": "2022-02-01T14:45:03.186Z"
   },
   {
    "duration": 48,
    "start_time": "2022-02-01T14:45:03.204Z"
   },
   {
    "duration": 49,
    "start_time": "2022-02-01T14:45:03.255Z"
   },
   {
    "duration": 87,
    "start_time": "2022-02-01T14:45:03.308Z"
   },
   {
    "duration": 27,
    "start_time": "2022-02-01T14:45:03.398Z"
   },
   {
    "duration": 642,
    "start_time": "2022-02-01T14:45:03.427Z"
   },
   {
    "duration": 27,
    "start_time": "2022-02-01T14:45:04.074Z"
   },
   {
    "duration": 871,
    "start_time": "2022-02-01T14:45:04.104Z"
   },
   {
    "duration": 606,
    "start_time": "2022-02-01T14:45:04.984Z"
   },
   {
    "duration": 13,
    "start_time": "2022-02-01T14:45:05.596Z"
   },
   {
    "duration": 23,
    "start_time": "2022-02-01T14:45:05.612Z"
   },
   {
    "duration": 32,
    "start_time": "2022-02-01T14:45:05.650Z"
   },
   {
    "duration": 6265,
    "start_time": "2022-02-01T14:45:05.685Z"
   },
   {
    "duration": 25,
    "start_time": "2022-02-01T14:45:11.953Z"
   },
   {
    "duration": 18,
    "start_time": "2022-02-01T14:45:11.982Z"
   },
   {
    "duration": 51,
    "start_time": "2022-02-01T14:45:12.004Z"
   },
   {
    "duration": 24,
    "start_time": "2022-02-01T14:45:12.059Z"
   },
   {
    "duration": 80,
    "start_time": "2022-02-01T14:45:12.086Z"
   },
   {
    "duration": 149,
    "start_time": "2022-02-01T14:45:12.169Z"
   },
   {
    "duration": 87,
    "start_time": "2022-02-01T14:45:12.321Z"
   },
   {
    "duration": 43,
    "start_time": "2022-02-01T14:45:12.411Z"
   },
   {
    "duration": 5,
    "start_time": "2022-02-01T14:45:12.457Z"
   },
   {
    "duration": 47,
    "start_time": "2022-02-01T14:45:12.465Z"
   },
   {
    "duration": 13,
    "start_time": "2022-02-01T14:45:12.515Z"
   },
   {
    "duration": 33,
    "start_time": "2022-02-01T14:45:12.531Z"
   },
   {
    "duration": 39,
    "start_time": "2022-02-01T14:45:12.571Z"
   },
   {
    "duration": 20,
    "start_time": "2022-02-01T14:45:12.612Z"
   },
   {
    "duration": 27,
    "start_time": "2022-02-01T14:45:12.636Z"
   },
   {
    "duration": 28,
    "start_time": "2022-02-01T14:45:12.666Z"
   },
   {
    "duration": 2254,
    "start_time": "2022-02-01T14:45:12.697Z"
   },
   {
    "duration": 30,
    "start_time": "2022-02-01T14:45:14.956Z"
   },
   {
    "duration": 27,
    "start_time": "2022-02-01T14:45:14.989Z"
   },
   {
    "duration": 60,
    "start_time": "2022-02-01T14:45:15.020Z"
   },
   {
    "duration": 21,
    "start_time": "2022-02-01T14:45:15.083Z"
   },
   {
    "duration": 634,
    "start_time": "2022-02-01T14:45:15.107Z"
   },
   {
    "duration": 640,
    "start_time": "2022-02-01T14:45:15.748Z"
   },
   {
    "duration": 649,
    "start_time": "2022-02-01T14:45:16.391Z"
   },
   {
    "duration": 558,
    "start_time": "2022-02-01T14:45:17.050Z"
   },
   {
    "duration": 19,
    "start_time": "2022-02-01T14:45:17.611Z"
   },
   {
    "duration": 256,
    "start_time": "2022-02-01T14:45:17.653Z"
   },
   {
    "duration": 485,
    "start_time": "2022-02-01T14:45:17.912Z"
   },
   {
    "duration": 510,
    "start_time": "2022-02-01T14:45:18.401Z"
   },
   {
    "duration": 10,
    "start_time": "2022-02-01T14:45:18.914Z"
   },
   {
    "duration": 56,
    "start_time": "2022-02-01T14:45:18.927Z"
   },
   {
    "duration": 546,
    "start_time": "2022-02-01T14:45:18.986Z"
   },
   {
    "duration": 44,
    "start_time": "2022-02-01T14:45:19.535Z"
   },
   {
    "duration": 9,
    "start_time": "2022-02-01T14:45:19.583Z"
   },
   {
    "duration": 14,
    "start_time": "2022-02-01T14:45:19.595Z"
   },
   {
    "duration": 13,
    "start_time": "2022-02-01T14:45:19.612Z"
   },
   {
    "duration": 9,
    "start_time": "2022-02-01T14:45:19.661Z"
   },
   {
    "duration": 9,
    "start_time": "2022-02-01T14:45:19.673Z"
   },
   {
    "duration": 19,
    "start_time": "2022-02-01T14:45:19.685Z"
   },
   {
    "duration": 18,
    "start_time": "2022-02-01T14:45:19.707Z"
   },
   {
    "duration": 21,
    "start_time": "2022-02-01T14:45:19.733Z"
   },
   {
    "duration": 23,
    "start_time": "2022-02-01T14:45:19.757Z"
   },
   {
    "duration": 33,
    "start_time": "2022-02-01T14:45:19.783Z"
   },
   {
    "duration": 55,
    "start_time": "2022-02-01T14:45:19.819Z"
   },
   {
    "duration": 312,
    "start_time": "2022-02-02T12:50:29.400Z"
   },
   {
    "duration": 327,
    "start_time": "2022-02-02T12:51:07.195Z"
   },
   {
    "duration": 724,
    "start_time": "2022-02-02T12:51:43.247Z"
   },
   {
    "duration": 475,
    "start_time": "2022-02-02T12:51:43.973Z"
   },
   {
    "duration": 15,
    "start_time": "2022-02-02T12:51:44.450Z"
   },
   {
    "duration": 19,
    "start_time": "2022-02-02T12:51:44.468Z"
   },
   {
    "duration": 17,
    "start_time": "2022-02-02T12:51:44.489Z"
   },
   {
    "duration": 19,
    "start_time": "2022-02-02T12:51:44.509Z"
   },
   {
    "duration": 24,
    "start_time": "2022-02-02T12:51:44.532Z"
   },
   {
    "duration": 392,
    "start_time": "2022-02-02T12:51:44.559Z"
   },
   {
    "duration": 371,
    "start_time": "2022-02-02T12:51:44.954Z"
   },
   {
    "duration": 11,
    "start_time": "2022-02-02T12:51:45.327Z"
   },
   {
    "duration": 406,
    "start_time": "2022-02-02T12:51:45.340Z"
   },
   {
    "duration": 19,
    "start_time": "2022-02-02T12:51:45.748Z"
   },
   {
    "duration": 61,
    "start_time": "2022-02-02T12:51:45.769Z"
   },
   {
    "duration": 429,
    "start_time": "2022-02-02T12:51:45.832Z"
   },
   {
    "duration": 8,
    "start_time": "2022-02-02T12:51:46.263Z"
   },
   {
    "duration": 43,
    "start_time": "2022-02-02T12:51:46.273Z"
   },
   {
    "duration": 14,
    "start_time": "2022-02-02T12:51:46.319Z"
   },
   {
    "duration": 23,
    "start_time": "2022-02-02T12:51:46.335Z"
   },
   {
    "duration": 10,
    "start_time": "2022-02-02T12:51:46.360Z"
   },
   {
    "duration": 389,
    "start_time": "2022-02-02T12:51:46.371Z"
   },
   {
    "duration": 19,
    "start_time": "2022-02-02T12:51:46.763Z"
   },
   {
    "duration": 44,
    "start_time": "2022-02-02T12:51:46.785Z"
   },
   {
    "duration": 390,
    "start_time": "2022-02-02T12:51:46.834Z"
   },
   {
    "duration": 8,
    "start_time": "2022-02-02T12:51:47.228Z"
   },
   {
    "duration": 34,
    "start_time": "2022-02-02T12:51:47.238Z"
   },
   {
    "duration": 34,
    "start_time": "2022-02-02T12:51:47.275Z"
   },
   {
    "duration": 3586,
    "start_time": "2022-02-02T12:51:47.312Z"
   },
   {
    "duration": 18,
    "start_time": "2022-02-02T12:51:50.900Z"
   },
   {
    "duration": 14,
    "start_time": "2022-02-02T12:51:50.920Z"
   },
   {
    "duration": 14,
    "start_time": "2022-02-02T12:51:50.936Z"
   },
   {
    "duration": 13,
    "start_time": "2022-02-02T12:51:50.951Z"
   },
   {
    "duration": 61,
    "start_time": "2022-02-02T12:51:50.966Z"
   },
   {
    "duration": 97,
    "start_time": "2022-02-02T12:51:51.029Z"
   },
   {
    "duration": 39,
    "start_time": "2022-02-02T12:51:51.127Z"
   },
   {
    "duration": 92,
    "start_time": "2022-02-02T12:51:51.168Z"
   },
   {
    "duration": 117140,
    "start_time": "2022-02-02T12:49:54.122Z"
   },
   {
    "duration": 117138,
    "start_time": "2022-02-02T12:49:54.125Z"
   },
   {
    "duration": 117136,
    "start_time": "2022-02-02T12:49:54.128Z"
   },
   {
    "duration": 117134,
    "start_time": "2022-02-02T12:49:54.131Z"
   },
   {
    "duration": 117132,
    "start_time": "2022-02-02T12:49:54.134Z"
   },
   {
    "duration": 117129,
    "start_time": "2022-02-02T12:49:54.138Z"
   },
   {
    "duration": 117127,
    "start_time": "2022-02-02T12:49:54.141Z"
   },
   {
    "duration": 117125,
    "start_time": "2022-02-02T12:49:54.144Z"
   },
   {
    "duration": 117123,
    "start_time": "2022-02-02T12:49:54.147Z"
   },
   {
    "duration": 117122,
    "start_time": "2022-02-02T12:49:54.149Z"
   },
   {
    "duration": 117120,
    "start_time": "2022-02-02T12:49:54.152Z"
   },
   {
    "duration": 117118,
    "start_time": "2022-02-02T12:49:54.155Z"
   },
   {
    "duration": 117117,
    "start_time": "2022-02-02T12:49:54.157Z"
   },
   {
    "duration": 117115,
    "start_time": "2022-02-02T12:49:54.160Z"
   },
   {
    "duration": 117112,
    "start_time": "2022-02-02T12:49:54.163Z"
   },
   {
    "duration": 117111,
    "start_time": "2022-02-02T12:49:54.165Z"
   },
   {
    "duration": 117109,
    "start_time": "2022-02-02T12:49:54.168Z"
   },
   {
    "duration": 117107,
    "start_time": "2022-02-02T12:49:54.171Z"
   },
   {
    "duration": 117106,
    "start_time": "2022-02-02T12:49:54.173Z"
   },
   {
    "duration": 117104,
    "start_time": "2022-02-02T12:49:54.176Z"
   },
   {
    "duration": 117101,
    "start_time": "2022-02-02T12:49:54.179Z"
   },
   {
    "duration": 117099,
    "start_time": "2022-02-02T12:49:54.182Z"
   },
   {
    "duration": 117097,
    "start_time": "2022-02-02T12:49:54.185Z"
   },
   {
    "duration": 117096,
    "start_time": "2022-02-02T12:49:54.187Z"
   },
   {
    "duration": 117093,
    "start_time": "2022-02-02T12:49:54.190Z"
   },
   {
    "duration": 117091,
    "start_time": "2022-02-02T12:49:54.193Z"
   },
   {
    "duration": 117089,
    "start_time": "2022-02-02T12:49:54.196Z"
   },
   {
    "duration": 117088,
    "start_time": "2022-02-02T12:49:54.198Z"
   },
   {
    "duration": 117086,
    "start_time": "2022-02-02T12:49:54.201Z"
   },
   {
    "duration": 117083,
    "start_time": "2022-02-02T12:49:54.204Z"
   },
   {
    "duration": 117081,
    "start_time": "2022-02-02T12:49:54.207Z"
   },
   {
    "duration": 117080,
    "start_time": "2022-02-02T12:49:54.209Z"
   },
   {
    "duration": 117078,
    "start_time": "2022-02-02T12:49:54.212Z"
   },
   {
    "duration": 117076,
    "start_time": "2022-02-02T12:49:54.215Z"
   },
   {
    "duration": 117073,
    "start_time": "2022-02-02T12:49:54.218Z"
   },
   {
    "duration": 117072,
    "start_time": "2022-02-02T12:49:54.220Z"
   },
   {
    "duration": 117070,
    "start_time": "2022-02-02T12:49:54.223Z"
   },
   {
    "duration": 117069,
    "start_time": "2022-02-02T12:49:54.225Z"
   },
   {
    "duration": 365,
    "start_time": "2022-02-02T12:54:48.307Z"
   },
   {
    "duration": 13,
    "start_time": "2022-02-02T12:55:14.626Z"
   },
   {
    "duration": 276,
    "start_time": "2022-02-02T12:55:37.813Z"
   },
   {
    "duration": 291,
    "start_time": "2022-02-02T12:56:52.643Z"
   },
   {
    "duration": 300,
    "start_time": "2022-02-02T13:00:26.006Z"
   },
   {
    "duration": 281,
    "start_time": "2022-02-02T13:00:39.578Z"
   },
   {
    "duration": 268,
    "start_time": "2022-02-02T13:00:49.491Z"
   },
   {
    "duration": 315,
    "start_time": "2022-02-02T13:01:02.461Z"
   },
   {
    "duration": 291,
    "start_time": "2022-02-02T13:01:10.428Z"
   },
   {
    "duration": 257,
    "start_time": "2022-02-02T13:03:05.222Z"
   },
   {
    "duration": 268,
    "start_time": "2022-02-02T13:03:38.504Z"
   },
   {
    "duration": 272,
    "start_time": "2022-02-02T13:05:21.678Z"
   },
   {
    "duration": 415,
    "start_time": "2022-02-03T07:04:58.611Z"
   },
   {
    "duration": 917,
    "start_time": "2022-02-03T07:05:08.757Z"
   },
   {
    "duration": 558,
    "start_time": "2022-02-03T07:05:09.676Z"
   },
   {
    "duration": 21,
    "start_time": "2022-02-03T07:05:10.240Z"
   },
   {
    "duration": 11,
    "start_time": "2022-02-03T07:05:10.264Z"
   },
   {
    "duration": 8,
    "start_time": "2022-02-03T07:05:10.278Z"
   },
   {
    "duration": 12,
    "start_time": "2022-02-03T07:05:10.289Z"
   },
   {
    "duration": 75,
    "start_time": "2022-02-03T07:05:10.305Z"
   },
   {
    "duration": 449,
    "start_time": "2022-02-03T07:05:10.383Z"
   },
   {
    "duration": 446,
    "start_time": "2022-02-03T07:05:10.834Z"
   },
   {
    "duration": 13,
    "start_time": "2022-02-03T07:05:11.282Z"
   },
   {
    "duration": 465,
    "start_time": "2022-02-03T07:05:11.297Z"
   },
   {
    "duration": 28,
    "start_time": "2022-02-03T07:05:11.764Z"
   },
   {
    "duration": 38,
    "start_time": "2022-02-03T07:05:11.795Z"
   },
   {
    "duration": 500,
    "start_time": "2022-02-03T07:05:11.836Z"
   },
   {
    "duration": 25,
    "start_time": "2022-02-03T07:05:12.339Z"
   },
   {
    "duration": 20,
    "start_time": "2022-02-03T07:05:12.367Z"
   },
   {
    "duration": 13,
    "start_time": "2022-02-03T07:05:12.389Z"
   },
   {
    "duration": 23,
    "start_time": "2022-02-03T07:05:12.404Z"
   },
   {
    "duration": 42,
    "start_time": "2022-02-03T07:05:12.429Z"
   },
   {
    "duration": 465,
    "start_time": "2022-02-03T07:05:12.473Z"
   },
   {
    "duration": 36,
    "start_time": "2022-02-03T07:05:12.940Z"
   },
   {
    "duration": 31,
    "start_time": "2022-02-03T07:05:12.982Z"
   },
   {
    "duration": 453,
    "start_time": "2022-02-03T07:05:13.017Z"
   },
   {
    "duration": 14,
    "start_time": "2022-02-03T07:05:13.473Z"
   },
   {
    "duration": 10,
    "start_time": "2022-02-03T07:05:13.490Z"
   },
   {
    "duration": 7,
    "start_time": "2022-02-03T07:05:13.503Z"
   },
   {
    "duration": 4515,
    "start_time": "2022-02-03T07:05:13.512Z"
   },
   {
    "duration": 16,
    "start_time": "2022-02-03T07:05:18.030Z"
   },
   {
    "duration": 13,
    "start_time": "2022-02-03T07:05:18.060Z"
   },
   {
    "duration": 12,
    "start_time": "2022-02-03T07:05:18.075Z"
   },
   {
    "duration": 13,
    "start_time": "2022-02-03T07:05:18.090Z"
   },
   {
    "duration": 68,
    "start_time": "2022-02-03T07:05:18.105Z"
   },
   {
    "duration": 116,
    "start_time": "2022-02-03T07:05:18.175Z"
   },
   {
    "duration": 50,
    "start_time": "2022-02-03T07:05:18.293Z"
   },
   {
    "duration": 26,
    "start_time": "2022-02-03T07:05:18.346Z"
   },
   {
    "duration": 15,
    "start_time": "2022-02-03T07:05:18.375Z"
   },
   {
    "duration": 3,
    "start_time": "2022-02-03T07:05:18.393Z"
   },
   {
    "duration": 7,
    "start_time": "2022-02-03T07:05:18.398Z"
   },
   {
    "duration": 1513,
    "start_time": "2022-02-03T07:05:18.407Z"
   },
   {
    "duration": 118782,
    "start_time": "2022-02-03T07:03:21.141Z"
   },
   {
    "duration": 118780,
    "start_time": "2022-02-03T07:03:21.144Z"
   },
   {
    "duration": 118779,
    "start_time": "2022-02-03T07:03:21.147Z"
   },
   {
    "duration": 118778,
    "start_time": "2022-02-03T07:03:21.150Z"
   },
   {
    "duration": 118770,
    "start_time": "2022-02-03T07:03:21.160Z"
   },
   {
    "duration": 118769,
    "start_time": "2022-02-03T07:03:21.163Z"
   },
   {
    "duration": 118767,
    "start_time": "2022-02-03T07:03:21.166Z"
   },
   {
    "duration": 118766,
    "start_time": "2022-02-03T07:03:21.169Z"
   },
   {
    "duration": 118764,
    "start_time": "2022-02-03T07:03:21.172Z"
   },
   {
    "duration": 118762,
    "start_time": "2022-02-03T07:03:21.176Z"
   },
   {
    "duration": 118761,
    "start_time": "2022-02-03T07:03:21.179Z"
   },
   {
    "duration": 118753,
    "start_time": "2022-02-03T07:03:21.188Z"
   },
   {
    "duration": 118751,
    "start_time": "2022-02-03T07:03:21.192Z"
   },
   {
    "duration": 118749,
    "start_time": "2022-02-03T07:03:21.195Z"
   },
   {
    "duration": 118748,
    "start_time": "2022-02-03T07:03:21.198Z"
   },
   {
    "duration": 118746,
    "start_time": "2022-02-03T07:03:21.201Z"
   },
   {
    "duration": 118745,
    "start_time": "2022-02-03T07:03:21.204Z"
   },
   {
    "duration": 118744,
    "start_time": "2022-02-03T07:03:21.206Z"
   },
   {
    "duration": 118742,
    "start_time": "2022-02-03T07:03:21.210Z"
   },
   {
    "duration": 118740,
    "start_time": "2022-02-03T07:03:21.213Z"
   },
   {
    "duration": 118739,
    "start_time": "2022-02-03T07:03:21.216Z"
   },
   {
    "duration": 118737,
    "start_time": "2022-02-03T07:03:21.219Z"
   },
   {
    "duration": 118736,
    "start_time": "2022-02-03T07:03:21.222Z"
   },
   {
    "duration": 118735,
    "start_time": "2022-02-03T07:03:21.225Z"
   },
   {
    "duration": 118734,
    "start_time": "2022-02-03T07:03:21.228Z"
   },
   {
    "duration": 118732,
    "start_time": "2022-02-03T07:03:21.231Z"
   },
   {
    "duration": 118731,
    "start_time": "2022-02-03T07:03:21.233Z"
   },
   {
    "duration": 118730,
    "start_time": "2022-02-03T07:03:21.236Z"
   },
   {
    "duration": 118719,
    "start_time": "2022-02-03T07:03:21.248Z"
   },
   {
    "duration": 118713,
    "start_time": "2022-02-03T07:03:21.255Z"
   },
   {
    "duration": 118712,
    "start_time": "2022-02-03T07:03:21.258Z"
   },
   {
    "duration": 118709,
    "start_time": "2022-02-03T07:03:21.262Z"
   },
   {
    "duration": 118705,
    "start_time": "2022-02-03T07:03:21.267Z"
   },
   {
    "duration": 118704,
    "start_time": "2022-02-03T07:03:21.270Z"
   },
   {
    "duration": 118702,
    "start_time": "2022-02-03T07:03:21.273Z"
   },
   {
    "duration": 23,
    "start_time": "2022-02-03T07:14:25.919Z"
   },
   {
    "duration": 5,
    "start_time": "2022-02-03T07:14:28.298Z"
   },
   {
    "duration": 23,
    "start_time": "2022-02-03T07:14:31.874Z"
   },
   {
    "duration": 147,
    "start_time": "2022-02-03T07:17:46.620Z"
   },
   {
    "duration": 188,
    "start_time": "2022-02-03T07:17:55.532Z"
   },
   {
    "duration": 132,
    "start_time": "2022-02-03T07:18:03.875Z"
   },
   {
    "duration": 377,
    "start_time": "2022-02-03T07:19:10.101Z"
   },
   {
    "duration": 5436,
    "start_time": "2022-02-03T07:21:08.957Z"
   },
   {
    "duration": 904,
    "start_time": "2022-02-03T07:35:42.338Z"
   },
   {
    "duration": 857,
    "start_time": "2022-02-03T07:36:28.616Z"
   },
   {
    "duration": 376,
    "start_time": "2022-02-03T07:37:34.083Z"
   },
   {
    "duration": 378,
    "start_time": "2022-02-03T07:46:04.635Z"
   },
   {
    "duration": 365,
    "start_time": "2022-02-03T07:52:41.422Z"
   },
   {
    "duration": 10,
    "start_time": "2022-02-03T07:53:46.657Z"
   },
   {
    "duration": 10,
    "start_time": "2022-02-03T07:53:49.528Z"
   },
   {
    "duration": 901,
    "start_time": "2022-02-03T07:54:57.812Z"
   },
   {
    "duration": 527,
    "start_time": "2022-02-03T07:54:58.716Z"
   },
   {
    "duration": 22,
    "start_time": "2022-02-03T07:54:59.246Z"
   },
   {
    "duration": 10,
    "start_time": "2022-02-03T07:54:59.271Z"
   },
   {
    "duration": 8,
    "start_time": "2022-02-03T07:54:59.284Z"
   },
   {
    "duration": 13,
    "start_time": "2022-02-03T07:54:59.294Z"
   },
   {
    "duration": 70,
    "start_time": "2022-02-03T07:54:59.309Z"
   },
   {
    "duration": 453,
    "start_time": "2022-02-03T07:54:59.383Z"
   },
   {
    "duration": 471,
    "start_time": "2022-02-03T07:54:59.840Z"
   },
   {
    "duration": 14,
    "start_time": "2022-02-03T07:55:00.314Z"
   },
   {
    "duration": 477,
    "start_time": "2022-02-03T07:55:00.331Z"
   },
   {
    "duration": 29,
    "start_time": "2022-02-03T07:55:00.810Z"
   },
   {
    "duration": 55,
    "start_time": "2022-02-03T07:55:00.841Z"
   },
   {
    "duration": 650,
    "start_time": "2022-02-03T07:55:00.898Z"
   },
   {
    "duration": 11,
    "start_time": "2022-02-03T07:55:01.559Z"
   },
   {
    "duration": 23,
    "start_time": "2022-02-03T07:55:01.572Z"
   },
   {
    "duration": 13,
    "start_time": "2022-02-03T07:55:01.598Z"
   },
   {
    "duration": 58,
    "start_time": "2022-02-03T07:55:01.613Z"
   },
   {
    "duration": 14,
    "start_time": "2022-02-03T07:55:01.673Z"
   },
   {
    "duration": 461,
    "start_time": "2022-02-03T07:55:01.690Z"
   },
   {
    "duration": 29,
    "start_time": "2022-02-03T07:55:02.153Z"
   },
   {
    "duration": 30,
    "start_time": "2022-02-03T07:55:02.184Z"
   },
   {
    "duration": 475,
    "start_time": "2022-02-03T07:55:02.220Z"
   },
   {
    "duration": 13,
    "start_time": "2022-02-03T07:55:02.699Z"
   },
   {
    "duration": 11,
    "start_time": "2022-02-03T07:55:02.715Z"
   },
   {
    "duration": 30,
    "start_time": "2022-02-03T07:55:02.729Z"
   },
   {
    "duration": 4403,
    "start_time": "2022-02-03T07:55:02.761Z"
   },
   {
    "duration": 18,
    "start_time": "2022-02-03T07:55:07.166Z"
   },
   {
    "duration": 15,
    "start_time": "2022-02-03T07:55:07.187Z"
   },
   {
    "duration": 13,
    "start_time": "2022-02-03T07:55:07.204Z"
   },
   {
    "duration": 48,
    "start_time": "2022-02-03T07:55:07.219Z"
   },
   {
    "duration": 33,
    "start_time": "2022-02-03T07:55:07.270Z"
   },
   {
    "duration": 137,
    "start_time": "2022-02-03T07:55:07.306Z"
   },
   {
    "duration": 60,
    "start_time": "2022-02-03T07:55:07.446Z"
   },
   {
    "duration": 4153,
    "start_time": "2022-02-03T07:55:07.508Z"
   },
   {
    "duration": 13,
    "start_time": "2022-02-03T07:55:11.664Z"
   },
   {
    "duration": 12,
    "start_time": "2022-02-03T07:55:11.679Z"
   },
   {
    "duration": 14,
    "start_time": "2022-02-03T07:55:11.694Z"
   },
   {
    "duration": 76,
    "start_time": "2022-02-03T07:55:11.710Z"
   },
   {
    "duration": 3,
    "start_time": "2022-02-03T07:55:11.788Z"
   },
   {
    "duration": 6,
    "start_time": "2022-02-03T07:55:11.793Z"
   },
   {
    "duration": 1523,
    "start_time": "2022-02-03T07:55:11.801Z"
   },
   {
    "duration": 118793,
    "start_time": "2022-02-03T07:53:14.534Z"
   },
   {
    "duration": 118792,
    "start_time": "2022-02-03T07:53:14.537Z"
   },
   {
    "duration": 118788,
    "start_time": "2022-02-03T07:53:14.542Z"
   },
   {
    "duration": 118785,
    "start_time": "2022-02-03T07:53:14.547Z"
   },
   {
    "duration": 118783,
    "start_time": "2022-02-03T07:53:14.550Z"
   },
   {
    "duration": 118781,
    "start_time": "2022-02-03T07:53:14.553Z"
   },
   {
    "duration": 118780,
    "start_time": "2022-02-03T07:53:14.556Z"
   },
   {
    "duration": 118777,
    "start_time": "2022-02-03T07:53:14.560Z"
   },
   {
    "duration": 118767,
    "start_time": "2022-02-03T07:53:14.572Z"
   },
   {
    "duration": 118764,
    "start_time": "2022-02-03T07:53:14.576Z"
   },
   {
    "duration": 118761,
    "start_time": "2022-02-03T07:53:14.580Z"
   },
   {
    "duration": 118760,
    "start_time": "2022-02-03T07:53:14.583Z"
   },
   {
    "duration": 118758,
    "start_time": "2022-02-03T07:53:14.586Z"
   },
   {
    "duration": 118755,
    "start_time": "2022-02-03T07:53:14.590Z"
   },
   {
    "duration": 118754,
    "start_time": "2022-02-03T07:53:14.593Z"
   },
   {
    "duration": 118752,
    "start_time": "2022-02-03T07:53:14.596Z"
   },
   {
    "duration": 118750,
    "start_time": "2022-02-03T07:53:14.599Z"
   },
   {
    "duration": 118748,
    "start_time": "2022-02-03T07:53:14.603Z"
   },
   {
    "duration": 118746,
    "start_time": "2022-02-03T07:53:14.606Z"
   },
   {
    "duration": 118738,
    "start_time": "2022-02-03T07:53:14.616Z"
   },
   {
    "duration": 118736,
    "start_time": "2022-02-03T07:53:14.619Z"
   },
   {
    "duration": 118734,
    "start_time": "2022-02-03T07:53:14.623Z"
   },
   {
    "duration": 118731,
    "start_time": "2022-02-03T07:53:14.627Z"
   },
   {
    "duration": 118729,
    "start_time": "2022-02-03T07:53:14.630Z"
   },
   {
    "duration": 118728,
    "start_time": "2022-02-03T07:53:14.633Z"
   },
   {
    "duration": 118727,
    "start_time": "2022-02-03T07:53:14.636Z"
   },
   {
    "duration": 118725,
    "start_time": "2022-02-03T07:53:14.639Z"
   },
   {
    "duration": 118723,
    "start_time": "2022-02-03T07:53:14.643Z"
   },
   {
    "duration": 118721,
    "start_time": "2022-02-03T07:53:14.646Z"
   },
   {
    "duration": 118720,
    "start_time": "2022-02-03T07:53:14.649Z"
   },
   {
    "duration": 118718,
    "start_time": "2022-02-03T07:53:14.652Z"
   },
   {
    "duration": 118717,
    "start_time": "2022-02-03T07:53:14.655Z"
   },
   {
    "duration": 118715,
    "start_time": "2022-02-03T07:53:14.658Z"
   },
   {
    "duration": 118714,
    "start_time": "2022-02-03T07:53:14.661Z"
   },
   {
    "duration": 118713,
    "start_time": "2022-02-03T07:53:14.664Z"
   },
   {
    "duration": 14,
    "start_time": "2022-02-03T07:56:06.770Z"
   },
   {
    "duration": 22,
    "start_time": "2022-02-03T07:56:23.081Z"
   },
   {
    "duration": 895,
    "start_time": "2022-02-03T07:56:49.039Z"
   },
   {
    "duration": 533,
    "start_time": "2022-02-03T07:56:49.936Z"
   },
   {
    "duration": 21,
    "start_time": "2022-02-03T07:56:50.472Z"
   },
   {
    "duration": 11,
    "start_time": "2022-02-03T07:56:50.495Z"
   },
   {
    "duration": 8,
    "start_time": "2022-02-03T07:56:50.508Z"
   },
   {
    "duration": 41,
    "start_time": "2022-02-03T07:56:50.519Z"
   },
   {
    "duration": 30,
    "start_time": "2022-02-03T07:56:50.563Z"
   },
   {
    "duration": 465,
    "start_time": "2022-02-03T07:56:50.596Z"
   },
   {
    "duration": 461,
    "start_time": "2022-02-03T07:56:51.065Z"
   },
   {
    "duration": 31,
    "start_time": "2022-02-03T07:56:51.529Z"
   },
   {
    "duration": 452,
    "start_time": "2022-02-03T07:56:51.563Z"
   },
   {
    "duration": 28,
    "start_time": "2022-02-03T07:56:52.017Z"
   },
   {
    "duration": 40,
    "start_time": "2022-02-03T07:56:52.059Z"
   },
   {
    "duration": 484,
    "start_time": "2022-02-03T07:56:52.101Z"
   },
   {
    "duration": 11,
    "start_time": "2022-02-03T07:56:52.588Z"
   },
   {
    "duration": 18,
    "start_time": "2022-02-03T07:56:52.601Z"
   },
   {
    "duration": 41,
    "start_time": "2022-02-03T07:56:52.621Z"
   },
   {
    "duration": 22,
    "start_time": "2022-02-03T07:56:52.664Z"
   },
   {
    "duration": 12,
    "start_time": "2022-02-03T07:56:52.689Z"
   },
   {
    "duration": 449,
    "start_time": "2022-02-03T07:56:52.703Z"
   },
   {
    "duration": 26,
    "start_time": "2022-02-03T07:56:53.155Z"
   },
   {
    "duration": 30,
    "start_time": "2022-02-03T07:56:53.183Z"
   },
   {
    "duration": 463,
    "start_time": "2022-02-03T07:56:53.219Z"
   },
   {
    "duration": 12,
    "start_time": "2022-02-03T07:56:53.686Z"
   },
   {
    "duration": 9,
    "start_time": "2022-02-03T07:56:53.700Z"
   },
   {
    "duration": 6,
    "start_time": "2022-02-03T07:56:53.712Z"
   },
   {
    "duration": 4454,
    "start_time": "2022-02-03T07:56:53.720Z"
   },
   {
    "duration": 18,
    "start_time": "2022-02-03T07:56:58.176Z"
   },
   {
    "duration": 16,
    "start_time": "2022-02-03T07:56:58.197Z"
   },
   {
    "duration": 50,
    "start_time": "2022-02-03T07:56:58.216Z"
   },
   {
    "duration": 16,
    "start_time": "2022-02-03T07:56:58.270Z"
   },
   {
    "duration": 42,
    "start_time": "2022-02-03T07:56:58.289Z"
   },
   {
    "duration": 115,
    "start_time": "2022-02-03T07:56:58.358Z"
   },
   {
    "duration": 52,
    "start_time": "2022-02-03T07:56:58.475Z"
   },
   {
    "duration": 4404,
    "start_time": "2022-02-03T07:56:58.530Z"
   },
   {
    "duration": 11,
    "start_time": "2022-02-03T07:57:02.936Z"
   },
   {
    "duration": 9,
    "start_time": "2022-02-03T07:57:02.959Z"
   },
   {
    "duration": 12,
    "start_time": "2022-02-03T07:57:02.970Z"
   },
   {
    "duration": 3,
    "start_time": "2022-02-03T07:57:02.984Z"
   },
   {
    "duration": 6,
    "start_time": "2022-02-03T07:57:02.989Z"
   },
   {
    "duration": 2217,
    "start_time": "2022-02-03T07:57:02.997Z"
   },
   {
    "duration": 118799,
    "start_time": "2022-02-03T07:55:06.419Z"
   },
   {
    "duration": 118796,
    "start_time": "2022-02-03T07:55:06.423Z"
   },
   {
    "duration": 118794,
    "start_time": "2022-02-03T07:55:06.427Z"
   },
   {
    "duration": 118790,
    "start_time": "2022-02-03T07:55:06.432Z"
   },
   {
    "duration": 118779,
    "start_time": "2022-02-03T07:55:06.444Z"
   },
   {
    "duration": 118775,
    "start_time": "2022-02-03T07:55:06.450Z"
   },
   {
    "duration": 118772,
    "start_time": "2022-02-03T07:55:06.454Z"
   },
   {
    "duration": 118768,
    "start_time": "2022-02-03T07:55:06.459Z"
   },
   {
    "duration": 118767,
    "start_time": "2022-02-03T07:55:06.462Z"
   },
   {
    "duration": 118763,
    "start_time": "2022-02-03T07:55:06.467Z"
   },
   {
    "duration": 118760,
    "start_time": "2022-02-03T07:55:06.471Z"
   },
   {
    "duration": 118757,
    "start_time": "2022-02-03T07:55:06.476Z"
   },
   {
    "duration": 118747,
    "start_time": "2022-02-03T07:55:06.487Z"
   },
   {
    "duration": 118743,
    "start_time": "2022-02-03T07:55:06.492Z"
   },
   {
    "duration": 118741,
    "start_time": "2022-02-03T07:55:06.495Z"
   },
   {
    "duration": 118737,
    "start_time": "2022-02-03T07:55:06.501Z"
   },
   {
    "duration": 118734,
    "start_time": "2022-02-03T07:55:06.505Z"
   },
   {
    "duration": 118732,
    "start_time": "2022-02-03T07:55:06.509Z"
   },
   {
    "duration": 118730,
    "start_time": "2022-02-03T07:55:06.513Z"
   },
   {
    "duration": 118727,
    "start_time": "2022-02-03T07:55:06.517Z"
   },
   {
    "duration": 118725,
    "start_time": "2022-02-03T07:55:06.521Z"
   },
   {
    "duration": 118723,
    "start_time": "2022-02-03T07:55:06.525Z"
   },
   {
    "duration": 118721,
    "start_time": "2022-02-03T07:55:06.528Z"
   },
   {
    "duration": 118718,
    "start_time": "2022-02-03T07:55:06.532Z"
   },
   {
    "duration": 118716,
    "start_time": "2022-02-03T07:55:06.536Z"
   },
   {
    "duration": 118713,
    "start_time": "2022-02-03T07:55:06.540Z"
   },
   {
    "duration": 118710,
    "start_time": "2022-02-03T07:55:06.544Z"
   },
   {
    "duration": 118711,
    "start_time": "2022-02-03T07:55:06.548Z"
   },
   {
    "duration": 118710,
    "start_time": "2022-02-03T07:55:06.551Z"
   },
   {
    "duration": 118699,
    "start_time": "2022-02-03T07:55:06.563Z"
   },
   {
    "duration": 118697,
    "start_time": "2022-02-03T07:55:06.567Z"
   },
   {
    "duration": 118693,
    "start_time": "2022-02-03T07:55:06.572Z"
   },
   {
    "duration": 118691,
    "start_time": "2022-02-03T07:55:06.575Z"
   },
   {
    "duration": 118689,
    "start_time": "2022-02-03T07:55:06.579Z"
   },
   {
    "duration": 118686,
    "start_time": "2022-02-03T07:55:06.583Z"
   },
   {
    "duration": 14,
    "start_time": "2022-02-03T08:03:36.300Z"
   },
   {
    "duration": 29,
    "start_time": "2022-02-03T08:04:05.635Z"
   },
   {
    "duration": 350,
    "start_time": "2022-02-03T08:04:19.651Z"
   },
   {
    "duration": 36,
    "start_time": "2022-02-03T08:04:43.052Z"
   },
   {
    "duration": 17,
    "start_time": "2022-02-03T08:18:24.705Z"
   },
   {
    "duration": 13,
    "start_time": "2022-02-03T08:18:35.593Z"
   },
   {
    "duration": 835,
    "start_time": "2022-02-03T08:18:46.698Z"
   },
   {
    "duration": 519,
    "start_time": "2022-02-03T08:18:47.536Z"
   },
   {
    "duration": 20,
    "start_time": "2022-02-03T08:18:48.058Z"
   },
   {
    "duration": 12,
    "start_time": "2022-02-03T08:18:48.081Z"
   },
   {
    "duration": 8,
    "start_time": "2022-02-03T08:18:48.095Z"
   },
   {
    "duration": 12,
    "start_time": "2022-02-03T08:18:48.105Z"
   },
   {
    "duration": 65,
    "start_time": "2022-02-03T08:18:48.119Z"
   },
   {
    "duration": 461,
    "start_time": "2022-02-03T08:18:48.187Z"
   },
   {
    "duration": 449,
    "start_time": "2022-02-03T08:18:48.651Z"
   },
   {
    "duration": 13,
    "start_time": "2022-02-03T08:18:49.102Z"
   },
   {
    "duration": 472,
    "start_time": "2022-02-03T08:18:49.117Z"
   },
   {
    "duration": 29,
    "start_time": "2022-02-03T08:18:49.592Z"
   },
   {
    "duration": 63,
    "start_time": "2022-02-03T08:18:49.624Z"
   },
   {
    "duration": 486,
    "start_time": "2022-02-03T08:18:49.689Z"
   },
   {
    "duration": 11,
    "start_time": "2022-02-03T08:18:50.178Z"
   },
   {
    "duration": 21,
    "start_time": "2022-02-03T08:18:50.192Z"
   },
   {
    "duration": 13,
    "start_time": "2022-02-03T08:18:50.215Z"
   },
   {
    "duration": 21,
    "start_time": "2022-02-03T08:18:50.260Z"
   },
   {
    "duration": 14,
    "start_time": "2022-02-03T08:18:50.284Z"
   },
   {
    "duration": 470,
    "start_time": "2022-02-03T08:18:50.301Z"
   },
   {
    "duration": 27,
    "start_time": "2022-02-03T08:18:50.774Z"
   },
   {
    "duration": 31,
    "start_time": "2022-02-03T08:18:50.803Z"
   },
   {
    "duration": 454,
    "start_time": "2022-02-03T08:18:50.863Z"
   },
   {
    "duration": 11,
    "start_time": "2022-02-03T08:18:51.320Z"
   },
   {
    "duration": 26,
    "start_time": "2022-02-03T08:18:51.334Z"
   },
   {
    "duration": 9,
    "start_time": "2022-02-03T08:18:51.362Z"
   },
   {
    "duration": 4453,
    "start_time": "2022-02-03T08:18:51.373Z"
   },
   {
    "duration": 17,
    "start_time": "2022-02-03T08:18:55.828Z"
   },
   {
    "duration": 14,
    "start_time": "2022-02-03T08:18:55.859Z"
   },
   {
    "duration": 12,
    "start_time": "2022-02-03T08:18:55.875Z"
   },
   {
    "duration": 14,
    "start_time": "2022-02-03T08:18:55.889Z"
   },
   {
    "duration": 81,
    "start_time": "2022-02-03T08:18:55.906Z"
   },
   {
    "duration": 124,
    "start_time": "2022-02-03T08:18:55.989Z"
   },
   {
    "duration": 62,
    "start_time": "2022-02-03T08:18:56.115Z"
   },
   {
    "duration": 3,
    "start_time": "2022-02-03T08:18:56.180Z"
   },
   {
    "duration": 23,
    "start_time": "2022-02-03T08:18:56.186Z"
   },
   {
    "duration": 49,
    "start_time": "2022-02-03T08:18:56.212Z"
   },
   {
    "duration": 45,
    "start_time": "2022-02-03T08:18:56.264Z"
   },
   {
    "duration": 3,
    "start_time": "2022-02-03T08:18:56.311Z"
   },
   {
    "duration": 8,
    "start_time": "2022-02-03T08:18:56.316Z"
   },
   {
    "duration": 1597,
    "start_time": "2022-02-03T08:18:56.326Z"
   },
   {
    "duration": 118799,
    "start_time": "2022-02-03T08:16:59.128Z"
   },
   {
    "duration": 118791,
    "start_time": "2022-02-03T08:16:59.138Z"
   },
   {
    "duration": 118790,
    "start_time": "2022-02-03T08:16:59.141Z"
   },
   {
    "duration": 118789,
    "start_time": "2022-02-03T08:16:59.144Z"
   },
   {
    "duration": 118780,
    "start_time": "2022-02-03T08:16:59.155Z"
   },
   {
    "duration": 118779,
    "start_time": "2022-02-03T08:16:59.157Z"
   },
   {
    "duration": 118776,
    "start_time": "2022-02-03T08:16:59.162Z"
   },
   {
    "duration": 118769,
    "start_time": "2022-02-03T08:16:59.170Z"
   },
   {
    "duration": 118766,
    "start_time": "2022-02-03T08:16:59.174Z"
   },
   {
    "duration": 118764,
    "start_time": "2022-02-03T08:16:59.177Z"
   },
   {
    "duration": 118757,
    "start_time": "2022-02-03T08:16:59.186Z"
   },
   {
    "duration": 118755,
    "start_time": "2022-02-03T08:16:59.190Z"
   },
   {
    "duration": 118753,
    "start_time": "2022-02-03T08:16:59.193Z"
   },
   {
    "duration": 118752,
    "start_time": "2022-02-03T08:16:59.196Z"
   },
   {
    "duration": 118745,
    "start_time": "2022-02-03T08:16:59.204Z"
   },
   {
    "duration": 118743,
    "start_time": "2022-02-03T08:16:59.207Z"
   },
   {
    "duration": 118741,
    "start_time": "2022-02-03T08:16:59.211Z"
   },
   {
    "duration": 118734,
    "start_time": "2022-02-03T08:16:59.219Z"
   },
   {
    "duration": 118732,
    "start_time": "2022-02-03T08:16:59.222Z"
   },
   {
    "duration": 118731,
    "start_time": "2022-02-03T08:16:59.225Z"
   },
   {
    "duration": 118729,
    "start_time": "2022-02-03T08:16:59.228Z"
   },
   {
    "duration": 118728,
    "start_time": "2022-02-03T08:16:59.231Z"
   },
   {
    "duration": 118726,
    "start_time": "2022-02-03T08:16:59.234Z"
   },
   {
    "duration": 118723,
    "start_time": "2022-02-03T08:16:59.238Z"
   },
   {
    "duration": 118721,
    "start_time": "2022-02-03T08:16:59.242Z"
   },
   {
    "duration": 118720,
    "start_time": "2022-02-03T08:16:59.245Z"
   },
   {
    "duration": 118718,
    "start_time": "2022-02-03T08:16:59.248Z"
   },
   {
    "duration": 118717,
    "start_time": "2022-02-03T08:16:59.251Z"
   },
   {
    "duration": 118715,
    "start_time": "2022-02-03T08:16:59.254Z"
   },
   {
    "duration": 118714,
    "start_time": "2022-02-03T08:16:59.257Z"
   },
   {
    "duration": 118714,
    "start_time": "2022-02-03T08:16:59.259Z"
   },
   {
    "duration": 118711,
    "start_time": "2022-02-03T08:16:59.263Z"
   },
   {
    "duration": 118710,
    "start_time": "2022-02-03T08:16:59.266Z"
   },
   {
    "duration": 118693,
    "start_time": "2022-02-03T08:16:59.284Z"
   },
   {
    "duration": 118691,
    "start_time": "2022-02-03T08:16:59.287Z"
   },
   {
    "duration": 131,
    "start_time": "2022-02-03T08:26:12.268Z"
   },
   {
    "duration": 43,
    "start_time": "2022-02-03T08:26:18.083Z"
   },
   {
    "duration": 48,
    "start_time": "2022-02-03T08:27:03.315Z"
   },
   {
    "duration": 369,
    "start_time": "2022-02-03T08:31:46.806Z"
   },
   {
    "duration": 354,
    "start_time": "2022-02-03T08:32:01.829Z"
   },
   {
    "duration": 737,
    "start_time": "2022-02-03T08:36:01.686Z"
   },
   {
    "duration": 521,
    "start_time": "2022-02-03T08:36:31.303Z"
   },
   {
    "duration": 2219,
    "start_time": "2022-02-03T08:36:36.047Z"
   },
   {
    "duration": 390,
    "start_time": "2022-02-03T08:37:10.271Z"
   },
   {
    "duration": 12,
    "start_time": "2022-02-03T08:39:00.255Z"
   },
   {
    "duration": 891,
    "start_time": "2022-02-03T08:39:08.619Z"
   },
   {
    "duration": 532,
    "start_time": "2022-02-03T08:39:09.513Z"
   },
   {
    "duration": 20,
    "start_time": "2022-02-03T08:39:10.051Z"
   },
   {
    "duration": 12,
    "start_time": "2022-02-03T08:39:10.073Z"
   },
   {
    "duration": 8,
    "start_time": "2022-02-03T08:39:10.087Z"
   },
   {
    "duration": 12,
    "start_time": "2022-02-03T08:39:10.097Z"
   },
   {
    "duration": 66,
    "start_time": "2022-02-03T08:39:10.113Z"
   },
   {
    "duration": 450,
    "start_time": "2022-02-03T08:39:10.182Z"
   },
   {
    "duration": 466,
    "start_time": "2022-02-03T08:39:10.634Z"
   },
   {
    "duration": 13,
    "start_time": "2022-02-03T08:39:11.102Z"
   },
   {
    "duration": 464,
    "start_time": "2022-02-03T08:39:11.117Z"
   },
   {
    "duration": 29,
    "start_time": "2022-02-03T08:39:11.583Z"
   },
   {
    "duration": 63,
    "start_time": "2022-02-03T08:39:11.614Z"
   },
   {
    "duration": 581,
    "start_time": "2022-02-03T08:39:11.680Z"
   },
   {
    "duration": 11,
    "start_time": "2022-02-03T08:39:12.264Z"
   },
   {
    "duration": 20,
    "start_time": "2022-02-03T08:39:12.278Z"
   },
   {
    "duration": 12,
    "start_time": "2022-02-03T08:39:12.300Z"
   },
   {
    "duration": 59,
    "start_time": "2022-02-03T08:39:12.315Z"
   },
   {
    "duration": 14,
    "start_time": "2022-02-03T08:39:12.376Z"
   },
   {
    "duration": 450,
    "start_time": "2022-02-03T08:39:12.392Z"
   },
   {
    "duration": 40,
    "start_time": "2022-02-03T08:39:12.845Z"
   },
   {
    "duration": 31,
    "start_time": "2022-02-03T08:39:12.892Z"
   },
   {
    "duration": 464,
    "start_time": "2022-02-03T08:39:12.927Z"
   },
   {
    "duration": 12,
    "start_time": "2022-02-03T08:39:13.393Z"
   },
   {
    "duration": 14,
    "start_time": "2022-02-03T08:39:13.407Z"
   },
   {
    "duration": 7,
    "start_time": "2022-02-03T08:39:13.424Z"
   },
   {
    "duration": 4648,
    "start_time": "2022-02-03T08:39:13.433Z"
   },
   {
    "duration": 16,
    "start_time": "2022-02-03T08:39:18.083Z"
   },
   {
    "duration": 18,
    "start_time": "2022-02-03T08:39:18.101Z"
   },
   {
    "duration": 39,
    "start_time": "2022-02-03T08:39:18.122Z"
   },
   {
    "duration": 15,
    "start_time": "2022-02-03T08:39:18.163Z"
   },
   {
    "duration": 38,
    "start_time": "2022-02-03T08:39:18.180Z"
   },
   {
    "duration": 142,
    "start_time": "2022-02-03T08:39:18.220Z"
   },
   {
    "duration": 53,
    "start_time": "2022-02-03T08:39:18.365Z"
   },
   {
    "duration": 3,
    "start_time": "2022-02-03T08:39:18.420Z"
   },
   {
    "duration": 40,
    "start_time": "2022-02-03T08:39:18.425Z"
   },
   {
    "duration": 14,
    "start_time": "2022-02-03T08:39:18.467Z"
   },
   {
    "duration": 3,
    "start_time": "2022-02-03T08:39:18.483Z"
   },
   {
    "duration": 12,
    "start_time": "2022-02-03T08:39:18.489Z"
   },
   {
    "duration": 3,
    "start_time": "2022-02-03T08:39:18.504Z"
   },
   {
    "duration": 4,
    "start_time": "2022-02-03T08:39:18.509Z"
   },
   {
    "duration": 1753,
    "start_time": "2022-02-03T08:39:18.515Z"
   },
   {
    "duration": 118808,
    "start_time": "2022-02-03T08:37:21.463Z"
   },
   {
    "duration": 118806,
    "start_time": "2022-02-03T08:37:21.467Z"
   },
   {
    "duration": 118796,
    "start_time": "2022-02-03T08:37:21.478Z"
   },
   {
    "duration": 118796,
    "start_time": "2022-02-03T08:37:21.480Z"
   },
   {
    "duration": 118794,
    "start_time": "2022-02-03T08:37:21.483Z"
   },
   {
    "duration": 118786,
    "start_time": "2022-02-03T08:37:21.493Z"
   },
   {
    "duration": 118785,
    "start_time": "2022-02-03T08:37:21.496Z"
   },
   {
    "duration": 118783,
    "start_time": "2022-02-03T08:37:21.499Z"
   },
   {
    "duration": 118780,
    "start_time": "2022-02-03T08:37:21.504Z"
   },
   {
    "duration": 118774,
    "start_time": "2022-02-03T08:37:21.511Z"
   },
   {
    "duration": 118773,
    "start_time": "2022-02-03T08:37:21.514Z"
   },
   {
    "duration": 118771,
    "start_time": "2022-02-03T08:37:21.517Z"
   },
   {
    "duration": 118764,
    "start_time": "2022-02-03T08:37:21.526Z"
   },
   {
    "duration": 118762,
    "start_time": "2022-02-03T08:37:21.529Z"
   },
   {
    "duration": 118761,
    "start_time": "2022-02-03T08:37:21.532Z"
   },
   {
    "duration": 118758,
    "start_time": "2022-02-03T08:37:21.536Z"
   },
   {
    "duration": 118752,
    "start_time": "2022-02-03T08:37:21.544Z"
   },
   {
    "duration": 118750,
    "start_time": "2022-02-03T08:37:21.547Z"
   },
   {
    "duration": 118746,
    "start_time": "2022-02-03T08:37:21.553Z"
   },
   {
    "duration": 118744,
    "start_time": "2022-02-03T08:37:21.557Z"
   },
   {
    "duration": 118741,
    "start_time": "2022-02-03T08:37:21.561Z"
   },
   {
    "duration": 118740,
    "start_time": "2022-02-03T08:37:21.564Z"
   },
   {
    "duration": 118738,
    "start_time": "2022-02-03T08:37:21.567Z"
   },
   {
    "duration": 118782,
    "start_time": "2022-02-03T08:37:21.576Z"
   },
   {
    "duration": 118775,
    "start_time": "2022-02-03T08:37:21.585Z"
   },
   {
    "duration": 118772,
    "start_time": "2022-02-03T08:37:21.589Z"
   },
   {
    "duration": 118772,
    "start_time": "2022-02-03T08:37:21.592Z"
   },
   {
    "duration": 118770,
    "start_time": "2022-02-03T08:37:21.595Z"
   },
   {
    "duration": 118765,
    "start_time": "2022-02-03T08:37:21.602Z"
   },
   {
    "duration": 118759,
    "start_time": "2022-02-03T08:37:21.609Z"
   },
   {
    "duration": 118756,
    "start_time": "2022-02-03T08:37:21.614Z"
   },
   {
    "duration": 118754,
    "start_time": "2022-02-03T08:37:21.617Z"
   },
   {
    "duration": 118747,
    "start_time": "2022-02-03T08:37:21.626Z"
   },
   {
    "duration": 118744,
    "start_time": "2022-02-03T08:37:21.630Z"
   },
   {
    "duration": 118743,
    "start_time": "2022-02-03T08:37:21.633Z"
   },
   {
    "duration": 383,
    "start_time": "2022-02-03T08:39:44.764Z"
   },
   {
    "duration": 17,
    "start_time": "2022-02-03T08:39:50.699Z"
   },
   {
    "duration": 12,
    "start_time": "2022-02-03T08:42:01.956Z"
   },
   {
    "duration": 18,
    "start_time": "2022-02-03T08:42:03.332Z"
   },
   {
    "duration": 1458,
    "start_time": "2022-02-03T08:42:06.517Z"
   },
   {
    "duration": 1788,
    "start_time": "2022-02-03T08:45:00.886Z"
   },
   {
    "duration": 12,
    "start_time": "2022-02-03T08:46:11.114Z"
   },
   {
    "duration": 20,
    "start_time": "2022-02-03T08:46:13.990Z"
   },
   {
    "duration": 30,
    "start_time": "2022-02-03T08:46:29.912Z"
   },
   {
    "duration": 23,
    "start_time": "2022-02-03T08:46:31.654Z"
   },
   {
    "duration": 14,
    "start_time": "2022-02-03T08:46:40.670Z"
   },
   {
    "duration": 26,
    "start_time": "2022-02-03T08:51:14.560Z"
   },
   {
    "duration": 15,
    "start_time": "2022-02-03T08:51:20.928Z"
   },
   {
    "duration": 27,
    "start_time": "2022-02-03T08:51:21.560Z"
   },
   {
    "duration": 372,
    "start_time": "2022-02-03T08:51:40.712Z"
   },
   {
    "duration": 27,
    "start_time": "2022-02-03T08:51:41.376Z"
   },
   {
    "duration": 51,
    "start_time": "2022-02-03T08:51:54.368Z"
   },
   {
    "duration": 49,
    "start_time": "2022-02-03T08:52:25.753Z"
   },
   {
    "duration": 50,
    "start_time": "2022-02-03T08:52:33.161Z"
   },
   {
    "duration": 363,
    "start_time": "2022-02-03T08:54:11.247Z"
   },
   {
    "duration": 51,
    "start_time": "2022-02-03T08:54:19.081Z"
   },
   {
    "duration": 369,
    "start_time": "2022-02-03T08:54:24.066Z"
   },
   {
    "duration": 49,
    "start_time": "2022-02-03T08:54:32.770Z"
   },
   {
    "duration": 55,
    "start_time": "2022-02-03T08:54:38.433Z"
   },
   {
    "duration": 871,
    "start_time": "2022-02-03T08:54:52.190Z"
   },
   {
    "duration": 530,
    "start_time": "2022-02-03T08:54:53.064Z"
   },
   {
    "duration": 19,
    "start_time": "2022-02-03T08:54:53.600Z"
   },
   {
    "duration": 10,
    "start_time": "2022-02-03T08:54:53.622Z"
   },
   {
    "duration": 25,
    "start_time": "2022-02-03T08:54:53.634Z"
   },
   {
    "duration": 12,
    "start_time": "2022-02-03T08:54:53.661Z"
   },
   {
    "duration": 27,
    "start_time": "2022-02-03T08:54:53.676Z"
   },
   {
    "duration": 473,
    "start_time": "2022-02-03T08:54:53.706Z"
   },
   {
    "duration": 451,
    "start_time": "2022-02-03T08:54:54.182Z"
   },
   {
    "duration": 27,
    "start_time": "2022-02-03T08:54:54.636Z"
   },
   {
    "duration": 474,
    "start_time": "2022-02-03T08:54:54.666Z"
   },
   {
    "duration": 34,
    "start_time": "2022-02-03T08:54:55.143Z"
   },
   {
    "duration": 43,
    "start_time": "2022-02-03T08:54:55.180Z"
   },
   {
    "duration": 503,
    "start_time": "2022-02-03T08:54:55.226Z"
   },
   {
    "duration": 27,
    "start_time": "2022-02-03T08:54:55.732Z"
   },
   {
    "duration": 21,
    "start_time": "2022-02-03T08:54:55.762Z"
   },
   {
    "duration": 14,
    "start_time": "2022-02-03T08:54:55.786Z"
   },
   {
    "duration": 21,
    "start_time": "2022-02-03T08:54:55.802Z"
   },
   {
    "duration": 13,
    "start_time": "2022-02-03T08:54:55.859Z"
   },
   {
    "duration": 443,
    "start_time": "2022-02-03T08:54:55.874Z"
   },
   {
    "duration": 40,
    "start_time": "2022-02-03T08:54:56.320Z"
   },
   {
    "duration": 31,
    "start_time": "2022-02-03T08:54:56.367Z"
   },
   {
    "duration": 457,
    "start_time": "2022-02-03T08:54:56.402Z"
   },
   {
    "duration": 12,
    "start_time": "2022-02-03T08:54:56.861Z"
   },
   {
    "duration": 9,
    "start_time": "2022-02-03T08:54:56.876Z"
   },
   {
    "duration": 8,
    "start_time": "2022-02-03T08:54:56.887Z"
   },
   {
    "duration": 4478,
    "start_time": "2022-02-03T08:54:56.897Z"
   },
   {
    "duration": 18,
    "start_time": "2022-02-03T08:55:01.377Z"
   },
   {
    "duration": 18,
    "start_time": "2022-02-03T08:55:01.398Z"
   },
   {
    "duration": 45,
    "start_time": "2022-02-03T08:55:01.419Z"
   },
   {
    "duration": 29,
    "start_time": "2022-02-03T08:55:01.467Z"
   },
   {
    "duration": 45,
    "start_time": "2022-02-03T08:55:01.499Z"
   },
   {
    "duration": 140,
    "start_time": "2022-02-03T08:55:01.546Z"
   },
   {
    "duration": 71,
    "start_time": "2022-02-03T08:55:01.688Z"
   },
   {
    "duration": 4,
    "start_time": "2022-02-03T08:55:01.762Z"
   },
   {
    "duration": 22,
    "start_time": "2022-02-03T08:55:01.769Z"
   },
   {
    "duration": 19,
    "start_time": "2022-02-03T08:55:01.794Z"
   },
   {
    "duration": 21,
    "start_time": "2022-02-03T08:55:01.816Z"
   },
   {
    "duration": 49,
    "start_time": "2022-02-03T08:55:01.839Z"
   },
   {
    "duration": 18,
    "start_time": "2022-02-03T08:55:01.890Z"
   },
   {
    "duration": 12,
    "start_time": "2022-02-03T08:55:01.910Z"
   },
   {
    "duration": 1810,
    "start_time": "2022-02-03T08:55:01.925Z"
   },
   {
    "duration": 118816,
    "start_time": "2022-02-03T08:53:04.922Z"
   },
   {
    "duration": 118814,
    "start_time": "2022-02-03T08:53:04.926Z"
   },
   {
    "duration": 118803,
    "start_time": "2022-02-03T08:53:04.938Z"
   },
   {
    "duration": 118801,
    "start_time": "2022-02-03T08:53:04.941Z"
   },
   {
    "duration": 118797,
    "start_time": "2022-02-03T08:53:04.947Z"
   },
   {
    "duration": 118787,
    "start_time": "2022-02-03T08:53:04.958Z"
   },
   {
    "duration": 118783,
    "start_time": "2022-02-03T08:53:04.964Z"
   },
   {
    "duration": 118774,
    "start_time": "2022-02-03T08:53:04.974Z"
   },
   {
    "duration": 118768,
    "start_time": "2022-02-03T08:53:04.981Z"
   },
   {
    "duration": 118758,
    "start_time": "2022-02-03T08:53:04.992Z"
   },
   {
    "duration": 118753,
    "start_time": "2022-02-03T08:53:04.998Z"
   },
   {
    "duration": 118745,
    "start_time": "2022-02-03T08:53:05.008Z"
   },
   {
    "duration": 118740,
    "start_time": "2022-02-03T08:53:05.014Z"
   },
   {
    "duration": 118732,
    "start_time": "2022-02-03T08:53:05.024Z"
   },
   {
    "duration": 118726,
    "start_time": "2022-02-03T08:53:05.031Z"
   },
   {
    "duration": 118718,
    "start_time": "2022-02-03T08:53:05.040Z"
   },
   {
    "duration": 118713,
    "start_time": "2022-02-03T08:53:05.047Z"
   },
   {
    "duration": 118704,
    "start_time": "2022-02-03T08:53:05.057Z"
   },
   {
    "duration": 118698,
    "start_time": "2022-02-03T08:53:05.064Z"
   },
   {
    "duration": 118691,
    "start_time": "2022-02-03T08:53:05.073Z"
   },
   {
    "duration": 118689,
    "start_time": "2022-02-03T08:53:05.076Z"
   },
   {
    "duration": 118686,
    "start_time": "2022-02-03T08:53:05.081Z"
   },
   {
    "duration": 118683,
    "start_time": "2022-02-03T08:53:05.085Z"
   },
   {
    "duration": 118682,
    "start_time": "2022-02-03T08:53:05.088Z"
   },
   {
    "duration": 118681,
    "start_time": "2022-02-03T08:53:05.091Z"
   },
   {
    "duration": 118680,
    "start_time": "2022-02-03T08:53:05.093Z"
   },
   {
    "duration": 118677,
    "start_time": "2022-02-03T08:53:05.098Z"
   },
   {
    "duration": 118675,
    "start_time": "2022-02-03T08:53:05.101Z"
   },
   {
    "duration": 118674,
    "start_time": "2022-02-03T08:53:05.104Z"
   },
   {
    "duration": 118672,
    "start_time": "2022-02-03T08:53:05.107Z"
   },
   {
    "duration": 118671,
    "start_time": "2022-02-03T08:53:05.110Z"
   },
   {
    "duration": 118665,
    "start_time": "2022-02-03T08:53:05.118Z"
   },
   {
    "duration": 118663,
    "start_time": "2022-02-03T08:53:05.121Z"
   },
   {
    "duration": 118654,
    "start_time": "2022-02-03T08:53:05.132Z"
   },
   {
    "duration": 118650,
    "start_time": "2022-02-03T08:53:05.137Z"
   },
   {
    "duration": 38,
    "start_time": "2022-02-03T08:55:37.287Z"
   },
   {
    "duration": 928,
    "start_time": "2022-02-03T08:55:42.253Z"
   },
   {
    "duration": 526,
    "start_time": "2022-02-03T08:55:43.184Z"
   },
   {
    "duration": 22,
    "start_time": "2022-02-03T08:55:43.718Z"
   },
   {
    "duration": 23,
    "start_time": "2022-02-03T08:55:43.743Z"
   },
   {
    "duration": 8,
    "start_time": "2022-02-03T08:55:43.769Z"
   },
   {
    "duration": 13,
    "start_time": "2022-02-03T08:55:43.779Z"
   },
   {
    "duration": 65,
    "start_time": "2022-02-03T08:55:43.796Z"
   },
   {
    "duration": 440,
    "start_time": "2022-02-03T08:55:43.863Z"
   },
   {
    "duration": 450,
    "start_time": "2022-02-03T08:55:44.305Z"
   },
   {
    "duration": 13,
    "start_time": "2022-02-03T08:55:44.760Z"
   },
   {
    "duration": 467,
    "start_time": "2022-02-03T08:55:44.775Z"
   },
   {
    "duration": 32,
    "start_time": "2022-02-03T08:55:45.245Z"
   },
   {
    "duration": 43,
    "start_time": "2022-02-03T08:55:45.279Z"
   },
   {
    "duration": 530,
    "start_time": "2022-02-03T08:55:45.324Z"
   },
   {
    "duration": 12,
    "start_time": "2022-02-03T08:55:45.856Z"
   },
   {
    "duration": 26,
    "start_time": "2022-02-03T08:55:45.871Z"
   },
   {
    "duration": 12,
    "start_time": "2022-02-03T08:55:45.899Z"
   },
   {
    "duration": 60,
    "start_time": "2022-02-03T08:55:45.915Z"
   },
   {
    "duration": 16,
    "start_time": "2022-02-03T08:55:45.978Z"
   },
   {
    "duration": 488,
    "start_time": "2022-02-03T08:55:45.997Z"
   },
   {
    "duration": 23,
    "start_time": "2022-02-03T08:55:46.488Z"
   },
   {
    "duration": 52,
    "start_time": "2022-02-03T08:55:46.517Z"
   },
   {
    "duration": 473,
    "start_time": "2022-02-03T08:55:46.573Z"
   },
   {
    "duration": 20,
    "start_time": "2022-02-03T08:55:47.048Z"
   },
   {
    "duration": 10,
    "start_time": "2022-02-03T08:55:47.071Z"
   },
   {
    "duration": 7,
    "start_time": "2022-02-03T08:55:47.084Z"
   },
   {
    "duration": 4491,
    "start_time": "2022-02-03T08:55:47.093Z"
   },
   {
    "duration": 16,
    "start_time": "2022-02-03T08:55:51.587Z"
   },
   {
    "duration": 15,
    "start_time": "2022-02-03T08:55:51.605Z"
   },
   {
    "duration": 41,
    "start_time": "2022-02-03T08:55:51.623Z"
   },
   {
    "duration": 15,
    "start_time": "2022-02-03T08:55:51.667Z"
   },
   {
    "duration": 39,
    "start_time": "2022-02-03T08:55:51.684Z"
   },
   {
    "duration": 141,
    "start_time": "2022-02-03T08:55:51.726Z"
   },
   {
    "duration": 53,
    "start_time": "2022-02-03T08:55:51.870Z"
   },
   {
    "duration": 3,
    "start_time": "2022-02-03T08:55:51.925Z"
   },
   {
    "duration": 42,
    "start_time": "2022-02-03T08:55:51.930Z"
   },
   {
    "duration": 14,
    "start_time": "2022-02-03T08:55:51.974Z"
   },
   {
    "duration": 3,
    "start_time": "2022-02-03T08:55:51.990Z"
   },
   {
    "duration": 33,
    "start_time": "2022-02-03T08:55:51.996Z"
   },
   {
    "duration": 13,
    "start_time": "2022-02-03T08:55:52.060Z"
   },
   {
    "duration": 8,
    "start_time": "2022-02-03T08:55:52.076Z"
   },
   {
    "duration": 1801,
    "start_time": "2022-02-03T08:55:52.086Z"
   },
   {
    "duration": 118835,
    "start_time": "2022-02-03T08:53:55.055Z"
   },
   {
    "duration": 118832,
    "start_time": "2022-02-03T08:53:55.059Z"
   },
   {
    "duration": 118830,
    "start_time": "2022-02-03T08:53:55.062Z"
   },
   {
    "duration": 118828,
    "start_time": "2022-02-03T08:53:55.065Z"
   },
   {
    "duration": 118827,
    "start_time": "2022-02-03T08:53:55.068Z"
   },
   {
    "duration": 118825,
    "start_time": "2022-02-03T08:53:55.071Z"
   },
   {
    "duration": 118823,
    "start_time": "2022-02-03T08:53:55.074Z"
   },
   {
    "duration": 118822,
    "start_time": "2022-02-03T08:53:55.077Z"
   },
   {
    "duration": 118821,
    "start_time": "2022-02-03T08:53:55.080Z"
   },
   {
    "duration": 118820,
    "start_time": "2022-02-03T08:53:55.083Z"
   },
   {
    "duration": 118819,
    "start_time": "2022-02-03T08:53:55.086Z"
   },
   {
    "duration": 118819,
    "start_time": "2022-02-03T08:53:55.088Z"
   },
   {
    "duration": 118817,
    "start_time": "2022-02-03T08:53:55.091Z"
   },
   {
    "duration": 118815,
    "start_time": "2022-02-03T08:53:55.094Z"
   },
   {
    "duration": 118791,
    "start_time": "2022-02-03T08:53:55.120Z"
   },
   {
    "duration": 118790,
    "start_time": "2022-02-03T08:53:55.123Z"
   },
   {
    "duration": 118788,
    "start_time": "2022-02-03T08:53:55.126Z"
   },
   {
    "duration": 118787,
    "start_time": "2022-02-03T08:53:55.128Z"
   },
   {
    "duration": 118786,
    "start_time": "2022-02-03T08:53:55.131Z"
   },
   {
    "duration": 118784,
    "start_time": "2022-02-03T08:53:55.134Z"
   },
   {
    "duration": 118782,
    "start_time": "2022-02-03T08:53:55.137Z"
   },
   {
    "duration": 118781,
    "start_time": "2022-02-03T08:53:55.140Z"
   },
   {
    "duration": 118779,
    "start_time": "2022-02-03T08:53:55.143Z"
   },
   {
    "duration": 118777,
    "start_time": "2022-02-03T08:53:55.146Z"
   },
   {
    "duration": 118776,
    "start_time": "2022-02-03T08:53:55.149Z"
   },
   {
    "duration": 118775,
    "start_time": "2022-02-03T08:53:55.151Z"
   },
   {
    "duration": 118805,
    "start_time": "2022-02-03T08:53:55.154Z"
   },
   {
    "duration": 118804,
    "start_time": "2022-02-03T08:53:55.157Z"
   },
   {
    "duration": 118802,
    "start_time": "2022-02-03T08:53:55.160Z"
   },
   {
    "duration": 118801,
    "start_time": "2022-02-03T08:53:55.162Z"
   },
   {
    "duration": 118800,
    "start_time": "2022-02-03T08:53:55.165Z"
   },
   {
    "duration": 118798,
    "start_time": "2022-02-03T08:53:55.168Z"
   },
   {
    "duration": 118797,
    "start_time": "2022-02-03T08:53:55.171Z"
   },
   {
    "duration": 118795,
    "start_time": "2022-02-03T08:53:55.174Z"
   },
   {
    "duration": 118793,
    "start_time": "2022-02-03T08:53:55.177Z"
   },
   {
    "duration": 16,
    "start_time": "2022-02-03T08:58:36.687Z"
   },
   {
    "duration": 79,
    "start_time": "2022-02-03T08:58:39.327Z"
   },
   {
    "duration": 17,
    "start_time": "2022-02-03T08:58:46.839Z"
   },
   {
    "duration": 1107,
    "start_time": "2022-02-03T08:58:57.654Z"
   },
   {
    "duration": 527,
    "start_time": "2022-02-03T08:58:58.767Z"
   },
   {
    "duration": 20,
    "start_time": "2022-02-03T08:58:59.297Z"
   },
   {
    "duration": 16,
    "start_time": "2022-02-03T08:58:59.320Z"
   },
   {
    "duration": 25,
    "start_time": "2022-02-03T08:58:59.339Z"
   },
   {
    "duration": 13,
    "start_time": "2022-02-03T08:58:59.366Z"
   },
   {
    "duration": 39,
    "start_time": "2022-02-03T08:58:59.382Z"
   },
   {
    "duration": 464,
    "start_time": "2022-02-03T08:58:59.425Z"
   },
   {
    "duration": 470,
    "start_time": "2022-02-03T08:58:59.892Z"
   },
   {
    "duration": 13,
    "start_time": "2022-02-03T08:59:00.365Z"
   },
   {
    "duration": 478,
    "start_time": "2022-02-03T08:59:00.381Z"
   },
   {
    "duration": 31,
    "start_time": "2022-02-03T08:59:00.861Z"
   },
   {
    "duration": 69,
    "start_time": "2022-02-03T08:59:00.894Z"
   },
   {
    "duration": 511,
    "start_time": "2022-02-03T08:59:00.966Z"
   },
   {
    "duration": 12,
    "start_time": "2022-02-03T08:59:01.480Z"
   },
   {
    "duration": 21,
    "start_time": "2022-02-03T08:59:01.494Z"
   },
   {
    "duration": 43,
    "start_time": "2022-02-03T08:59:01.518Z"
   },
   {
    "duration": 23,
    "start_time": "2022-02-03T08:59:01.564Z"
   },
   {
    "duration": 13,
    "start_time": "2022-02-03T08:59:01.590Z"
   },
   {
    "duration": 472,
    "start_time": "2022-02-03T08:59:01.606Z"
   },
   {
    "duration": 27,
    "start_time": "2022-02-03T08:59:02.081Z"
   },
   {
    "duration": 58,
    "start_time": "2022-02-03T08:59:02.110Z"
   },
   {
    "duration": 462,
    "start_time": "2022-02-03T08:59:02.175Z"
   },
   {
    "duration": 20,
    "start_time": "2022-02-03T08:59:02.641Z"
   },
   {
    "duration": 12,
    "start_time": "2022-02-03T08:59:02.664Z"
   },
   {
    "duration": 10,
    "start_time": "2022-02-03T08:59:02.679Z"
   },
   {
    "duration": 5648,
    "start_time": "2022-02-03T08:59:02.692Z"
   },
   {
    "duration": 27,
    "start_time": "2022-02-03T08:59:08.342Z"
   },
   {
    "duration": 15,
    "start_time": "2022-02-03T08:59:08.372Z"
   },
   {
    "duration": 12,
    "start_time": "2022-02-03T08:59:08.390Z"
   },
   {
    "duration": 15,
    "start_time": "2022-02-03T08:59:08.404Z"
   },
   {
    "duration": 64,
    "start_time": "2022-02-03T08:59:08.422Z"
   },
   {
    "duration": 137,
    "start_time": "2022-02-03T08:59:08.489Z"
   },
   {
    "duration": 64,
    "start_time": "2022-02-03T08:59:08.628Z"
   },
   {
    "duration": 3,
    "start_time": "2022-02-03T08:59:08.695Z"
   },
   {
    "duration": 21,
    "start_time": "2022-02-03T08:59:08.700Z"
   },
   {
    "duration": 42,
    "start_time": "2022-02-03T08:59:08.723Z"
   },
   {
    "duration": 3,
    "start_time": "2022-02-03T08:59:08.768Z"
   },
   {
    "duration": 34,
    "start_time": "2022-02-03T08:59:08.773Z"
   },
   {
    "duration": 13,
    "start_time": "2022-02-03T08:59:08.810Z"
   },
   {
    "duration": 33,
    "start_time": "2022-02-03T08:59:08.826Z"
   },
   {
    "duration": 1611,
    "start_time": "2022-02-03T08:59:08.863Z"
   },
   {
    "duration": 118834,
    "start_time": "2022-02-03T08:57:11.643Z"
   },
   {
    "duration": 118833,
    "start_time": "2022-02-03T08:57:11.646Z"
   },
   {
    "duration": 118830,
    "start_time": "2022-02-03T08:57:11.650Z"
   },
   {
    "duration": 118817,
    "start_time": "2022-02-03T08:57:11.665Z"
   },
   {
    "duration": 118804,
    "start_time": "2022-02-03T08:57:11.679Z"
   },
   {
    "duration": 118800,
    "start_time": "2022-02-03T08:57:11.684Z"
   },
   {
    "duration": 118792,
    "start_time": "2022-02-03T08:57:11.694Z"
   },
   {
    "duration": 118787,
    "start_time": "2022-02-03T08:57:11.701Z"
   },
   {
    "duration": 118779,
    "start_time": "2022-02-03T08:57:11.711Z"
   },
   {
    "duration": 118773,
    "start_time": "2022-02-03T08:57:11.718Z"
   },
   {
    "duration": 118765,
    "start_time": "2022-02-03T08:57:11.728Z"
   },
   {
    "duration": 118759,
    "start_time": "2022-02-03T08:57:11.735Z"
   },
   {
    "duration": 118751,
    "start_time": "2022-02-03T08:57:11.745Z"
   },
   {
    "duration": 118745,
    "start_time": "2022-02-03T08:57:11.752Z"
   },
   {
    "duration": 118737,
    "start_time": "2022-02-03T08:57:11.762Z"
   },
   {
    "duration": 118732,
    "start_time": "2022-02-03T08:57:11.768Z"
   },
   {
    "duration": 118724,
    "start_time": "2022-02-03T08:57:11.778Z"
   },
   {
    "duration": 118719,
    "start_time": "2022-02-03T08:57:11.785Z"
   },
   {
    "duration": 118710,
    "start_time": "2022-02-03T08:57:11.795Z"
   },
   {
    "duration": 118705,
    "start_time": "2022-02-03T08:57:11.801Z"
   },
   {
    "duration": 118697,
    "start_time": "2022-02-03T08:57:11.811Z"
   },
   {
    "duration": 118696,
    "start_time": "2022-02-03T08:57:11.814Z"
   },
   {
    "duration": 118665,
    "start_time": "2022-02-03T08:57:11.846Z"
   },
   {
    "duration": 118661,
    "start_time": "2022-02-03T08:57:11.852Z"
   },
   {
    "duration": 118700,
    "start_time": "2022-02-03T08:57:11.862Z"
   },
   {
    "duration": 118683,
    "start_time": "2022-02-03T08:57:11.881Z"
   },
   {
    "duration": 118672,
    "start_time": "2022-02-03T08:57:11.893Z"
   },
   {
    "duration": 118663,
    "start_time": "2022-02-03T08:57:11.904Z"
   },
   {
    "duration": 118655,
    "start_time": "2022-02-03T08:57:11.913Z"
   },
   {
    "duration": 118651,
    "start_time": "2022-02-03T08:57:11.919Z"
   },
   {
    "duration": 118635,
    "start_time": "2022-02-03T08:57:11.936Z"
   },
   {
    "duration": 118627,
    "start_time": "2022-02-03T08:57:11.945Z"
   },
   {
    "duration": 118622,
    "start_time": "2022-02-03T08:57:11.952Z"
   },
   {
    "duration": 118613,
    "start_time": "2022-02-03T08:57:11.962Z"
   },
   {
    "duration": 118607,
    "start_time": "2022-02-03T08:57:11.969Z"
   },
   {
    "duration": 12,
    "start_time": "2022-02-03T08:59:28.359Z"
   },
   {
    "duration": 17,
    "start_time": "2022-02-03T08:59:29.703Z"
   },
   {
    "duration": 4,
    "start_time": "2022-02-03T08:59:33.599Z"
   },
   {
    "duration": 906,
    "start_time": "2022-02-03T08:59:43.249Z"
   },
   {
    "duration": 525,
    "start_time": "2022-02-03T08:59:44.160Z"
   },
   {
    "duration": 21,
    "start_time": "2022-02-03T08:59:44.691Z"
   },
   {
    "duration": 11,
    "start_time": "2022-02-03T08:59:44.715Z"
   },
   {
    "duration": 31,
    "start_time": "2022-02-03T08:59:44.728Z"
   },
   {
    "duration": 14,
    "start_time": "2022-02-03T08:59:44.761Z"
   },
   {
    "duration": 27,
    "start_time": "2022-02-03T08:59:44.778Z"
   },
   {
    "duration": 492,
    "start_time": "2022-02-03T08:59:44.808Z"
   },
   {
    "duration": 460,
    "start_time": "2022-02-03T08:59:45.302Z"
   },
   {
    "duration": 13,
    "start_time": "2022-02-03T08:59:45.765Z"
   },
   {
    "duration": 610,
    "start_time": "2022-02-03T08:59:45.781Z"
   },
   {
    "duration": 31,
    "start_time": "2022-02-03T08:59:46.394Z"
   },
   {
    "duration": 59,
    "start_time": "2022-02-03T08:59:46.427Z"
   },
   {
    "duration": 615,
    "start_time": "2022-02-03T08:59:46.489Z"
   },
   {
    "duration": 12,
    "start_time": "2022-02-03T08:59:47.106Z"
   },
   {
    "duration": 53,
    "start_time": "2022-02-03T08:59:47.120Z"
   },
   {
    "duration": 13,
    "start_time": "2022-02-03T08:59:47.176Z"
   },
   {
    "duration": 21,
    "start_time": "2022-02-03T08:59:47.191Z"
   },
   {
    "duration": 45,
    "start_time": "2022-02-03T08:59:47.215Z"
   },
   {
    "duration": 457,
    "start_time": "2022-02-03T08:59:47.263Z"
   },
   {
    "duration": 39,
    "start_time": "2022-02-03T08:59:47.722Z"
   },
   {
    "duration": 34,
    "start_time": "2022-02-03T08:59:47.767Z"
   },
   {
    "duration": 465,
    "start_time": "2022-02-03T08:59:47.805Z"
   },
   {
    "duration": 13,
    "start_time": "2022-02-03T08:59:48.272Z"
   },
   {
    "duration": 9,
    "start_time": "2022-02-03T08:59:48.287Z"
   },
   {
    "duration": 7,
    "start_time": "2022-02-03T08:59:48.299Z"
   },
   {
    "duration": 4620,
    "start_time": "2022-02-03T08:59:48.309Z"
   },
   {
    "duration": 32,
    "start_time": "2022-02-03T08:59:52.931Z"
   },
   {
    "duration": 19,
    "start_time": "2022-02-03T08:59:52.965Z"
   },
   {
    "duration": 13,
    "start_time": "2022-02-03T08:59:52.987Z"
   },
   {
    "duration": 14,
    "start_time": "2022-02-03T08:59:53.003Z"
   },
   {
    "duration": 70,
    "start_time": "2022-02-03T08:59:53.019Z"
   },
   {
    "duration": 138,
    "start_time": "2022-02-03T08:59:53.091Z"
   },
   {
    "duration": 74,
    "start_time": "2022-02-03T08:59:53.232Z"
   },
   {
    "duration": 4,
    "start_time": "2022-02-03T08:59:53.308Z"
   },
   {
    "duration": 18,
    "start_time": "2022-02-03T08:59:53.314Z"
   },
   {
    "duration": 46,
    "start_time": "2022-02-03T08:59:53.335Z"
   },
   {
    "duration": 4,
    "start_time": "2022-02-03T08:59:53.384Z"
   },
   {
    "duration": 16,
    "start_time": "2022-02-03T08:59:53.390Z"
   },
   {
    "duration": 16,
    "start_time": "2022-02-03T08:59:53.408Z"
   },
   {
    "duration": 5,
    "start_time": "2022-02-03T08:59:53.426Z"
   },
   {
    "duration": 9,
    "start_time": "2022-02-03T08:59:53.468Z"
   },
   {
    "duration": 24,
    "start_time": "2022-02-03T08:59:53.480Z"
   },
   {
    "duration": 12,
    "start_time": "2022-02-03T08:59:53.506Z"
   },
   {
    "duration": 45,
    "start_time": "2022-02-03T08:59:53.521Z"
   },
   {
    "duration": 15,
    "start_time": "2022-02-03T08:59:53.569Z"
   },
   {
    "duration": 19,
    "start_time": "2022-02-03T08:59:53.587Z"
   },
   {
    "duration": 7,
    "start_time": "2022-02-03T08:59:53.608Z"
   },
   {
    "duration": 46,
    "start_time": "2022-02-03T08:59:53.617Z"
   },
   {
    "duration": 1855,
    "start_time": "2022-02-03T08:59:53.665Z"
   },
   {
    "duration": 22,
    "start_time": "2022-02-03T08:59:55.523Z"
   },
   {
    "duration": 9,
    "start_time": "2022-02-03T08:59:55.559Z"
   },
   {
    "duration": 31,
    "start_time": "2022-02-03T08:59:55.571Z"
   },
   {
    "duration": 7,
    "start_time": "2022-02-03T08:59:55.605Z"
   },
   {
    "duration": 458,
    "start_time": "2022-02-03T08:59:55.614Z"
   },
   {
    "duration": 426,
    "start_time": "2022-02-03T08:59:56.074Z"
   },
   {
    "duration": 444,
    "start_time": "2022-02-03T08:59:56.503Z"
   },
   {
    "duration": 442,
    "start_time": "2022-02-03T08:59:56.949Z"
   },
   {
    "duration": 21,
    "start_time": "2022-02-03T08:59:57.394Z"
   },
   {
    "duration": 257,
    "start_time": "2022-02-03T08:59:57.417Z"
   },
   {
    "duration": 357,
    "start_time": "2022-02-03T08:59:57.677Z"
   },
   {
    "duration": 482,
    "start_time": "2022-02-03T08:59:58.037Z"
   },
   {
    "duration": 7,
    "start_time": "2022-02-03T08:59:58.521Z"
   },
   {
    "duration": 8,
    "start_time": "2022-02-03T08:59:58.531Z"
   },
   {
    "duration": 507,
    "start_time": "2022-02-03T08:59:58.559Z"
   },
   {
    "duration": 22,
    "start_time": "2022-02-03T08:59:59.068Z"
   },
   {
    "duration": 5,
    "start_time": "2022-02-03T08:59:59.098Z"
   },
   {
    "duration": 6,
    "start_time": "2022-02-03T08:59:59.106Z"
   },
   {
    "duration": 10,
    "start_time": "2022-02-03T08:59:59.115Z"
   },
   {
    "duration": 8,
    "start_time": "2022-02-03T08:59:59.160Z"
   },
   {
    "duration": 11,
    "start_time": "2022-02-03T08:59:59.176Z"
   },
   {
    "duration": 10,
    "start_time": "2022-02-03T08:59:59.190Z"
   },
   {
    "duration": 10,
    "start_time": "2022-02-03T08:59:59.202Z"
   },
   {
    "duration": 8,
    "start_time": "2022-02-03T08:59:59.214Z"
   },
   {
    "duration": 51,
    "start_time": "2022-02-03T08:59:59.224Z"
   },
   {
    "duration": 26,
    "start_time": "2022-02-03T08:59:59.278Z"
   },
   {
    "duration": 25,
    "start_time": "2022-02-03T08:59:59.306Z"
   },
   {
    "duration": 409,
    "start_time": "2022-02-03T09:09:47.696Z"
   },
   {
    "duration": 471,
    "start_time": "2022-02-03T09:10:19.663Z"
   },
   {
    "duration": 402,
    "start_time": "2022-02-03T09:10:31.792Z"
   },
   {
    "duration": 418,
    "start_time": "2022-02-03T09:10:52.464Z"
   },
   {
    "duration": 429,
    "start_time": "2022-02-03T09:11:23.751Z"
   },
   {
    "duration": 24,
    "start_time": "2022-02-03T09:16:42.233Z"
   },
   {
    "duration": 21,
    "start_time": "2022-02-03T10:08:05.444Z"
   },
   {
    "duration": 547,
    "start_time": "2022-02-03T10:12:37.670Z"
   },
   {
    "duration": 452,
    "start_time": "2022-02-03T10:13:33.543Z"
   },
   {
    "duration": 350,
    "start_time": "2022-02-03T10:21:58.234Z"
   },
   {
    "duration": 26,
    "start_time": "2022-02-03T10:26:28.980Z"
   },
   {
    "duration": 431,
    "start_time": "2022-02-03T10:26:56.332Z"
   },
   {
    "duration": 21,
    "start_time": "2022-02-03T10:29:28.892Z"
   },
   {
    "duration": 417,
    "start_time": "2022-02-03T10:31:20.445Z"
   },
   {
    "duration": 442,
    "start_time": "2022-02-03T10:32:38.117Z"
   },
   {
    "duration": 440,
    "start_time": "2022-02-03T10:32:50.069Z"
   },
   {
    "duration": 424,
    "start_time": "2022-02-03T10:34:42.117Z"
   },
   {
    "duration": 409,
    "start_time": "2022-02-03T10:34:43.206Z"
   },
   {
    "duration": 434,
    "start_time": "2022-02-03T10:38:13.103Z"
   },
   {
    "duration": 460,
    "start_time": "2022-02-03T10:38:14.799Z"
   },
   {
    "duration": 11,
    "start_time": "2022-02-03T10:38:51.871Z"
   },
   {
    "duration": 583,
    "start_time": "2022-02-03T10:39:58.728Z"
   },
   {
    "duration": 429,
    "start_time": "2022-02-03T10:40:19.480Z"
   },
   {
    "duration": 516,
    "start_time": "2022-02-03T10:40:31.392Z"
   },
   {
    "duration": 3322,
    "start_time": "2022-02-03T10:40:40.888Z"
   },
   {
    "duration": 453,
    "start_time": "2022-02-03T10:40:55.616Z"
   },
   {
    "duration": 452,
    "start_time": "2022-02-03T10:41:07.136Z"
   },
   {
    "duration": 444,
    "start_time": "2022-02-03T10:41:16.361Z"
   },
   {
    "duration": 122,
    "start_time": "2022-02-03T10:41:53.633Z"
   },
   {
    "duration": 213,
    "start_time": "2022-02-03T10:43:06.297Z"
   },
   {
    "duration": 121,
    "start_time": "2022-02-03T10:43:10.673Z"
   },
   {
    "duration": 122,
    "start_time": "2022-02-03T10:43:16.345Z"
   },
   {
    "duration": 131,
    "start_time": "2022-02-03T10:43:43.321Z"
   },
   {
    "duration": 4,
    "start_time": "2022-02-03T10:44:14.321Z"
   },
   {
    "duration": 132,
    "start_time": "2022-02-03T10:45:22.378Z"
   },
   {
    "duration": 124,
    "start_time": "2022-02-03T10:45:27.769Z"
   },
   {
    "duration": 1564,
    "start_time": "2022-02-03T10:47:13.372Z"
   },
   {
    "duration": 547,
    "start_time": "2022-02-03T10:47:14.938Z"
   },
   {
    "duration": 20,
    "start_time": "2022-02-03T10:47:15.488Z"
   },
   {
    "duration": 15,
    "start_time": "2022-02-03T10:47:15.510Z"
   },
   {
    "duration": 7,
    "start_time": "2022-02-03T10:47:15.527Z"
   },
   {
    "duration": 28,
    "start_time": "2022-02-03T10:47:15.536Z"
   },
   {
    "duration": 26,
    "start_time": "2022-02-03T10:47:15.567Z"
   },
   {
    "duration": 478,
    "start_time": "2022-02-03T10:47:15.597Z"
   },
   {
    "duration": 464,
    "start_time": "2022-02-03T10:47:16.079Z"
   },
   {
    "duration": 22,
    "start_time": "2022-02-03T10:47:16.547Z"
   },
   {
    "duration": 475,
    "start_time": "2022-02-03T10:47:16.572Z"
   },
   {
    "duration": 35,
    "start_time": "2022-02-03T10:47:17.050Z"
   },
   {
    "duration": 40,
    "start_time": "2022-02-03T10:47:17.088Z"
   },
   {
    "duration": 461,
    "start_time": "2022-02-03T10:47:17.131Z"
   },
   {
    "duration": 10,
    "start_time": "2022-02-03T10:47:17.595Z"
   },
   {
    "duration": 19,
    "start_time": "2022-02-03T10:47:17.608Z"
   },
   {
    "duration": 37,
    "start_time": "2022-02-03T10:47:17.630Z"
   },
   {
    "duration": 25,
    "start_time": "2022-02-03T10:47:17.669Z"
   },
   {
    "duration": 12,
    "start_time": "2022-02-03T10:47:17.696Z"
   },
   {
    "duration": 459,
    "start_time": "2022-02-03T10:47:17.711Z"
   },
   {
    "duration": 26,
    "start_time": "2022-02-03T10:47:18.172Z"
   },
   {
    "duration": 32,
    "start_time": "2022-02-03T10:47:18.200Z"
   },
   {
    "duration": 447,
    "start_time": "2022-02-03T10:47:18.258Z"
   },
   {
    "duration": 12,
    "start_time": "2022-02-03T10:47:18.708Z"
   },
   {
    "duration": 10,
    "start_time": "2022-02-03T10:47:18.723Z"
   },
   {
    "duration": 7,
    "start_time": "2022-02-03T10:47:18.759Z"
   },
   {
    "duration": 4430,
    "start_time": "2022-02-03T10:47:18.768Z"
   },
   {
    "duration": 17,
    "start_time": "2022-02-03T10:47:23.201Z"
   },
   {
    "duration": 19,
    "start_time": "2022-02-03T10:47:23.220Z"
   },
   {
    "duration": 29,
    "start_time": "2022-02-03T10:47:23.241Z"
   },
   {
    "duration": 15,
    "start_time": "2022-02-03T10:47:23.272Z"
   },
   {
    "duration": 38,
    "start_time": "2022-02-03T10:47:23.289Z"
   },
   {
    "duration": 147,
    "start_time": "2022-02-03T10:47:23.329Z"
   },
   {
    "duration": 131,
    "start_time": "2022-02-03T10:47:23.479Z"
   },
   {
    "duration": 3,
    "start_time": "2022-02-03T10:47:23.613Z"
   },
   {
    "duration": 18,
    "start_time": "2022-02-03T10:47:23.618Z"
   },
   {
    "duration": 32,
    "start_time": "2022-02-03T10:47:23.638Z"
   },
   {
    "duration": 3,
    "start_time": "2022-02-03T10:47:23.672Z"
   },
   {
    "duration": 12,
    "start_time": "2022-02-03T10:47:23.677Z"
   },
   {
    "duration": 16,
    "start_time": "2022-02-03T10:47:23.691Z"
   },
   {
    "duration": 3,
    "start_time": "2022-02-03T10:47:23.709Z"
   },
   {
    "duration": 47,
    "start_time": "2022-02-03T10:47:23.714Z"
   },
   {
    "duration": 24,
    "start_time": "2022-02-03T10:47:23.763Z"
   },
   {
    "duration": 9,
    "start_time": "2022-02-03T10:47:23.789Z"
   },
   {
    "duration": 12,
    "start_time": "2022-02-03T10:47:23.801Z"
   },
   {
    "duration": 48,
    "start_time": "2022-02-03T10:47:23.815Z"
   },
   {
    "duration": 17,
    "start_time": "2022-02-03T10:47:23.866Z"
   },
   {
    "duration": 6,
    "start_time": "2022-02-03T10:47:23.885Z"
   },
   {
    "duration": 10,
    "start_time": "2022-02-03T10:47:23.893Z"
   },
   {
    "duration": 1829,
    "start_time": "2022-02-03T10:47:23.906Z"
   },
   {
    "duration": 26,
    "start_time": "2022-02-03T10:47:25.738Z"
   },
   {
    "duration": 6,
    "start_time": "2022-02-03T10:47:25.767Z"
   },
   {
    "duration": 24,
    "start_time": "2022-02-03T10:47:25.775Z"
   },
   {
    "duration": 6,
    "start_time": "2022-02-03T10:47:25.801Z"
   },
   {
    "duration": 473,
    "start_time": "2022-02-03T10:47:25.809Z"
   },
   {
    "duration": 417,
    "start_time": "2022-02-03T10:47:26.285Z"
   },
   {
    "duration": 447,
    "start_time": "2022-02-03T10:47:26.705Z"
   },
   {
    "duration": 555,
    "start_time": "2022-02-03T10:47:27.159Z"
   },
   {
    "duration": 18,
    "start_time": "2022-02-03T10:47:27.716Z"
   },
   {
    "duration": 297,
    "start_time": "2022-02-03T10:47:27.736Z"
   },
   {
    "duration": 369,
    "start_time": "2022-02-03T10:47:28.036Z"
   },
   {
    "duration": 481,
    "start_time": "2022-02-03T10:47:28.408Z"
   },
   {
    "duration": 21,
    "start_time": "2022-02-03T10:47:28.892Z"
   },
   {
    "duration": 545,
    "start_time": "2022-02-03T10:47:28.916Z"
   },
   {
    "duration": 440,
    "start_time": "2022-02-03T10:47:29.464Z"
   },
   {
    "duration": 457,
    "start_time": "2022-02-03T10:47:29.907Z"
   },
   {
    "duration": 441,
    "start_time": "2022-02-03T10:47:30.367Z"
   },
   {
    "duration": 472,
    "start_time": "2022-02-03T10:47:30.816Z"
   },
   {
    "duration": 450,
    "start_time": "2022-02-03T10:47:31.291Z"
   },
   {
    "duration": 16,
    "start_time": "2022-02-03T10:47:31.743Z"
   },
   {
    "duration": 8,
    "start_time": "2022-02-03T10:47:31.762Z"
   },
   {
    "duration": 9,
    "start_time": "2022-02-03T10:47:31.773Z"
   },
   {
    "duration": 19,
    "start_time": "2022-02-03T10:47:31.785Z"
   },
   {
    "duration": 6,
    "start_time": "2022-02-03T10:47:31.807Z"
   },
   {
    "duration": 46,
    "start_time": "2022-02-03T10:47:31.815Z"
   },
   {
    "duration": 11,
    "start_time": "2022-02-03T10:47:31.864Z"
   },
   {
    "duration": 8,
    "start_time": "2022-02-03T10:47:31.877Z"
   },
   {
    "duration": 9,
    "start_time": "2022-02-03T10:47:31.888Z"
   },
   {
    "duration": 10,
    "start_time": "2022-02-03T10:47:31.900Z"
   },
   {
    "duration": 52,
    "start_time": "2022-02-03T10:47:31.913Z"
   },
   {
    "duration": 9,
    "start_time": "2022-02-03T10:47:31.967Z"
   },
   {
    "duration": 13,
    "start_time": "2022-02-03T10:47:31.979Z"
   },
   {
    "duration": 27,
    "start_time": "2022-02-03T10:47:31.994Z"
   },
   {
    "duration": 60,
    "start_time": "2022-02-03T10:47:32.024Z"
   },
   {
    "duration": 1067,
    "start_time": "2022-02-04T06:58:34.018Z"
   },
   {
    "duration": 394,
    "start_time": "2022-02-04T06:58:35.087Z"
   },
   {
    "duration": 13,
    "start_time": "2022-02-04T06:58:35.483Z"
   },
   {
    "duration": 9,
    "start_time": "2022-02-04T06:58:35.498Z"
   },
   {
    "duration": 10,
    "start_time": "2022-02-04T06:58:35.509Z"
   },
   {
    "duration": 23,
    "start_time": "2022-02-04T06:58:35.520Z"
   },
   {
    "duration": 22,
    "start_time": "2022-02-04T06:58:35.544Z"
   },
   {
    "duration": 296,
    "start_time": "2022-02-04T06:58:35.568Z"
   },
   {
    "duration": 300,
    "start_time": "2022-02-04T06:58:35.866Z"
   },
   {
    "duration": 9,
    "start_time": "2022-02-04T06:58:36.167Z"
   },
   {
    "duration": 312,
    "start_time": "2022-02-04T06:58:36.178Z"
   },
   {
    "duration": 24,
    "start_time": "2022-02-04T06:58:36.492Z"
   },
   {
    "duration": 30,
    "start_time": "2022-02-04T06:58:36.518Z"
   },
   {
    "duration": 295,
    "start_time": "2022-02-04T06:58:36.550Z"
   },
   {
    "duration": 7,
    "start_time": "2022-02-04T06:58:36.846Z"
   },
   {
    "duration": 15,
    "start_time": "2022-02-04T06:58:36.855Z"
   },
   {
    "duration": 9,
    "start_time": "2022-02-04T06:58:36.871Z"
   },
   {
    "duration": 39,
    "start_time": "2022-02-04T06:58:36.881Z"
   },
   {
    "duration": 10,
    "start_time": "2022-02-04T06:58:36.922Z"
   },
   {
    "duration": 295,
    "start_time": "2022-02-04T06:58:36.933Z"
   },
   {
    "duration": 17,
    "start_time": "2022-02-04T06:58:37.229Z"
   },
   {
    "duration": 25,
    "start_time": "2022-02-04T06:58:37.247Z"
   },
   {
    "duration": 315,
    "start_time": "2022-02-04T06:58:37.276Z"
   },
   {
    "duration": 7,
    "start_time": "2022-02-04T06:58:37.594Z"
   },
   {
    "duration": 16,
    "start_time": "2022-02-04T06:58:37.603Z"
   },
   {
    "duration": 6,
    "start_time": "2022-02-04T06:58:37.621Z"
   },
   {
    "duration": 3134,
    "start_time": "2022-02-04T06:58:37.629Z"
   },
   {
    "duration": 12,
    "start_time": "2022-02-04T06:58:40.765Z"
   },
   {
    "duration": 11,
    "start_time": "2022-02-04T06:58:40.779Z"
   },
   {
    "duration": 21,
    "start_time": "2022-02-04T06:58:40.792Z"
   },
   {
    "duration": 11,
    "start_time": "2022-02-04T06:58:40.815Z"
   },
   {
    "duration": 30,
    "start_time": "2022-02-04T06:58:40.827Z"
   },
   {
    "duration": 96,
    "start_time": "2022-02-04T06:58:40.859Z"
   },
   {
    "duration": 96,
    "start_time": "2022-02-04T06:58:40.957Z"
   },
   {
    "duration": 2,
    "start_time": "2022-02-04T06:58:41.055Z"
   },
   {
    "duration": 13,
    "start_time": "2022-02-04T06:58:41.058Z"
   },
   {
    "duration": 9,
    "start_time": "2022-02-04T06:58:41.073Z"
   },
   {
    "duration": 1,
    "start_time": "2022-02-04T06:58:41.084Z"
   },
   {
    "duration": 30,
    "start_time": "2022-02-04T06:58:41.087Z"
   },
   {
    "duration": 10,
    "start_time": "2022-02-04T06:58:41.118Z"
   },
   {
    "duration": 2,
    "start_time": "2022-02-04T06:58:41.130Z"
   },
   {
    "duration": 6,
    "start_time": "2022-02-04T06:58:41.133Z"
   },
   {
    "duration": 16,
    "start_time": "2022-02-04T06:58:41.141Z"
   },
   {
    "duration": 6,
    "start_time": "2022-02-04T06:58:41.159Z"
   },
   {
    "duration": 7,
    "start_time": "2022-02-04T06:58:41.167Z"
   },
   {
    "duration": 41,
    "start_time": "2022-02-04T06:58:41.176Z"
   },
   {
    "duration": 11,
    "start_time": "2022-02-04T06:58:41.219Z"
   },
   {
    "duration": 4,
    "start_time": "2022-02-04T06:58:41.232Z"
   },
   {
    "duration": 7,
    "start_time": "2022-02-04T06:58:41.238Z"
   },
   {
    "duration": 973,
    "start_time": "2022-02-04T06:58:41.246Z"
   },
   {
    "duration": 15,
    "start_time": "2022-02-04T06:58:42.220Z"
   },
   {
    "duration": 5,
    "start_time": "2022-02-04T06:58:42.237Z"
   },
   {
    "duration": 17,
    "start_time": "2022-02-04T06:58:42.244Z"
   },
   {
    "duration": 4,
    "start_time": "2022-02-04T06:58:42.263Z"
   },
   {
    "duration": 297,
    "start_time": "2022-02-04T06:58:42.268Z"
   },
   {
    "duration": 274,
    "start_time": "2022-02-04T06:58:42.567Z"
   },
   {
    "duration": 281,
    "start_time": "2022-02-04T06:58:42.843Z"
   },
   {
    "duration": 293,
    "start_time": "2022-02-04T06:58:43.125Z"
   },
   {
    "duration": 14,
    "start_time": "2022-02-04T06:58:43.420Z"
   },
   {
    "duration": 162,
    "start_time": "2022-02-04T06:58:43.435Z"
   },
   {
    "duration": 275,
    "start_time": "2022-02-04T06:58:43.598Z"
   },
   {
    "duration": 304,
    "start_time": "2022-02-04T06:58:43.875Z"
   },
   {
    "duration": 14,
    "start_time": "2022-02-04T06:58:44.181Z"
   },
   {
    "duration": 370,
    "start_time": "2022-02-04T06:58:44.196Z"
   },
   {
    "duration": 297,
    "start_time": "2022-02-04T06:58:44.567Z"
   },
   {
    "duration": 278,
    "start_time": "2022-02-04T06:58:44.865Z"
   },
   {
    "duration": 279,
    "start_time": "2022-02-04T06:58:45.145Z"
   },
   {
    "duration": 292,
    "start_time": "2022-02-04T06:58:45.429Z"
   },
   {
    "duration": 277,
    "start_time": "2022-02-04T06:58:45.723Z"
   },
   {
    "duration": 10,
    "start_time": "2022-02-04T06:58:46.002Z"
   },
   {
    "duration": 4,
    "start_time": "2022-02-04T06:58:46.013Z"
   },
   {
    "duration": 8,
    "start_time": "2022-02-04T06:58:46.019Z"
   },
   {
    "duration": 13,
    "start_time": "2022-02-04T06:58:46.028Z"
   },
   {
    "duration": 5,
    "start_time": "2022-02-04T06:58:46.043Z"
   },
   {
    "duration": 5,
    "start_time": "2022-02-04T06:58:46.050Z"
   },
   {
    "duration": 7,
    "start_time": "2022-02-04T06:58:46.056Z"
   },
   {
    "duration": 7,
    "start_time": "2022-02-04T06:58:46.064Z"
   },
   {
    "duration": 14,
    "start_time": "2022-02-04T06:58:46.072Z"
   },
   {
    "duration": 32,
    "start_time": "2022-02-04T06:58:46.088Z"
   },
   {
    "duration": 15,
    "start_time": "2022-02-04T06:58:46.121Z"
   },
   {
    "duration": 9,
    "start_time": "2022-02-04T06:58:46.137Z"
   },
   {
    "duration": 16,
    "start_time": "2022-02-04T06:58:46.148Z"
   },
   {
    "duration": 21,
    "start_time": "2022-02-04T06:58:46.166Z"
   },
   {
    "duration": 16,
    "start_time": "2022-02-04T06:58:46.189Z"
   },
   {
    "duration": 6,
    "start_time": "2022-02-04T07:13:21.197Z"
   },
   {
    "duration": 4,
    "start_time": "2022-02-04T07:13:27.500Z"
   }
  ],
  "kernelspec": {
   "display_name": "Python 3",
   "language": "python",
   "name": "python3"
  },
  "language_info": {
   "codemirror_mode": {
    "name": "ipython",
    "version": 3
   },
   "file_extension": ".py",
   "mimetype": "text/x-python",
   "name": "python",
   "nbconvert_exporter": "python",
   "pygments_lexer": "ipython3",
   "version": "3.9.1"
  },
  "toc": {
   "base_numbering": 1,
   "nav_menu": {},
   "number_sections": true,
   "sideBar": true,
   "skip_h1_title": true,
   "title_cell": "Table of Contents",
   "title_sidebar": "Contents",
   "toc_cell": false,
   "toc_position": {},
   "toc_section_display": true,
   "toc_window_display": false
  }
 },
 "nbformat": 4,
 "nbformat_minor": 2
}
